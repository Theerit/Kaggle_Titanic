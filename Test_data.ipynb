{
 "cells": [
  {
   "cell_type": "markdown",
   "metadata": {},
   "source": [
    "## Test Data Prediction\n",
    "This notebook will be used to open test.csv file and use designated model to predict the test data for kaggle submission."
   ]
  },
  {
   "cell_type": "code",
   "execution_count": 1,
   "metadata": {
    "collapsed": false
   },
   "outputs": [
    {
     "name": "stdout",
     "output_type": "stream",
     "text": [
      "  CV_check\n",
      "  cost1/feat1/wip\n",
      "  cost1/feat2/wip\n",
      "  cost1/wip\n",
      "  feat1/score1/wip\n",
      "  feat1/wip\n",
      "  feat2/score1/wip\n",
      "  feat2/wip\n",
      "  feat3/wip\n",
      "  feat4/wip\n",
      "  feat5/wip\n",
      "* feat6/wip\n",
      "  master\n"
     ]
    }
   ],
   "source": [
    "%%bash\n",
    "git branch"
   ]
  },
  {
   "cell_type": "code",
   "execution_count": 5,
   "metadata": {
    "collapsed": false
   },
   "outputs": [
    {
     "name": "stdout",
     "output_type": "stream",
     "text": [
      "[feat6/wip 60a3467] Modified code for testing and creating submission file\n",
      " 1 file changed, 11 insertions(+), 9 deletions(-)\n",
      "Branch feat2/wip set up to track remote branch feat2/wip from origin.\n"
     ]
    },
    {
     "name": "stderr",
     "output_type": "stream",
     "text": [
      "Everything up-to-date\n"
     ]
    }
   ],
   "source": [
    "%%bash\n",
    "git add 'Test_data.ipynb'\n",
    "git commit -m 'Modified code for testing and creating submission file'\n",
    "git push --set-upstream origin feat2/wip"
   ]
  },
  {
   "cell_type": "code",
   "execution_count": 16,
   "metadata": {
    "collapsed": true
   },
   "outputs": [],
   "source": [
    "model_ver = 'feat6.sav'\n",
    "submission_name = 'feat6_test.csv'"
   ]
  },
  {
   "cell_type": "code",
   "execution_count": 39,
   "metadata": {
    "collapsed": false
   },
   "outputs": [],
   "source": [
    "%matplotlib inline \n",
    "import requests \n",
    "import StringIO\n",
    "import zipfile\n",
    "import numpy as np\n",
    "import pandas as pd # pandas\n",
    "import matplotlib.pyplot as plt # module for plotting \n",
    "\n",
    "# If this module is not already installed, you may need to install it. \n",
    "# You can do this by typing 'pip install seaborn' in the command line\n",
    "import seaborn as sns \n",
    "\n",
    "import sklearn.model_selection\n",
    "import pickle"
   ]
  },
  {
   "cell_type": "markdown",
   "metadata": {},
   "source": [
    "Load data from csv file then prepare the data before inputting into the trained model."
   ]
  },
  {
   "cell_type": "code",
   "execution_count": 40,
   "metadata": {
    "collapsed": false
   },
   "outputs": [
    {
     "data": {
      "text/html": [
       "<div>\n",
       "<table border=\"1\" class=\"dataframe\">\n",
       "  <thead>\n",
       "    <tr style=\"text-align: right;\">\n",
       "      <th></th>\n",
       "      <th>PassengerId</th>\n",
       "      <th>Survived</th>\n",
       "    </tr>\n",
       "  </thead>\n",
       "  <tbody>\n",
       "    <tr>\n",
       "      <th>0</th>\n",
       "      <td>892</td>\n",
       "      <td>0</td>\n",
       "    </tr>\n",
       "    <tr>\n",
       "      <th>1</th>\n",
       "      <td>893</td>\n",
       "      <td>1</td>\n",
       "    </tr>\n",
       "    <tr>\n",
       "      <th>2</th>\n",
       "      <td>894</td>\n",
       "      <td>0</td>\n",
       "    </tr>\n",
       "    <tr>\n",
       "      <th>3</th>\n",
       "      <td>895</td>\n",
       "      <td>0</td>\n",
       "    </tr>\n",
       "    <tr>\n",
       "      <th>4</th>\n",
       "      <td>896</td>\n",
       "      <td>1</td>\n",
       "    </tr>\n",
       "  </tbody>\n",
       "</table>\n",
       "</div>"
      ],
      "text/plain": [
       "   PassengerId  Survived\n",
       "0          892         0\n",
       "1          893         1\n",
       "2          894         0\n",
       "3          895         0\n",
       "4          896         1"
      ]
     },
     "execution_count": 40,
     "metadata": {},
     "output_type": "execute_result"
    }
   ],
   "source": [
    "test_ex = pd.read_csv('gender_submission.csv')\n",
    "test_ex.head()"
   ]
  },
  {
   "cell_type": "code",
   "execution_count": 41,
   "metadata": {
    "collapsed": false
   },
   "outputs": [
    {
     "data": {
      "text/html": [
       "<div>\n",
       "<table border=\"1\" class=\"dataframe\">\n",
       "  <thead>\n",
       "    <tr style=\"text-align: right;\">\n",
       "      <th></th>\n",
       "      <th>PassengerId</th>\n",
       "      <th>Pclass</th>\n",
       "      <th>Name</th>\n",
       "      <th>Sex</th>\n",
       "      <th>Age</th>\n",
       "      <th>SibSp</th>\n",
       "      <th>Parch</th>\n",
       "      <th>Ticket</th>\n",
       "      <th>Fare</th>\n",
       "      <th>Cabin</th>\n",
       "      <th>Embarked</th>\n",
       "    </tr>\n",
       "  </thead>\n",
       "  <tbody>\n",
       "    <tr>\n",
       "      <th>0</th>\n",
       "      <td>892</td>\n",
       "      <td>3</td>\n",
       "      <td>Kelly, Mr. James</td>\n",
       "      <td>male</td>\n",
       "      <td>34.5</td>\n",
       "      <td>0</td>\n",
       "      <td>0</td>\n",
       "      <td>330911</td>\n",
       "      <td>7.8292</td>\n",
       "      <td>NaN</td>\n",
       "      <td>Q</td>\n",
       "    </tr>\n",
       "    <tr>\n",
       "      <th>1</th>\n",
       "      <td>893</td>\n",
       "      <td>3</td>\n",
       "      <td>Wilkes, Mrs. James (Ellen Needs)</td>\n",
       "      <td>female</td>\n",
       "      <td>47.0</td>\n",
       "      <td>1</td>\n",
       "      <td>0</td>\n",
       "      <td>363272</td>\n",
       "      <td>7.0000</td>\n",
       "      <td>NaN</td>\n",
       "      <td>S</td>\n",
       "    </tr>\n",
       "    <tr>\n",
       "      <th>2</th>\n",
       "      <td>894</td>\n",
       "      <td>2</td>\n",
       "      <td>Myles, Mr. Thomas Francis</td>\n",
       "      <td>male</td>\n",
       "      <td>62.0</td>\n",
       "      <td>0</td>\n",
       "      <td>0</td>\n",
       "      <td>240276</td>\n",
       "      <td>9.6875</td>\n",
       "      <td>NaN</td>\n",
       "      <td>Q</td>\n",
       "    </tr>\n",
       "    <tr>\n",
       "      <th>3</th>\n",
       "      <td>895</td>\n",
       "      <td>3</td>\n",
       "      <td>Wirz, Mr. Albert</td>\n",
       "      <td>male</td>\n",
       "      <td>27.0</td>\n",
       "      <td>0</td>\n",
       "      <td>0</td>\n",
       "      <td>315154</td>\n",
       "      <td>8.6625</td>\n",
       "      <td>NaN</td>\n",
       "      <td>S</td>\n",
       "    </tr>\n",
       "    <tr>\n",
       "      <th>4</th>\n",
       "      <td>896</td>\n",
       "      <td>3</td>\n",
       "      <td>Hirvonen, Mrs. Alexander (Helga E Lindqvist)</td>\n",
       "      <td>female</td>\n",
       "      <td>22.0</td>\n",
       "      <td>1</td>\n",
       "      <td>1</td>\n",
       "      <td>3101298</td>\n",
       "      <td>12.2875</td>\n",
       "      <td>NaN</td>\n",
       "      <td>S</td>\n",
       "    </tr>\n",
       "  </tbody>\n",
       "</table>\n",
       "</div>"
      ],
      "text/plain": [
       "   PassengerId  Pclass                                          Name     Sex  \\\n",
       "0          892       3                              Kelly, Mr. James    male   \n",
       "1          893       3              Wilkes, Mrs. James (Ellen Needs)  female   \n",
       "2          894       2                     Myles, Mr. Thomas Francis    male   \n",
       "3          895       3                              Wirz, Mr. Albert    male   \n",
       "4          896       3  Hirvonen, Mrs. Alexander (Helga E Lindqvist)  female   \n",
       "\n",
       "    Age  SibSp  Parch   Ticket     Fare Cabin Embarked  \n",
       "0  34.5      0      0   330911   7.8292   NaN        Q  \n",
       "1  47.0      1      0   363272   7.0000   NaN        S  \n",
       "2  62.0      0      0   240276   9.6875   NaN        Q  \n",
       "3  27.0      0      0   315154   8.6625   NaN        S  \n",
       "4  22.0      1      1  3101298  12.2875   NaN        S  "
      ]
     },
     "execution_count": 41,
     "metadata": {},
     "output_type": "execute_result"
    }
   ],
   "source": [
    "train = pd.read_csv('Train.csv')\n",
    "test = pd.read_csv('Test.csv')\n",
    "#train = train.drop('Survived',axis=1)\n",
    "#Concate train and test to avoid mismatch features in the testing phase\n",
    "#train_objs_num = len(train)\n",
    "#dataset = pd.concat(objs=[train, test], axis=0)\n",
    "#dataset = pd.get_dummies(dataset)\n",
    "#train = dataset[:train_objs_num].copy()\n",
    "#test = dataset[train_objs_num:].copy()\n",
    "test.head()"
   ]
  },
  {
   "cell_type": "code",
   "execution_count": 42,
   "metadata": {
    "collapsed": false
   },
   "outputs": [
    {
     "data": {
      "text/html": [
       "<div>\n",
       "<table border=\"1\" class=\"dataframe\">\n",
       "  <thead>\n",
       "    <tr style=\"text-align: right;\">\n",
       "      <th></th>\n",
       "      <th>PassengerId</th>\n",
       "      <th>Survived</th>\n",
       "      <th>Pclass</th>\n",
       "      <th>Name</th>\n",
       "      <th>Sex</th>\n",
       "      <th>Age</th>\n",
       "      <th>SibSp</th>\n",
       "      <th>Parch</th>\n",
       "      <th>Ticket</th>\n",
       "      <th>Fare</th>\n",
       "      <th>Cabin</th>\n",
       "      <th>Embarked</th>\n",
       "    </tr>\n",
       "  </thead>\n",
       "  <tbody>\n",
       "    <tr>\n",
       "      <th>0</th>\n",
       "      <td>1</td>\n",
       "      <td>0</td>\n",
       "      <td>3</td>\n",
       "      <td>Braund, Mr. Owen Harris</td>\n",
       "      <td>male</td>\n",
       "      <td>22.0</td>\n",
       "      <td>1</td>\n",
       "      <td>0</td>\n",
       "      <td>A/5 21171</td>\n",
       "      <td>7.2500</td>\n",
       "      <td>NaN</td>\n",
       "      <td>S</td>\n",
       "    </tr>\n",
       "    <tr>\n",
       "      <th>1</th>\n",
       "      <td>2</td>\n",
       "      <td>1</td>\n",
       "      <td>1</td>\n",
       "      <td>Cumings, Mrs. John Bradley (Florence Briggs Th...</td>\n",
       "      <td>female</td>\n",
       "      <td>38.0</td>\n",
       "      <td>1</td>\n",
       "      <td>0</td>\n",
       "      <td>PC 17599</td>\n",
       "      <td>71.2833</td>\n",
       "      <td>C85</td>\n",
       "      <td>C</td>\n",
       "    </tr>\n",
       "    <tr>\n",
       "      <th>2</th>\n",
       "      <td>3</td>\n",
       "      <td>1</td>\n",
       "      <td>3</td>\n",
       "      <td>Heikkinen, Miss. Laina</td>\n",
       "      <td>female</td>\n",
       "      <td>26.0</td>\n",
       "      <td>0</td>\n",
       "      <td>0</td>\n",
       "      <td>STON/O2. 3101282</td>\n",
       "      <td>7.9250</td>\n",
       "      <td>NaN</td>\n",
       "      <td>S</td>\n",
       "    </tr>\n",
       "    <tr>\n",
       "      <th>3</th>\n",
       "      <td>4</td>\n",
       "      <td>1</td>\n",
       "      <td>1</td>\n",
       "      <td>Futrelle, Mrs. Jacques Heath (Lily May Peel)</td>\n",
       "      <td>female</td>\n",
       "      <td>35.0</td>\n",
       "      <td>1</td>\n",
       "      <td>0</td>\n",
       "      <td>113803</td>\n",
       "      <td>53.1000</td>\n",
       "      <td>C123</td>\n",
       "      <td>S</td>\n",
       "    </tr>\n",
       "    <tr>\n",
       "      <th>4</th>\n",
       "      <td>5</td>\n",
       "      <td>0</td>\n",
       "      <td>3</td>\n",
       "      <td>Allen, Mr. William Henry</td>\n",
       "      <td>male</td>\n",
       "      <td>35.0</td>\n",
       "      <td>0</td>\n",
       "      <td>0</td>\n",
       "      <td>373450</td>\n",
       "      <td>8.0500</td>\n",
       "      <td>NaN</td>\n",
       "      <td>S</td>\n",
       "    </tr>\n",
       "  </tbody>\n",
       "</table>\n",
       "</div>"
      ],
      "text/plain": [
       "   PassengerId  Survived  Pclass  \\\n",
       "0            1         0       3   \n",
       "1            2         1       1   \n",
       "2            3         1       3   \n",
       "3            4         1       1   \n",
       "4            5         0       3   \n",
       "\n",
       "                                                Name     Sex   Age  SibSp  \\\n",
       "0                            Braund, Mr. Owen Harris    male  22.0      1   \n",
       "1  Cumings, Mrs. John Bradley (Florence Briggs Th...  female  38.0      1   \n",
       "2                             Heikkinen, Miss. Laina  female  26.0      0   \n",
       "3       Futrelle, Mrs. Jacques Heath (Lily May Peel)  female  35.0      1   \n",
       "4                           Allen, Mr. William Henry    male  35.0      0   \n",
       "\n",
       "   Parch            Ticket     Fare Cabin Embarked  \n",
       "0      0         A/5 21171   7.2500   NaN        S  \n",
       "1      0          PC 17599  71.2833   C85        C  \n",
       "2      0  STON/O2. 3101282   7.9250   NaN        S  \n",
       "3      0            113803  53.1000  C123        S  \n",
       "4      0            373450   8.0500   NaN        S  "
      ]
     },
     "execution_count": 42,
     "metadata": {},
     "output_type": "execute_result"
    }
   ],
   "source": [
    "train.head()"
   ]
  },
  {
   "cell_type": "markdown",
   "metadata": {},
   "source": [
    "Data transform train and test to avoid feature mismatched."
   ]
  },
  {
   "cell_type": "code",
   "execution_count": 43,
   "metadata": {
    "collapsed": true
   },
   "outputs": [],
   "source": [
    "#Make sure the same thins is applied to train and test data.\n",
    "train = train.drop('PassengerId',axis=1)\n",
    "train = train.drop('Name',axis=1)\n",
    "train = train.drop('Cabin',axis=1)\n",
    "test = test.drop('PassengerId',axis=1)\n",
    "test = test.drop('Name',axis=1)\n",
    "test = test.drop('Cabin',axis=1)\n",
    "\n",
    "num_attri = ['Age','SibSp','Parch','Fare']\n",
    "#cat_attri = [column for column in test if (column not in num_attri and column != 'Survived')]\n",
    "cat_attri = [column for column in train if (column not in num_attri and column != 'Survived')] \n",
    "\n",
    "for column in (cat_attri): #Create dummy for X\n",
    "    #Lets just keep every categorical attributes for plotting\n",
    "    tempDF = pd.get_dummies(train[column],prefix=column)\n",
    "    train.drop(column,axis=1,inplace=True)\n",
    "    train = train.join(tempDF)\n",
    "\n",
    "for column in (cat_attri): #Create dummy for test\n",
    "    #Lets just keep every categorical attributes for plotting\n",
    "    tempDF = pd.get_dummies(test[column],prefix=column)\n",
    "    test.drop(column,axis=1,inplace=True)\n",
    "    test = test.join(tempDF)\n",
    "\n",
    "#Concat X(train data) with X from test data to avoid mismatch feature\n",
    "train_objs_num = len(train)\n",
    "dataset = pd.concat(objs=[train, test], axis=0)\n",
    "#dataset = pd.get_dummies(dataset)\n",
    "train = dataset[:train_objs_num].copy()\n",
    "test = dataset[train_objs_num:].copy()\n",
    "\n",
    "#Drop Survived column at the same step in training file\n",
    "test = test.drop('Survived',axis=1)"
   ]
  },
  {
   "cell_type": "code",
   "execution_count": 44,
   "metadata": {
    "collapsed": false
   },
   "outputs": [
    {
     "data": {
      "text/plain": [
       "['Pclass', 'Sex', 'Ticket', 'Embarked']"
      ]
     },
     "execution_count": 44,
     "metadata": {},
     "output_type": "execute_result"
    }
   ],
   "source": [
    "cat_attri"
   ]
  },
  {
   "cell_type": "code",
   "execution_count": 45,
   "metadata": {
    "collapsed": false
   },
   "outputs": [
    {
     "data": {
      "text/html": [
       "<div>\n",
       "<table border=\"1\" class=\"dataframe\">\n",
       "  <thead>\n",
       "    <tr style=\"text-align: right;\">\n",
       "      <th></th>\n",
       "      <th>Age</th>\n",
       "      <th>Embarked_C</th>\n",
       "      <th>Embarked_Q</th>\n",
       "      <th>Embarked_S</th>\n",
       "      <th>Fare</th>\n",
       "      <th>Parch</th>\n",
       "      <th>Pclass_1</th>\n",
       "      <th>Pclass_2</th>\n",
       "      <th>Pclass_3</th>\n",
       "      <th>Sex_female</th>\n",
       "      <th>...</th>\n",
       "      <th>Ticket_W./C. 14258</th>\n",
       "      <th>Ticket_W./C. 14260</th>\n",
       "      <th>Ticket_W./C. 14263</th>\n",
       "      <th>Ticket_W./C. 14266</th>\n",
       "      <th>Ticket_W./C. 6607</th>\n",
       "      <th>Ticket_W./C. 6608</th>\n",
       "      <th>Ticket_W./C. 6609</th>\n",
       "      <th>Ticket_W.E.P. 5734</th>\n",
       "      <th>Ticket_W/C 14208</th>\n",
       "      <th>Ticket_WE/P 5735</th>\n",
       "    </tr>\n",
       "  </thead>\n",
       "  <tbody>\n",
       "    <tr>\n",
       "      <th>0</th>\n",
       "      <td>34.5</td>\n",
       "      <td>0</td>\n",
       "      <td>1</td>\n",
       "      <td>0</td>\n",
       "      <td>7.8292</td>\n",
       "      <td>0</td>\n",
       "      <td>0</td>\n",
       "      <td>0</td>\n",
       "      <td>1</td>\n",
       "      <td>0</td>\n",
       "      <td>...</td>\n",
       "      <td>NaN</td>\n",
       "      <td>0.0</td>\n",
       "      <td>NaN</td>\n",
       "      <td>0.0</td>\n",
       "      <td>0</td>\n",
       "      <td>0</td>\n",
       "      <td>NaN</td>\n",
       "      <td>0</td>\n",
       "      <td>NaN</td>\n",
       "      <td>NaN</td>\n",
       "    </tr>\n",
       "    <tr>\n",
       "      <th>1</th>\n",
       "      <td>47.0</td>\n",
       "      <td>0</td>\n",
       "      <td>0</td>\n",
       "      <td>1</td>\n",
       "      <td>7.0000</td>\n",
       "      <td>0</td>\n",
       "      <td>0</td>\n",
       "      <td>0</td>\n",
       "      <td>1</td>\n",
       "      <td>1</td>\n",
       "      <td>...</td>\n",
       "      <td>NaN</td>\n",
       "      <td>0.0</td>\n",
       "      <td>NaN</td>\n",
       "      <td>0.0</td>\n",
       "      <td>0</td>\n",
       "      <td>0</td>\n",
       "      <td>NaN</td>\n",
       "      <td>0</td>\n",
       "      <td>NaN</td>\n",
       "      <td>NaN</td>\n",
       "    </tr>\n",
       "    <tr>\n",
       "      <th>2</th>\n",
       "      <td>62.0</td>\n",
       "      <td>0</td>\n",
       "      <td>1</td>\n",
       "      <td>0</td>\n",
       "      <td>9.6875</td>\n",
       "      <td>0</td>\n",
       "      <td>0</td>\n",
       "      <td>1</td>\n",
       "      <td>0</td>\n",
       "      <td>0</td>\n",
       "      <td>...</td>\n",
       "      <td>NaN</td>\n",
       "      <td>0.0</td>\n",
       "      <td>NaN</td>\n",
       "      <td>0.0</td>\n",
       "      <td>0</td>\n",
       "      <td>0</td>\n",
       "      <td>NaN</td>\n",
       "      <td>0</td>\n",
       "      <td>NaN</td>\n",
       "      <td>NaN</td>\n",
       "    </tr>\n",
       "    <tr>\n",
       "      <th>3</th>\n",
       "      <td>27.0</td>\n",
       "      <td>0</td>\n",
       "      <td>0</td>\n",
       "      <td>1</td>\n",
       "      <td>8.6625</td>\n",
       "      <td>0</td>\n",
       "      <td>0</td>\n",
       "      <td>0</td>\n",
       "      <td>1</td>\n",
       "      <td>0</td>\n",
       "      <td>...</td>\n",
       "      <td>NaN</td>\n",
       "      <td>0.0</td>\n",
       "      <td>NaN</td>\n",
       "      <td>0.0</td>\n",
       "      <td>0</td>\n",
       "      <td>0</td>\n",
       "      <td>NaN</td>\n",
       "      <td>0</td>\n",
       "      <td>NaN</td>\n",
       "      <td>NaN</td>\n",
       "    </tr>\n",
       "    <tr>\n",
       "      <th>4</th>\n",
       "      <td>22.0</td>\n",
       "      <td>0</td>\n",
       "      <td>0</td>\n",
       "      <td>1</td>\n",
       "      <td>12.2875</td>\n",
       "      <td>1</td>\n",
       "      <td>0</td>\n",
       "      <td>0</td>\n",
       "      <td>1</td>\n",
       "      <td>1</td>\n",
       "      <td>...</td>\n",
       "      <td>NaN</td>\n",
       "      <td>0.0</td>\n",
       "      <td>NaN</td>\n",
       "      <td>0.0</td>\n",
       "      <td>0</td>\n",
       "      <td>0</td>\n",
       "      <td>NaN</td>\n",
       "      <td>0</td>\n",
       "      <td>NaN</td>\n",
       "      <td>NaN</td>\n",
       "    </tr>\n",
       "  </tbody>\n",
       "</table>\n",
       "<p>5 rows × 941 columns</p>\n",
       "</div>"
      ],
      "text/plain": [
       "    Age  Embarked_C  Embarked_Q  Embarked_S     Fare  Parch  Pclass_1  \\\n",
       "0  34.5           0           1           0   7.8292      0         0   \n",
       "1  47.0           0           0           1   7.0000      0         0   \n",
       "2  62.0           0           1           0   9.6875      0         0   \n",
       "3  27.0           0           0           1   8.6625      0         0   \n",
       "4  22.0           0           0           1  12.2875      1         0   \n",
       "\n",
       "   Pclass_2  Pclass_3  Sex_female        ...         Ticket_W./C. 14258  \\\n",
       "0         0         1           0        ...                        NaN   \n",
       "1         0         1           1        ...                        NaN   \n",
       "2         1         0           0        ...                        NaN   \n",
       "3         0         1           0        ...                        NaN   \n",
       "4         0         1           1        ...                        NaN   \n",
       "\n",
       "   Ticket_W./C. 14260  Ticket_W./C. 14263  Ticket_W./C. 14266  \\\n",
       "0                 0.0                 NaN                 0.0   \n",
       "1                 0.0                 NaN                 0.0   \n",
       "2                 0.0                 NaN                 0.0   \n",
       "3                 0.0                 NaN                 0.0   \n",
       "4                 0.0                 NaN                 0.0   \n",
       "\n",
       "   Ticket_W./C. 6607  Ticket_W./C. 6608  Ticket_W./C. 6609  \\\n",
       "0                  0                  0                NaN   \n",
       "1                  0                  0                NaN   \n",
       "2                  0                  0                NaN   \n",
       "3                  0                  0                NaN   \n",
       "4                  0                  0                NaN   \n",
       "\n",
       "   Ticket_W.E.P. 5734  Ticket_W/C 14208  Ticket_WE/P 5735  \n",
       "0                   0               NaN               NaN  \n",
       "1                   0               NaN               NaN  \n",
       "2                   0               NaN               NaN  \n",
       "3                   0               NaN               NaN  \n",
       "4                   0               NaN               NaN  \n",
       "\n",
       "[5 rows x 941 columns]"
      ]
     },
     "execution_count": 45,
     "metadata": {},
     "output_type": "execute_result"
    }
   ],
   "source": [
    "test.head()"
   ]
  },
  {
   "cell_type": "markdown",
   "metadata": {},
   "source": [
    "Bar plot to visualize data in test set"
   ]
  },
  {
   "cell_type": "code",
   "execution_count": 32,
   "metadata": {
    "collapsed": true
   },
   "outputs": [
    {
     "ename": "KeyError",
     "evalue": "'Pclass'",
     "output_type": "error",
     "traceback": [
      "\u001b[0;31m---------------------------------------------------------------------------\u001b[0m",
      "\u001b[0;31mKeyError\u001b[0m                                  Traceback (most recent call last)",
      "\u001b[0;32m<ipython-input-32-67b4e57b47ab>\u001b[0m in \u001b[0;36m<module>\u001b[0;34m()\u001b[0m\n\u001b[1;32m      2\u001b[0m     \u001b[0;31m#Lets just keep every categorical attributes for plotting\u001b[0m\u001b[0;34m\u001b[0m\u001b[0;34m\u001b[0m\u001b[0m\n\u001b[1;32m      3\u001b[0m     \u001b[0mplt\u001b[0m\u001b[0;34m.\u001b[0m\u001b[0mfigure\u001b[0m\u001b[0;34m(\u001b[0m\u001b[0mi\u001b[0m\u001b[0;34m)\u001b[0m\u001b[0;34m\u001b[0m\u001b[0m\n\u001b[0;32m----> 4\u001b[0;31m     \u001b[0msns\u001b[0m\u001b[0;34m.\u001b[0m\u001b[0mcountplot\u001b[0m\u001b[0;34m(\u001b[0m\u001b[0mtest\u001b[0m\u001b[0;34m[\u001b[0m\u001b[0mcolumn\u001b[0m\u001b[0;34m]\u001b[0m\u001b[0;34m)\u001b[0m\u001b[0;34m\u001b[0m\u001b[0m\n\u001b[0m",
      "\u001b[0;32m/Users/theerit/anaconda/envs/ipykernel_py2/lib/python2.7/site-packages/pandas/core/frame.pyc\u001b[0m in \u001b[0;36m__getitem__\u001b[0;34m(self, key)\u001b[0m\n\u001b[1;32m   2057\u001b[0m             \u001b[0;32mreturn\u001b[0m \u001b[0mself\u001b[0m\u001b[0;34m.\u001b[0m\u001b[0m_getitem_multilevel\u001b[0m\u001b[0;34m(\u001b[0m\u001b[0mkey\u001b[0m\u001b[0;34m)\u001b[0m\u001b[0;34m\u001b[0m\u001b[0m\n\u001b[1;32m   2058\u001b[0m         \u001b[0;32melse\u001b[0m\u001b[0;34m:\u001b[0m\u001b[0;34m\u001b[0m\u001b[0m\n\u001b[0;32m-> 2059\u001b[0;31m             \u001b[0;32mreturn\u001b[0m \u001b[0mself\u001b[0m\u001b[0;34m.\u001b[0m\u001b[0m_getitem_column\u001b[0m\u001b[0;34m(\u001b[0m\u001b[0mkey\u001b[0m\u001b[0;34m)\u001b[0m\u001b[0;34m\u001b[0m\u001b[0m\n\u001b[0m\u001b[1;32m   2060\u001b[0m \u001b[0;34m\u001b[0m\u001b[0m\n\u001b[1;32m   2061\u001b[0m     \u001b[0;32mdef\u001b[0m \u001b[0m_getitem_column\u001b[0m\u001b[0;34m(\u001b[0m\u001b[0mself\u001b[0m\u001b[0;34m,\u001b[0m \u001b[0mkey\u001b[0m\u001b[0;34m)\u001b[0m\u001b[0;34m:\u001b[0m\u001b[0;34m\u001b[0m\u001b[0m\n",
      "\u001b[0;32m/Users/theerit/anaconda/envs/ipykernel_py2/lib/python2.7/site-packages/pandas/core/frame.pyc\u001b[0m in \u001b[0;36m_getitem_column\u001b[0;34m(self, key)\u001b[0m\n\u001b[1;32m   2064\u001b[0m         \u001b[0;31m# get column\u001b[0m\u001b[0;34m\u001b[0m\u001b[0;34m\u001b[0m\u001b[0m\n\u001b[1;32m   2065\u001b[0m         \u001b[0;32mif\u001b[0m \u001b[0mself\u001b[0m\u001b[0;34m.\u001b[0m\u001b[0mcolumns\u001b[0m\u001b[0;34m.\u001b[0m\u001b[0mis_unique\u001b[0m\u001b[0;34m:\u001b[0m\u001b[0;34m\u001b[0m\u001b[0m\n\u001b[0;32m-> 2066\u001b[0;31m             \u001b[0;32mreturn\u001b[0m \u001b[0mself\u001b[0m\u001b[0;34m.\u001b[0m\u001b[0m_get_item_cache\u001b[0m\u001b[0;34m(\u001b[0m\u001b[0mkey\u001b[0m\u001b[0;34m)\u001b[0m\u001b[0;34m\u001b[0m\u001b[0m\n\u001b[0m\u001b[1;32m   2067\u001b[0m \u001b[0;34m\u001b[0m\u001b[0m\n\u001b[1;32m   2068\u001b[0m         \u001b[0;31m# duplicate columns & possible reduce dimensionality\u001b[0m\u001b[0;34m\u001b[0m\u001b[0;34m\u001b[0m\u001b[0m\n",
      "\u001b[0;32m/Users/theerit/anaconda/envs/ipykernel_py2/lib/python2.7/site-packages/pandas/core/generic.pyc\u001b[0m in \u001b[0;36m_get_item_cache\u001b[0;34m(self, item)\u001b[0m\n\u001b[1;32m   1384\u001b[0m         \u001b[0mres\u001b[0m \u001b[0;34m=\u001b[0m \u001b[0mcache\u001b[0m\u001b[0;34m.\u001b[0m\u001b[0mget\u001b[0m\u001b[0;34m(\u001b[0m\u001b[0mitem\u001b[0m\u001b[0;34m)\u001b[0m\u001b[0;34m\u001b[0m\u001b[0m\n\u001b[1;32m   1385\u001b[0m         \u001b[0;32mif\u001b[0m \u001b[0mres\u001b[0m \u001b[0;32mis\u001b[0m \u001b[0mNone\u001b[0m\u001b[0;34m:\u001b[0m\u001b[0;34m\u001b[0m\u001b[0m\n\u001b[0;32m-> 1386\u001b[0;31m             \u001b[0mvalues\u001b[0m \u001b[0;34m=\u001b[0m \u001b[0mself\u001b[0m\u001b[0;34m.\u001b[0m\u001b[0m_data\u001b[0m\u001b[0;34m.\u001b[0m\u001b[0mget\u001b[0m\u001b[0;34m(\u001b[0m\u001b[0mitem\u001b[0m\u001b[0;34m)\u001b[0m\u001b[0;34m\u001b[0m\u001b[0m\n\u001b[0m\u001b[1;32m   1387\u001b[0m             \u001b[0mres\u001b[0m \u001b[0;34m=\u001b[0m \u001b[0mself\u001b[0m\u001b[0;34m.\u001b[0m\u001b[0m_box_item_values\u001b[0m\u001b[0;34m(\u001b[0m\u001b[0mitem\u001b[0m\u001b[0;34m,\u001b[0m \u001b[0mvalues\u001b[0m\u001b[0;34m)\u001b[0m\u001b[0;34m\u001b[0m\u001b[0m\n\u001b[1;32m   1388\u001b[0m             \u001b[0mcache\u001b[0m\u001b[0;34m[\u001b[0m\u001b[0mitem\u001b[0m\u001b[0;34m]\u001b[0m \u001b[0;34m=\u001b[0m \u001b[0mres\u001b[0m\u001b[0;34m\u001b[0m\u001b[0m\n",
      "\u001b[0;32m/Users/theerit/anaconda/envs/ipykernel_py2/lib/python2.7/site-packages/pandas/core/internals.pyc\u001b[0m in \u001b[0;36mget\u001b[0;34m(self, item, fastpath)\u001b[0m\n\u001b[1;32m   3541\u001b[0m \u001b[0;34m\u001b[0m\u001b[0m\n\u001b[1;32m   3542\u001b[0m             \u001b[0;32mif\u001b[0m \u001b[0;32mnot\u001b[0m \u001b[0misnull\u001b[0m\u001b[0;34m(\u001b[0m\u001b[0mitem\u001b[0m\u001b[0;34m)\u001b[0m\u001b[0;34m:\u001b[0m\u001b[0;34m\u001b[0m\u001b[0m\n\u001b[0;32m-> 3543\u001b[0;31m                 \u001b[0mloc\u001b[0m \u001b[0;34m=\u001b[0m \u001b[0mself\u001b[0m\u001b[0;34m.\u001b[0m\u001b[0mitems\u001b[0m\u001b[0;34m.\u001b[0m\u001b[0mget_loc\u001b[0m\u001b[0;34m(\u001b[0m\u001b[0mitem\u001b[0m\u001b[0;34m)\u001b[0m\u001b[0;34m\u001b[0m\u001b[0m\n\u001b[0m\u001b[1;32m   3544\u001b[0m             \u001b[0;32melse\u001b[0m\u001b[0;34m:\u001b[0m\u001b[0;34m\u001b[0m\u001b[0m\n\u001b[1;32m   3545\u001b[0m                 \u001b[0mindexer\u001b[0m \u001b[0;34m=\u001b[0m \u001b[0mnp\u001b[0m\u001b[0;34m.\u001b[0m\u001b[0marange\u001b[0m\u001b[0;34m(\u001b[0m\u001b[0mlen\u001b[0m\u001b[0;34m(\u001b[0m\u001b[0mself\u001b[0m\u001b[0;34m.\u001b[0m\u001b[0mitems\u001b[0m\u001b[0;34m)\u001b[0m\u001b[0;34m)\u001b[0m\u001b[0;34m[\u001b[0m\u001b[0misnull\u001b[0m\u001b[0;34m(\u001b[0m\u001b[0mself\u001b[0m\u001b[0;34m.\u001b[0m\u001b[0mitems\u001b[0m\u001b[0;34m)\u001b[0m\u001b[0;34m]\u001b[0m\u001b[0;34m\u001b[0m\u001b[0m\n",
      "\u001b[0;32m/Users/theerit/anaconda/envs/ipykernel_py2/lib/python2.7/site-packages/pandas/indexes/base.pyc\u001b[0m in \u001b[0;36mget_loc\u001b[0;34m(self, key, method, tolerance)\u001b[0m\n\u001b[1;32m   2134\u001b[0m                 \u001b[0;32mreturn\u001b[0m \u001b[0mself\u001b[0m\u001b[0;34m.\u001b[0m\u001b[0m_engine\u001b[0m\u001b[0;34m.\u001b[0m\u001b[0mget_loc\u001b[0m\u001b[0;34m(\u001b[0m\u001b[0mkey\u001b[0m\u001b[0;34m)\u001b[0m\u001b[0;34m\u001b[0m\u001b[0m\n\u001b[1;32m   2135\u001b[0m             \u001b[0;32mexcept\u001b[0m \u001b[0mKeyError\u001b[0m\u001b[0;34m:\u001b[0m\u001b[0;34m\u001b[0m\u001b[0m\n\u001b[0;32m-> 2136\u001b[0;31m                 \u001b[0;32mreturn\u001b[0m \u001b[0mself\u001b[0m\u001b[0;34m.\u001b[0m\u001b[0m_engine\u001b[0m\u001b[0;34m.\u001b[0m\u001b[0mget_loc\u001b[0m\u001b[0;34m(\u001b[0m\u001b[0mself\u001b[0m\u001b[0;34m.\u001b[0m\u001b[0m_maybe_cast_indexer\u001b[0m\u001b[0;34m(\u001b[0m\u001b[0mkey\u001b[0m\u001b[0;34m)\u001b[0m\u001b[0;34m)\u001b[0m\u001b[0;34m\u001b[0m\u001b[0m\n\u001b[0m\u001b[1;32m   2137\u001b[0m \u001b[0;34m\u001b[0m\u001b[0m\n\u001b[1;32m   2138\u001b[0m         \u001b[0mindexer\u001b[0m \u001b[0;34m=\u001b[0m \u001b[0mself\u001b[0m\u001b[0;34m.\u001b[0m\u001b[0mget_indexer\u001b[0m\u001b[0;34m(\u001b[0m\u001b[0;34m[\u001b[0m\u001b[0mkey\u001b[0m\u001b[0;34m]\u001b[0m\u001b[0;34m,\u001b[0m \u001b[0mmethod\u001b[0m\u001b[0;34m=\u001b[0m\u001b[0mmethod\u001b[0m\u001b[0;34m,\u001b[0m \u001b[0mtolerance\u001b[0m\u001b[0;34m=\u001b[0m\u001b[0mtolerance\u001b[0m\u001b[0;34m)\u001b[0m\u001b[0;34m\u001b[0m\u001b[0m\n",
      "\u001b[0;32mpandas/index.pyx\u001b[0m in \u001b[0;36mpandas.index.IndexEngine.get_loc (pandas/index.c:4433)\u001b[0;34m()\u001b[0m\n",
      "\u001b[0;32mpandas/index.pyx\u001b[0m in \u001b[0;36mpandas.index.IndexEngine.get_loc (pandas/index.c:4279)\u001b[0;34m()\u001b[0m\n",
      "\u001b[0;32mpandas/src/hashtable_class_helper.pxi\u001b[0m in \u001b[0;36mpandas.hashtable.PyObjectHashTable.get_item (pandas/hashtable.c:13742)\u001b[0;34m()\u001b[0m\n",
      "\u001b[0;32mpandas/src/hashtable_class_helper.pxi\u001b[0m in \u001b[0;36mpandas.hashtable.PyObjectHashTable.get_item (pandas/hashtable.c:13696)\u001b[0;34m()\u001b[0m\n",
      "\u001b[0;31mKeyError\u001b[0m: 'Pclass'"
     ]
    },
    {
     "data": {
      "text/plain": [
       "<matplotlib.figure.Figure at 0x11112d650>"
      ]
     },
     "metadata": {},
     "output_type": "display_data"
    }
   ],
   "source": [
    "for i,column in enumerate(cat_attri):\n",
    "    #Lets just keep every categorical attributes for plotting\n",
    "    plt.figure(i)\n",
    "    sns.countplot(test[column])"
   ]
  },
  {
   "cell_type": "markdown",
   "metadata": {},
   "source": [
    "Use the saved model to predict the answers"
   ]
  },
  {
   "cell_type": "code",
   "execution_count": 33,
   "metadata": {
    "collapsed": false
   },
   "outputs": [
    {
     "ename": "ValueError",
     "evalue": "feature_names mismatch: [u'Age', u'Embarked_C', u'Embarked_Q', u'Embarked_S', u'Fare', u'Parch', u'Pclass_1', u'Pclass_2', u'Pclass_3', u'Sex_female', u'Sex_male', u'SibSp', u'Ticket_110152', u'Ticket_110413', u'Ticket_110465', u'Ticket_110469', u'Ticket_110489', u'Ticket_110564', u'Ticket_110813', u'Ticket_111163', u'Ticket_111240', u'Ticket_111320', u'Ticket_111361', u'Ticket_111369', u'Ticket_111426', u'Ticket_111428', u'Ticket_112050', u'Ticket_112051', u'Ticket_112053', u'Ticket_112058', u'Ticket_112059', u'Ticket_112277', u'Ticket_112377', u'Ticket_112378', u'Ticket_112901', u'Ticket_113038', u'Ticket_113043', u'Ticket_113044', u'Ticket_113050', u'Ticket_113051', u'Ticket_113054', u'Ticket_113055', u'Ticket_113059', u'Ticket_113501', u'Ticket_113503', u'Ticket_113505', u'Ticket_113509', u'Ticket_113514', u'Ticket_113760', u'Ticket_113773', u'Ticket_113776', u'Ticket_113778', u'Ticket_113780', u'Ticket_113781', u'Ticket_113783', u'Ticket_113784', u'Ticket_113786', u'Ticket_113787', u'Ticket_113788', u'Ticket_113789', u'Ticket_113790', u'Ticket_113791', u'Ticket_113792', u'Ticket_113794', u'Ticket_113795', u'Ticket_113796', u'Ticket_113798', u'Ticket_113800', u'Ticket_113801', u'Ticket_113803', u'Ticket_113804', u'Ticket_113806', u'Ticket_113807', u'Ticket_11668', u'Ticket_11751', u'Ticket_11752', u'Ticket_11753', u'Ticket_11755', u'Ticket_11765', u'Ticket_11767', u'Ticket_11769', u'Ticket_11770', u'Ticket_11771', u'Ticket_11778', u'Ticket_11813', u'Ticket_11967', u'Ticket_1222', u'Ticket_12233', u'Ticket_12749', u'Ticket_13049', u'Ticket_13050', u'Ticket_13213', u'Ticket_13214', u'Ticket_13236', u'Ticket_13502', u'Ticket_13507', u'Ticket_13508', u'Ticket_13509', u'Ticket_13567', u'Ticket_13568', u'Ticket_13695', u'Ticket_13905', u'Ticket_14973', u'Ticket_1601', u'Ticket_16966', u'Ticket_17421', u'Ticket_17453', u'Ticket_17463', u'Ticket_17464', u'Ticket_17465', u'Ticket_17466', u'Ticket_17474', u'Ticket_17475', u'Ticket_17764', u'Ticket_17765', u'Ticket_17770', u'Ticket_19877', u'Ticket_19924', u'Ticket_19928', u'Ticket_19943', u'Ticket_19950', u'Ticket_19952', u'Ticket_19972', u'Ticket_19996', u'Ticket_2003', u'Ticket_211535', u'Ticket_211536', u'Ticket_21228', u'Ticket_21332', u'Ticket_21440', u'Ticket_218629', u'Ticket_219533', u'Ticket_220367', u'Ticket_220844', u'Ticket_220845', u'Ticket_2223', u'Ticket_223596', u'Ticket_226875', u'Ticket_228414', u'Ticket_229236', u'Ticket_230080', u'Ticket_230136', u'Ticket_230433', u'Ticket_230434', u'Ticket_231919', u'Ticket_231945', u'Ticket_233478', u'Ticket_233639', u'Ticket_233734', u'Ticket_233866', u'Ticket_234360', u'Ticket_234604', u'Ticket_234686', u'Ticket_234818', u'Ticket_235509', u'Ticket_236171', u'Ticket_236852', u'Ticket_236853', u'Ticket_236854', u'Ticket_237216', u'Ticket_237249', u'Ticket_237393', u'Ticket_237442', u'Ticket_237565', u'Ticket_237668', u'Ticket_237670', u'Ticket_237671', u'Ticket_237734', u'Ticket_237735', u'Ticket_237736', u'Ticket_237789', u'Ticket_237798', u'Ticket_239059', u'Ticket_239865', u'Ticket_240261', u'Ticket_240276', u'Ticket_24065', u'Ticket_240929', u'Ticket_24160', u'Ticket_242963', u'Ticket_243847', u'Ticket_243880', u'Ticket_244252', u'Ticket_244270', u'Ticket_244278', u'Ticket_244310', u'Ticket_244346', u'Ticket_244358', u'Ticket_244360', u'Ticket_244361', u'Ticket_244367', u'Ticket_244368', u'Ticket_248659', u'Ticket_248698', u'Ticket_248706', u'Ticket_248723', u'Ticket_248726', u'Ticket_248727', u'Ticket_248731', u'Ticket_248733', u'Ticket_248734', u'Ticket_248738', u'Ticket_248740', u'Ticket_248744', u'Ticket_248746', u'Ticket_248747', u'Ticket_250643', u'Ticket_250644', u'Ticket_250646', u'Ticket_250647', u'Ticket_250648', u'Ticket_250649', u'Ticket_250650', u'Ticket_250651', u'Ticket_250652', u'Ticket_250653', u'Ticket_250655', u'Ticket_2543', u'Ticket_2620', u'Ticket_2621', u'Ticket_2622', u'Ticket_2623', u'Ticket_2625', u'Ticket_2627', u'Ticket_2628', u'Ticket_26360', u'Ticket_2648', u'Ticket_2650', u'Ticket_2651', u'Ticket_2652', u'Ticket_2653', u'Ticket_2654', u'Ticket_2655', u'Ticket_2656', u'Ticket_2657', u'Ticket_2658', u'Ticket_2659', u'Ticket_2660', u'Ticket_2661', u'Ticket_2662', u'Ticket_2663', u'Ticket_2665', u'Ticket_2666', u'Ticket_2667', u'Ticket_2668', u'Ticket_2669', u'Ticket_2670', u'Ticket_26707', u'Ticket_2672', u'Ticket_2673', u'Ticket_2675', u'Ticket_2676', u'Ticket_2678', u'Ticket_2679', u'Ticket_2680', u'Ticket_2681', u'Ticket_2682', u'Ticket_2683', u'Ticket_2684', u'Ticket_2685', u'Ticket_2687', u'Ticket_2688', u'Ticket_2689', u'Ticket_2690', u'Ticket_2691', u'Ticket_2692', u'Ticket_2693', u'Ticket_2694', u'Ticket_2695', u'Ticket_2696', u'Ticket_2697', u'Ticket_2698', u'Ticket_2699', u'Ticket_27042', u'Ticket_27267', u'Ticket_27849', u'Ticket_28004', u'Ticket_28034', u'Ticket_28133', u'Ticket_28134', u'Ticket_28206', u'Ticket_28213', u'Ticket_28220', u'Ticket_28221', u'Ticket_28228', u'Ticket_28403', u'Ticket_28404', u'Ticket_28424', u'Ticket_28425', u'Ticket_28551', u'Ticket_28664', u'Ticket_28665', u'Ticket_28666', u'Ticket_29011', u'Ticket_2908', u'Ticket_29103', u'Ticket_29104', u'Ticket_29105', u'Ticket_29106', u'Ticket_29107', u'Ticket_29108', u'Ticket_2926', u'Ticket_29750', u'Ticket_29751', u'Ticket_3101264', u'Ticket_3101265', u'Ticket_3101266', u'Ticket_3101267', u'Ticket_3101276', u'Ticket_3101277', u'Ticket_3101278', u'Ticket_3101281', u'Ticket_3101295', u'Ticket_3101296', u'Ticket_3101297', u'Ticket_3101298', u'Ticket_31027', u'Ticket_31028', u'Ticket_312992', u'Ticket_31418', u'Ticket_315082', u'Ticket_315083', u'Ticket_315084', u'Ticket_315085', u'Ticket_315086', u'Ticket_315087', u'Ticket_315088', u'Ticket_315089', u'Ticket_315090', u'Ticket_315091', u'Ticket_315092', u'Ticket_315093', u'Ticket_315094', u'Ticket_315095', u'Ticket_315096', u'Ticket_315097', u'Ticket_315098', u'Ticket_315151', u'Ticket_315152', u'Ticket_315153', u'Ticket_315154', u'Ticket_32302', u'Ticket_323951', u'Ticket_324669', u'Ticket_329944', u'Ticket_330844', u'Ticket_330910', u'Ticket_330911', u'Ticket_330920', u'Ticket_330923', u'Ticket_330924', u'Ticket_330958', u'Ticket_330963', u'Ticket_330968', u'Ticket_330971', u'Ticket_330972', u'Ticket_334914', u'Ticket_334915', u'Ticket_335097', u'Ticket_335432', u'Ticket_33638', u'Ticket_336439', u'Ticket_3410', u'Ticket_341826', u'Ticket_34218', u'Ticket_342441', u'Ticket_342684', u'Ticket_342712', u'Ticket_342826', u'Ticket_343120', u'Ticket_343271', u'Ticket_343275', u'Ticket_343276', u'Ticket_345364', u'Ticket_345498', u'Ticket_345501', u'Ticket_345572', u'Ticket_345763', u'Ticket_345764', u'Ticket_345765', u'Ticket_345767', u'Ticket_345768', u'Ticket_345769', u'Ticket_345770', u'Ticket_345771', u'Ticket_345773', u'Ticket_345774', u'Ticket_345775', u'Ticket_345778', u'Ticket_345779', u'Ticket_345780', u'Ticket_345781', u'Ticket_345783', u'Ticket_3460', u'Ticket_3470', u'Ticket_347054', u'Ticket_347060', u'Ticket_347061', u'Ticket_347062', u'Ticket_347063', u'Ticket_347064', u'Ticket_347065', u'Ticket_347066', u'Ticket_347067', u'Ticket_347068', u'Ticket_347069', u'Ticket_347070', u'Ticket_347071', u'Ticket_347072', u'Ticket_347073', u'Ticket_347074', u'Ticket_347075', u'Ticket_347076', u'Ticket_347077', u'Ticket_347078', u'Ticket_347079', u'Ticket_347080', u'Ticket_347081', u'Ticket_347082', u'Ticket_347083', u'Ticket_347085', u'Ticket_347086', u'Ticket_347087', u'Ticket_347088', u'Ticket_347089', u'Ticket_347090', u'Ticket_347091', u'Ticket_3474', u'Ticket_347464', u'Ticket_347465', u'Ticket_347466', u'Ticket_347467', u'Ticket_347468', u'Ticket_347469', u'Ticket_347470', u'Ticket_347471', u'Ticket_347742', u'Ticket_347743', u'Ticket_348121', u'Ticket_348122', u'Ticket_348123', u'Ticket_348124', u'Ticket_348125', u'Ticket_349202', u'Ticket_349203', u'Ticket_349204', u'Ticket_349205', u'Ticket_349206', u'Ticket_349207', u'Ticket_349209', u'Ticket_349210', u'Ticket_349211', u'Ticket_349212', u'Ticket_349213', u'Ticket_349219', u'Ticket_349220', u'Ticket_349224', u'Ticket_349226', u'Ticket_349228', u'Ticket_349229', u'Ticket_349230', u'Ticket_349231', u'Ticket_349232', u'Ticket_349233', u'Ticket_349235', u'Ticket_349236', u'Ticket_349237', u'Ticket_349238', u'Ticket_349239', u'Ticket_349240', u'Ticket_349241', u'Ticket_349242', u'Ticket_349243', u'Ticket_349244', u'Ticket_349245', u'Ticket_349246', u'Ticket_349247', u'Ticket_349248', u'Ticket_349249', u'Ticket_349250', u'Ticket_349251', u'Ticket_349252', u'Ticket_349255', u'Ticket_349256', u'Ticket_349257', u'Ticket_349909', u'Ticket_349910', u'Ticket_349911', u'Ticket_349912', u'Ticket_350025', u'Ticket_350026', u'Ticket_350029', u'Ticket_350033', u'Ticket_350034', u'Ticket_350035', u'Ticket_350036', u'Ticket_350042', u'Ticket_350043', u'Ticket_350045', u'Ticket_350046', u'Ticket_350047', u'Ticket_350048', u'Ticket_350050', u'Ticket_350052', u'Ticket_350053', u'Ticket_350054', u'Ticket_350060', u'Ticket_350403', u'Ticket_350404', u'Ticket_350405', u'Ticket_350406', u'Ticket_350407', u'Ticket_350408', u'Ticket_350409', u'Ticket_350410', u'Ticket_350416', u'Ticket_350417', u'Ticket_35273', u'Ticket_35281', u'Ticket_35851', u'Ticket_358585', u'Ticket_359306', u'Ticket_359309', u'Ticket_363272', u'Ticket_363291', u'Ticket_363294', u'Ticket_363592', u'Ticket_363611', u'Ticket_364498', u'Ticket_364499', u'Ticket_364500', u'Ticket_364506', u'Ticket_364511', u'Ticket_364512', u'Ticket_364516', u'Ticket_364846', u'Ticket_364849', u'Ticket_364850', u'Ticket_364856', u'Ticket_364858', u'Ticket_364859', u'Ticket_365222', u'Ticket_365226', u'Ticket_365235', u'Ticket_365237', u'Ticket_36568', u'Ticket_366713', u'Ticket_367226', u'Ticket_367227', u'Ticket_367231', u'Ticket_367232', u'Ticket_368364', u'Ticket_368402', u'Ticket_368573', u'Ticket_36864', u'Ticket_368702', u'Ticket_368783', u'Ticket_36928', u'Ticket_36947', u'Ticket_36963', u'Ticket_36967', u'Ticket_36973', u'Ticket_3701', u'Ticket_370129', u'Ticket_370368', u'Ticket_370369', u'Ticket_370371', u'Ticket_370373', u'Ticket_370374', u'Ticket_370376', u'Ticket_371109', u'Ticket_371362', u'Ticket_373450', u'Ticket_374887', u'Ticket_376563', u'Ticket_376566', u'Ticket_382650', u'Ticket_382651', u'Ticket_382652', u'Ticket_382653', u'Ticket_383123', u'Ticket_383162', u'Ticket_386525', u'Ticket_392091', u'Ticket_392095', u'Ticket_392096', u'Ticket_4133', u'Ticket_4134', u'Ticket_4135', u'Ticket_4136', u'Ticket_4137', u'Ticket_4138', u'Ticket_4579', u'Ticket_54636', u'Ticket_5727', u'Ticket_65305', u'Ticket_6563', u'Ticket_680', u'Ticket_693', u'Ticket_694', u'Ticket_695', u'Ticket_7266', u'Ticket_7267', u'Ticket_7534', u'Ticket_7538', u'Ticket_7540', u'Ticket_7545', u'Ticket_7546', u'Ticket_7548', u'Ticket_7552', u'Ticket_7553', u'Ticket_7598', u'Ticket_7935', u'Ticket_8471', u'Ticket_8475', u'Ticket_9232', u'Ticket_A. 2. 39186', u'Ticket_A./5. 2152', u'Ticket_A./5. 3338', u'Ticket_A.5. 11206', u'Ticket_A.5. 18509', u'Ticket_A.5. 3236', u'Ticket_A/4 31416', u'Ticket_A/4 45380', u'Ticket_A/4 48871', u'Ticket_A/4 48873', u'Ticket_A/4. 20589', u'Ticket_A/4. 39886', u'Ticket_A/5 1478', u'Ticket_A/5 21171', u'Ticket_A/5 21172', u'Ticket_A/5 21173', u'Ticket_A/5 21174', u'Ticket_A/5 21175', u'Ticket_A/5 3536', u'Ticket_A/5 3540', u'Ticket_A/5 3594', u'Ticket_A/5 3902', u'Ticket_A/5. 10482', u'Ticket_A/5. 13032', u'Ticket_A/5. 2151', u'Ticket_A/5. 3336', u'Ticket_A/5. 3337', u'Ticket_A/5. 851', u'Ticket_AQ/3. 30631', u'Ticket_AQ/4 3130', u'Ticket_C 17368', u'Ticket_C 17369', u'Ticket_C 4001', u'Ticket_C 7075', u'Ticket_C 7076', u'Ticket_C 7077', u'Ticket_C.A. 15185', u'Ticket_C.A. 17248', u'Ticket_C.A. 18723', u'Ticket_C.A. 2315', u'Ticket_C.A. 24579', u'Ticket_C.A. 24580', u'Ticket_C.A. 2673', u'Ticket_C.A. 29178', u'Ticket_C.A. 29395', u'Ticket_C.A. 29566', u'Ticket_C.A. 30769', u'Ticket_C.A. 31026', u'Ticket_C.A. 31029', u'Ticket_C.A. 31030', u'Ticket_C.A. 31921', u'Ticket_C.A. 33111', u'Ticket_C.A. 33112', u'Ticket_C.A. 33595', u'Ticket_C.A. 34050', u'Ticket_C.A. 34260', u'Ticket_C.A. 34644', u'Ticket_C.A. 34651', u'Ticket_C.A. 37671', u'Ticket_C.A. 42795', u'Ticket_C.A. 49867', u'Ticket_C.A. 5547', u'Ticket_C.A. 6212', u'Ticket_C.A./SOTON 34068', u'Ticket_CA 2144', u'Ticket_CA 31352', u'Ticket_CA. 2314', u'Ticket_CA. 2343', u'Ticket_F.C. 12750', u'Ticket_F.C. 12998', u'Ticket_F.C.C. 13528', u'Ticket_F.C.C. 13529', u'Ticket_F.C.C. 13531', u'Ticket_F.C.C. 13534', u'Ticket_F.C.C. 13540', u'Ticket_LINE', u'Ticket_LP 1588', u'Ticket_P/PP 3381', u'Ticket_PC 17473', u'Ticket_PC 17474', u'Ticket_PC 17475', u'Ticket_PC 17476', u'Ticket_PC 17477', u'Ticket_PC 17482', u'Ticket_PC 17483', u'Ticket_PC 17485', u'Ticket_PC 17531', u'Ticket_PC 17558', u'Ticket_PC 17562', u'Ticket_PC 17569', u'Ticket_PC 17572', u'Ticket_PC 17580', u'Ticket_PC 17582', u'Ticket_PC 17585', u'Ticket_PC 17590', u'Ticket_PC 17591', u'Ticket_PC 17592', u'Ticket_PC 17593', u'Ticket_PC 17594', u'Ticket_PC 17595', u'Ticket_PC 17596', u'Ticket_PC 17597', u'Ticket_PC 17598', u'Ticket_PC 17599', u'Ticket_PC 17601', u'Ticket_PC 17603', u'Ticket_PC 17604', u'Ticket_PC 17606', u'Ticket_PC 17607', u'Ticket_PC 17608', u'Ticket_PC 17609', u'Ticket_PC 17610', u'Ticket_PC 17611', u'Ticket_PC 17613', u'Ticket_PC 17754', u'Ticket_PC 17755', u'Ticket_PC 17756', u'Ticket_PC 17757', u'Ticket_PC 17758', u'Ticket_PC 17759', u'Ticket_PC 17760', u'Ticket_PC 17761', u'Ticket_PP 4348', u'Ticket_PP 9549', u'Ticket_S.C./PARIS 2079', u'Ticket_S.O./P.P. 2', u'Ticket_S.O./P.P. 251', u'Ticket_S.O./P.P. 3', u'Ticket_S.O./P.P. 752', u'Ticket_S.O.C. 14879', u'Ticket_S.O.P. 1166', u'Ticket_S.P. 3464', u'Ticket_S.W./PP 752', u'Ticket_SC 14888', u'Ticket_SC 1748', u'Ticket_SC/A.3 2861', u'Ticket_SC/A4 23568', u'Ticket_SC/AH 29037', u'Ticket_SC/AH 3085', u'Ticket_SC/AH Basle 541', u'Ticket_SC/PARIS 2133', u'Ticket_SC/PARIS 2147', u'Ticket_SC/PARIS 2148', u'Ticket_SC/PARIS 2149', u'Ticket_SC/PARIS 2159', u'Ticket_SC/PARIS 2166', u'Ticket_SC/PARIS 2167', u'Ticket_SC/PARIS 2168', u'Ticket_SC/Paris 2123', u'Ticket_SC/Paris 2163', u'Ticket_SCO/W 1585', u'Ticket_SO/C 14885', u'Ticket_SOTON/O.Q. 3101262', u'Ticket_SOTON/O.Q. 3101263', u'Ticket_SOTON/O.Q. 3101306', u'Ticket_SOTON/O.Q. 3101307', u'Ticket_SOTON/O.Q. 3101308', u'Ticket_SOTON/O.Q. 3101309', u'Ticket_SOTON/O.Q. 3101310', u'Ticket_SOTON/O.Q. 3101311', u'Ticket_SOTON/O.Q. 3101312', u'Ticket_SOTON/O.Q. 3101314', u'Ticket_SOTON/O.Q. 3101315', u'Ticket_SOTON/O.Q. 392078', u'Ticket_SOTON/O2 3101272', u'Ticket_SOTON/O2 3101284', u'Ticket_SOTON/O2 3101287', u'Ticket_SOTON/OQ 3101317', u'Ticket_SOTON/OQ 392076', u'Ticket_SOTON/OQ 392083', u'Ticket_SOTON/OQ 392089', u'Ticket_SOTON/OQ 392090', u'Ticket_STON/O 2. 3101268', u'Ticket_STON/O 2. 3101269', u'Ticket_STON/O 2. 3101273', u'Ticket_STON/O 2. 3101274', u'Ticket_STON/O 2. 3101275', u'Ticket_STON/O 2. 3101280', u'Ticket_STON/O 2. 3101285', u'Ticket_STON/O 2. 3101286', u'Ticket_STON/O 2. 3101288', u'Ticket_STON/O 2. 3101289', u'Ticket_STON/O 2. 3101291', u'Ticket_STON/O 2. 3101292', u'Ticket_STON/O 2. 3101293', u'Ticket_STON/O 2. 3101294', u'Ticket_STON/O2. 3101270', u'Ticket_STON/O2. 3101271', u'Ticket_STON/O2. 3101279', u'Ticket_STON/O2. 3101282', u'Ticket_STON/O2. 3101283', u'Ticket_STON/O2. 3101290', u'Ticket_STON/OQ. 369943', u'Ticket_SW/PP 751', u'Ticket_W./C. 14258', u'Ticket_W./C. 14260', u'Ticket_W./C. 14263', u'Ticket_W./C. 14266', u'Ticket_W./C. 6607', u'Ticket_W./C. 6608', u'Ticket_W.E.P. 5734', u'Ticket_W/C 14208', u'Ticket_WE/P 5735'] [u'Age', u'Embarked_C', u'Embarked_Q', u'Embarked_S', u'Fare', u'Parch', u'Pclass_1', u'Pclass_2', u'Pclass_3', u'Sex_female', u'Sex_male', u'SibSp', u'Survived', u'Ticket_110152', u'Ticket_110413', u'Ticket_110465', u'Ticket_110469', u'Ticket_110489', u'Ticket_110564', u'Ticket_110813', u'Ticket_111163', u'Ticket_111240', u'Ticket_111320', u'Ticket_111361', u'Ticket_111369', u'Ticket_111426', u'Ticket_111427', u'Ticket_111428', u'Ticket_112050', u'Ticket_112051', u'Ticket_112052', u'Ticket_112053', u'Ticket_112058', u'Ticket_112059', u'Ticket_112277', u'Ticket_112377', u'Ticket_112378', u'Ticket_112379', u'Ticket_112901', u'Ticket_113028', u'Ticket_113038', u'Ticket_113043', u'Ticket_113044', u'Ticket_113050', u'Ticket_113051', u'Ticket_113054', u'Ticket_113055', u'Ticket_113056', u'Ticket_113059', u'Ticket_113501', u'Ticket_113503', u'Ticket_113505', u'Ticket_113509', u'Ticket_113510', u'Ticket_113514', u'Ticket_113572', u'Ticket_113760', u'Ticket_113767', u'Ticket_113773', u'Ticket_113776', u'Ticket_113778', u'Ticket_113780', u'Ticket_113781', u'Ticket_113783', u'Ticket_113784', u'Ticket_113786', u'Ticket_113787', u'Ticket_113788', u'Ticket_113789', u'Ticket_113790', u'Ticket_113791', u'Ticket_113792', u'Ticket_113794', u'Ticket_113795', u'Ticket_113796', u'Ticket_113798', u'Ticket_113800', u'Ticket_113801', u'Ticket_113803', u'Ticket_113804', u'Ticket_113806', u'Ticket_113807', u'Ticket_11668', u'Ticket_11751', u'Ticket_11752', u'Ticket_11753', u'Ticket_11755', u'Ticket_11765', u'Ticket_11767', u'Ticket_11769', u'Ticket_11770', u'Ticket_11771', u'Ticket_11774', u'Ticket_11778', u'Ticket_11813', u'Ticket_11967', u'Ticket_1222', u'Ticket_12233', u'Ticket_12460', u'Ticket_12749', u'Ticket_13049', u'Ticket_13050', u'Ticket_13213', u'Ticket_13214', u'Ticket_13236', u'Ticket_13502', u'Ticket_13507', u'Ticket_13508', u'Ticket_13509', u'Ticket_13567', u'Ticket_13568', u'Ticket_13695', u'Ticket_13905', u'Ticket_14311', u'Ticket_14312', u'Ticket_14313', u'Ticket_14973', u'Ticket_1601', u'Ticket_16966', u'Ticket_16988', u'Ticket_17421', u'Ticket_17453', u'Ticket_17463', u'Ticket_17464', u'Ticket_17465', u'Ticket_17466', u'Ticket_17474', u'Ticket_17475', u'Ticket_17764', u'Ticket_17765', u'Ticket_17770', u'Ticket_19877', u'Ticket_19924', u'Ticket_19928', u'Ticket_19943', u'Ticket_19947', u'Ticket_19950', u'Ticket_19952', u'Ticket_19972', u'Ticket_19988', u'Ticket_19996', u'Ticket_2003', u'Ticket_211535', u'Ticket_211536', u'Ticket_21228', u'Ticket_21332', u'Ticket_21440', u'Ticket_218629', u'Ticket_219533', u'Ticket_220367', u'Ticket_220844', u'Ticket_220845', u'Ticket_2223', u'Ticket_223596', u'Ticket_226593', u'Ticket_226875', u'Ticket_228414', u'Ticket_229236', u'Ticket_230080', u'Ticket_230136', u'Ticket_230433', u'Ticket_230434', u'Ticket_231919', u'Ticket_231945', u'Ticket_233478', u'Ticket_233639', u'Ticket_233734', u'Ticket_233866', u'Ticket_234360', u'Ticket_234604', u'Ticket_234686', u'Ticket_234818', u'Ticket_235509', u'Ticket_236171', u'Ticket_236852', u'Ticket_236853', u'Ticket_236854', u'Ticket_237216', u'Ticket_237249', u'Ticket_237393', u'Ticket_237442', u'Ticket_237565', u'Ticket_237668', u'Ticket_237670', u'Ticket_237671', u'Ticket_237734', u'Ticket_237735', u'Ticket_237736', u'Ticket_237789', u'Ticket_237798', u'Ticket_239059', u'Ticket_239853', u'Ticket_239854', u'Ticket_239855', u'Ticket_239856', u'Ticket_239865', u'Ticket_240261', u'Ticket_240276', u'Ticket_24065', u'Ticket_240929', u'Ticket_24160', u'Ticket_242963', u'Ticket_243847', u'Ticket_243880', u'Ticket_244252', u'Ticket_244270', u'Ticket_244278', u'Ticket_244310', u'Ticket_244346', u'Ticket_244358', u'Ticket_244360', u'Ticket_244361', u'Ticket_244367', u'Ticket_244368', u'Ticket_244373', u'Ticket_248659', u'Ticket_248698', u'Ticket_248706', u'Ticket_248723', u'Ticket_248726', u'Ticket_248727', u'Ticket_248731', u'Ticket_248733', u'Ticket_248734', u'Ticket_248738', u'Ticket_248740', u'Ticket_248744', u'Ticket_248746', u'Ticket_248747', u'Ticket_250643', u'Ticket_250644', u'Ticket_250646', u'Ticket_250647', u'Ticket_250648', u'Ticket_250649', u'Ticket_250650', u'Ticket_250651', u'Ticket_250652', u'Ticket_250653', u'Ticket_250655', u'Ticket_2543', u'Ticket_2620', u'Ticket_2621', u'Ticket_2622', u'Ticket_2623', u'Ticket_2624', u'Ticket_2625', u'Ticket_2626', u'Ticket_2627', u'Ticket_2628', u'Ticket_2629', u'Ticket_2631', u'Ticket_26360', u'Ticket_2641', u'Ticket_2647', u'Ticket_2648', u'Ticket_2649', u'Ticket_2650', u'Ticket_2651', u'Ticket_2652', u'Ticket_2653', u'Ticket_2654', u'Ticket_2655', u'Ticket_2656', u'Ticket_2657', u'Ticket_2658', u'Ticket_2659', u'Ticket_2660', u'Ticket_2661', u'Ticket_2662', u'Ticket_2663', u'Ticket_2664', u'Ticket_2665', u'Ticket_2666', u'Ticket_2667', u'Ticket_2668', u'Ticket_2669', u'Ticket_2670', u'Ticket_26707', u'Ticket_2671', u'Ticket_2672', u'Ticket_2673', u'Ticket_2674', u'Ticket_2675', u'Ticket_2676', u'Ticket_2677', u'Ticket_2678', u'Ticket_2679', u'Ticket_2680', u'Ticket_2681', u'Ticket_2682', u'Ticket_2683', u'Ticket_2684', u'Ticket_2685', u'Ticket_2686', u'Ticket_2687', u'Ticket_2688', u'Ticket_2689', u'Ticket_2690', u'Ticket_2691', u'Ticket_2692', u'Ticket_2693', u'Ticket_2694', u'Ticket_2695', u'Ticket_2696', u'Ticket_2697', u'Ticket_2698', u'Ticket_2699', u'Ticket_2700', u'Ticket_27042', u'Ticket_27267', u'Ticket_27849', u'Ticket_28004', u'Ticket_28034', u'Ticket_28133', u'Ticket_28134', u'Ticket_28206', u'Ticket_28213', u'Ticket_28220', u'Ticket_28221', u'Ticket_28228', u'Ticket_28403', u'Ticket_28404', u'Ticket_28424', u'Ticket_28425', u'Ticket_28551', u'Ticket_28664', u'Ticket_28665', u'Ticket_28666', u'Ticket_29011', u'Ticket_2908', u'Ticket_29103', u'Ticket_29104', u'Ticket_29105', u'Ticket_29106', u'Ticket_29107', u'Ticket_29108', u'Ticket_2926', u'Ticket_29750', u'Ticket_29751', u'Ticket_3101264', u'Ticket_3101265', u'Ticket_3101266', u'Ticket_3101267', u'Ticket_3101276', u'Ticket_3101277', u'Ticket_3101278', u'Ticket_3101281', u'Ticket_3101295', u'Ticket_3101296', u'Ticket_3101297', u'Ticket_3101298', u'Ticket_31027', u'Ticket_31028', u'Ticket_312991', u'Ticket_312992', u'Ticket_312993', u'Ticket_31418', u'Ticket_315037', u'Ticket_315082', u'Ticket_315083', u'Ticket_315084', u'Ticket_315085', u'Ticket_315086', u'Ticket_315087', u'Ticket_315088', u'Ticket_315089', u'Ticket_315090', u'Ticket_315091', u'Ticket_315092', u'Ticket_315093', u'Ticket_315094', u'Ticket_315095', u'Ticket_315096', u'Ticket_315097', u'Ticket_315098', u'Ticket_315151', u'Ticket_315152', u'Ticket_315153', u'Ticket_315154', u'Ticket_32302', u'Ticket_323592', u'Ticket_323951', u'Ticket_324669', u'Ticket_329944', u'Ticket_330844', u'Ticket_330877', u'Ticket_330909', u'Ticket_330910', u'Ticket_330911', u'Ticket_330919', u'Ticket_330920', u'Ticket_330923', u'Ticket_330924', u'Ticket_330931', u'Ticket_330932', u'Ticket_330935', u'Ticket_330958', u'Ticket_330959', u'Ticket_330963', u'Ticket_330968', u'Ticket_330971', u'Ticket_330972', u'Ticket_330979', u'Ticket_330980', u'Ticket_334912', u'Ticket_334914', u'Ticket_334915', u'Ticket_335097', u'Ticket_335432', u'Ticket_335677', u'Ticket_33638', u'Ticket_336439', u'Ticket_3410', u'Ticket_3411', u'Ticket_341826', u'Ticket_34218', u'Ticket_342441', u'Ticket_342684', u'Ticket_342712', u'Ticket_342826', u'Ticket_343095', u'Ticket_343120', u'Ticket_343271', u'Ticket_343275', u'Ticket_343276', u'Ticket_345364', u'Ticket_345498', u'Ticket_345501', u'Ticket_345572', u'Ticket_345763', u'Ticket_345764', u'Ticket_345765', u'Ticket_345767', u'Ticket_345768', u'Ticket_345769', u'Ticket_345770', u'Ticket_345771', u'Ticket_345773', u'Ticket_345774', u'Ticket_345775', u'Ticket_345777', u'Ticket_345778', u'Ticket_345779', u'Ticket_345780', u'Ticket_345781', u'Ticket_345783', u'Ticket_3460', u'Ticket_3470', u'Ticket_347054', u'Ticket_347060', u'Ticket_347061', u'Ticket_347062', u'Ticket_347063', u'Ticket_347064', u'Ticket_347065', u'Ticket_347066', u'Ticket_347067', u'Ticket_347068', u'Ticket_347069', u'Ticket_347070', u'Ticket_347071', u'Ticket_347072', u'Ticket_347073', u'Ticket_347074', u'Ticket_347075', u'Ticket_347076', u'Ticket_347077', u'Ticket_347078', u'Ticket_347079', u'Ticket_347080', u'Ticket_347081', u'Ticket_347082', u'Ticket_347083', u'Ticket_347085', u'Ticket_347086', u'Ticket_347087', u'Ticket_347088', u'Ticket_347089', u'Ticket_347090', u'Ticket_347091', u'Ticket_3474', u'Ticket_347464', u'Ticket_347465', u'Ticket_347466', u'Ticket_347467', u'Ticket_347468', u'Ticket_347469', u'Ticket_347470', u'Ticket_347471', u'Ticket_347742', u'Ticket_347743', u'Ticket_348121', u'Ticket_348122', u'Ticket_348123', u'Ticket_348124', u'Ticket_348125', u'Ticket_349201', u'Ticket_349202', u'Ticket_349203', u'Ticket_349204', u'Ticket_349205', u'Ticket_349206', u'Ticket_349207', u'Ticket_349208', u'Ticket_349209', u'Ticket_349210', u'Ticket_349211', u'Ticket_349212', u'Ticket_349213', u'Ticket_349214', u'Ticket_349215', u'Ticket_349216', u'Ticket_349217', u'Ticket_349218', u'Ticket_349219', u'Ticket_349220', u'Ticket_349221', u'Ticket_349222', u'Ticket_349223', u'Ticket_349224', u'Ticket_349225', u'Ticket_349226', u'Ticket_349227', u'Ticket_349228', u'Ticket_349229', u'Ticket_349230', u'Ticket_349231', u'Ticket_349232', u'Ticket_349233', u'Ticket_349234', u'Ticket_349235', u'Ticket_349236', u'Ticket_349237', u'Ticket_349238', u'Ticket_349239', u'Ticket_349240', u'Ticket_349241', u'Ticket_349242', u'Ticket_349243', u'Ticket_349244', u'Ticket_349245', u'Ticket_349246', u'Ticket_349247', u'Ticket_349248', u'Ticket_349249', u'Ticket_349250', u'Ticket_349251', u'Ticket_349252', u'Ticket_349253', u'Ticket_349254', u'Ticket_349255', u'Ticket_349256', u'Ticket_349257', u'Ticket_349909', u'Ticket_349910', u'Ticket_349911', u'Ticket_349912', u'Ticket_350025', u'Ticket_350026', u'Ticket_350029', u'Ticket_350033', u'Ticket_350034', u'Ticket_350035', u'Ticket_350036', u'Ticket_350042', u'Ticket_350043', u'Ticket_350045', u'Ticket_350046', u'Ticket_350047', u'Ticket_350048', u'Ticket_350050', u'Ticket_350052', u'Ticket_350053', u'Ticket_350054', u'Ticket_350060', u'Ticket_350403', u'Ticket_350404', u'Ticket_350405', u'Ticket_350406', u'Ticket_350407', u'Ticket_350408', u'Ticket_350409', u'Ticket_350410', u'Ticket_350416', u'Ticket_350417', u'Ticket_35273', u'Ticket_35281', u'Ticket_35851', u'Ticket_35852', u'Ticket_358585', u'Ticket_359306', u'Ticket_359309', u'Ticket_36209', u'Ticket_362316', u'Ticket_363272', u'Ticket_363291', u'Ticket_363294', u'Ticket_363592', u'Ticket_363611', u'Ticket_364498', u'Ticket_364499', u'Ticket_364500', u'Ticket_364506', u'Ticket_364511', u'Ticket_364512', u'Ticket_364516', u'Ticket_364846', u'Ticket_364848', u'Ticket_364849', u'Ticket_364850', u'Ticket_364851', u'Ticket_364856', u'Ticket_364858', u'Ticket_364859', u'Ticket_365222', u'Ticket_365226', u'Ticket_365235', u'Ticket_365237', u'Ticket_36568', u'Ticket_366713', u'Ticket_367226', u'Ticket_367227', u'Ticket_367228', u'Ticket_367229', u'Ticket_367230', u'Ticket_367231', u'Ticket_367232', u'Ticket_367655', u'Ticket_368323', u'Ticket_368364', u'Ticket_368402', u'Ticket_368573', u'Ticket_36864', u'Ticket_36865', u'Ticket_36866', u'Ticket_368702', u'Ticket_368703', u'Ticket_368783', u'Ticket_36928', u'Ticket_36947', u'Ticket_36963', u'Ticket_36967', u'Ticket_36973', u'Ticket_3701', u'Ticket_370129', u'Ticket_370365', u'Ticket_370368', u'Ticket_370369', u'Ticket_370370', u'Ticket_370371', u'Ticket_370372', u'Ticket_370373', u'Ticket_370374', u'Ticket_370375', u'Ticket_370376', u'Ticket_370377', u'Ticket_371060', u'Ticket_371109', u'Ticket_371110', u'Ticket_371362', u'Ticket_372622', u'Ticket_373450', u'Ticket_374746', u'Ticket_374887', u'Ticket_374910', u'Ticket_376563', u'Ticket_376564', u'Ticket_376566', u'Ticket_382649', u'Ticket_382650', u'Ticket_382651', u'Ticket_382652', u'Ticket_382653', u'Ticket_383121', u'Ticket_383123', u'Ticket_383162', u'Ticket_384461', u'Ticket_386525', u'Ticket_392091', u'Ticket_392092', u'Ticket_392095', u'Ticket_392096', u'Ticket_394140', u'Ticket_4133', u'Ticket_4134', u'Ticket_4135', u'Ticket_4136', u'Ticket_4137', u'Ticket_4138', u'Ticket_4579', u'Ticket_54636', u'Ticket_5727', u'Ticket_65303', u'Ticket_65304', u'Ticket_65305', u'Ticket_65306', u'Ticket_6563', u'Ticket_680', u'Ticket_693', u'Ticket_694', u'Ticket_695', u'Ticket_7266', u'Ticket_7267', u'Ticket_7534', u'Ticket_7538', u'Ticket_7540', u'Ticket_7545', u'Ticket_7546', u'Ticket_7548', u'Ticket_7552', u'Ticket_7553', u'Ticket_7598', u'Ticket_7935', u'Ticket_8471', u'Ticket_8475', u'Ticket_9232', u'Ticket_9234', u'Ticket_A. 2. 39186', u'Ticket_A./5. 2152', u'Ticket_A./5. 3235', u'Ticket_A./5. 3338', u'Ticket_A.5. 11206', u'Ticket_A.5. 18509', u'Ticket_A.5. 3236', u'Ticket_A/4 31416', u'Ticket_A/4 45380', u'Ticket_A/4 48871', u'Ticket_A/4 48873', u'Ticket_A/4. 20589', u'Ticket_A/4. 34244', u'Ticket_A/4. 39886', u'Ticket_A/5 1478', u'Ticket_A/5 21171', u'Ticket_A/5 21172', u'Ticket_A/5 21173', u'Ticket_A/5 21174', u'Ticket_A/5 21175', u'Ticket_A/5 2466', u'Ticket_A/5 2817', u'Ticket_A/5 3536', u'Ticket_A/5 3540', u'Ticket_A/5 3594', u'Ticket_A/5 3902', u'Ticket_A/5. 10482', u'Ticket_A/5. 13032', u'Ticket_A/5. 2151', u'Ticket_A/5. 3336', u'Ticket_A/5. 3337', u'Ticket_A/5. 851', u'Ticket_A/S 2816', u'Ticket_A4. 54510', u'Ticket_AQ/3. 30631', u'Ticket_AQ/4 3130', u'Ticket_C 17368', u'Ticket_C 17369', u'Ticket_C 4001', u'Ticket_C 7075', u'Ticket_C 7076', u'Ticket_C 7077', u'Ticket_C.A. 15185', u'Ticket_C.A. 17248', u'Ticket_C.A. 18723', u'Ticket_C.A. 2315', u'Ticket_C.A. 24579', u'Ticket_C.A. 24580', u'Ticket_C.A. 2673', u'Ticket_C.A. 29178', u'Ticket_C.A. 29395', u'Ticket_C.A. 29566', u'Ticket_C.A. 30769', u'Ticket_C.A. 31026', u'Ticket_C.A. 31029', u'Ticket_C.A. 31030', u'Ticket_C.A. 31921', u'Ticket_C.A. 33111', u'Ticket_C.A. 33112', u'Ticket_C.A. 33595', u'Ticket_C.A. 34050', u'Ticket_C.A. 34260', u'Ticket_C.A. 34644', u'Ticket_C.A. 34651', u'Ticket_C.A. 37671', u'Ticket_C.A. 42795', u'Ticket_C.A. 49867', u'Ticket_C.A. 5547', u'Ticket_C.A. 6212', u'Ticket_C.A./SOTON 34068', u'Ticket_CA 2144', u'Ticket_CA 31352', u'Ticket_CA. 2314', u'Ticket_CA. 2343', u'Ticket_F.C. 12750', u'Ticket_F.C. 12998', u'Ticket_F.C.C. 13528', u'Ticket_F.C.C. 13529', u'Ticket_F.C.C. 13531', u'Ticket_F.C.C. 13534', u'Ticket_F.C.C. 13540', u'Ticket_Fa 265302', u'Ticket_LINE', u'Ticket_LP 1588', u'Ticket_P/PP 3381', u'Ticket_PC 17318', u'Ticket_PC 17473', u'Ticket_PC 17474', u'Ticket_PC 17475', u'Ticket_PC 17476', u'Ticket_PC 17477', u'Ticket_PC 17482', u'Ticket_PC 17483', u'Ticket_PC 17485', u'Ticket_PC 17531', u'Ticket_PC 17558', u'Ticket_PC 17562', u'Ticket_PC 17569', u'Ticket_PC 17572', u'Ticket_PC 17580', u'Ticket_PC 17582', u'Ticket_PC 17585', u'Ticket_PC 17590', u'Ticket_PC 17591', u'Ticket_PC 17592', u'Ticket_PC 17593', u'Ticket_PC 17594', u'Ticket_PC 17595', u'Ticket_PC 17596', u'Ticket_PC 17597', u'Ticket_PC 17598', u'Ticket_PC 17599', u'Ticket_PC 17600', u'Ticket_PC 17601', u'Ticket_PC 17603', u'Ticket_PC 17604', u'Ticket_PC 17605', u'Ticket_PC 17606', u'Ticket_PC 17607', u'Ticket_PC 17608', u'Ticket_PC 17609', u'Ticket_PC 17610', u'Ticket_PC 17611', u'Ticket_PC 17612', u'Ticket_PC 17613', u'Ticket_PC 17754', u'Ticket_PC 17755', u'Ticket_PC 17756', u'Ticket_PC 17757', u'Ticket_PC 17758', u'Ticket_PC 17759', u'Ticket_PC 17760', u'Ticket_PC 17761', u'Ticket_PP 4348', u'Ticket_PP 9549', u'Ticket_S.C./A.4. 23567', u'Ticket_S.C./PARIS 2079', u'Ticket_S.O./P.P. 2', u'Ticket_S.O./P.P. 251', u'Ticket_S.O./P.P. 3', u'Ticket_S.O./P.P. 751', u'Ticket_S.O./P.P. 752', u'Ticket_S.O.C. 14879', u'Ticket_S.O.P. 1166', u'Ticket_S.P. 3464', u'Ticket_S.W./PP 752', u'Ticket_SC 14888', u'Ticket_SC 1748', u'Ticket_SC/A.3 2861', u'Ticket_SC/A4 23568', u'Ticket_SC/AH 29037', u'Ticket_SC/AH 3085', u'Ticket_SC/AH Basle 541', u'Ticket_SC/PARIS 2131', u'Ticket_SC/PARIS 2133', u'Ticket_SC/PARIS 2146', u'Ticket_SC/PARIS 2147', u'Ticket_SC/PARIS 2148', u'Ticket_SC/PARIS 2149', u'Ticket_SC/PARIS 2159', u'Ticket_SC/PARIS 2166', u'Ticket_SC/PARIS 2167', u'Ticket_SC/PARIS 2168', u'Ticket_SC/Paris 2123', u'Ticket_SC/Paris 2163', u'Ticket_SCO/W 1585', u'Ticket_SO/C 14885', u'Ticket_SOTON/O.Q. 3101262', u'Ticket_SOTON/O.Q. 3101263', u'Ticket_SOTON/O.Q. 3101305', u'Ticket_SOTON/O.Q. 3101306', u'Ticket_SOTON/O.Q. 3101307', u'Ticket_SOTON/O.Q. 3101308', u'Ticket_SOTON/O.Q. 3101309', u'Ticket_SOTON/O.Q. 3101310', u'Ticket_SOTON/O.Q. 3101311', u'Ticket_SOTON/O.Q. 3101312', u'Ticket_SOTON/O.Q. 3101314', u'Ticket_SOTON/O.Q. 3101315', u'Ticket_SOTON/O.Q. 392078', u'Ticket_SOTON/O.Q. 392087', u'Ticket_SOTON/O2 3101272', u'Ticket_SOTON/O2 3101284', u'Ticket_SOTON/O2 3101287', u'Ticket_SOTON/OQ 3101316', u'Ticket_SOTON/OQ 3101317', u'Ticket_SOTON/OQ 392076', u'Ticket_SOTON/OQ 392082', u'Ticket_SOTON/OQ 392083', u'Ticket_SOTON/OQ 392086', u'Ticket_SOTON/OQ 392089', u'Ticket_SOTON/OQ 392090', u'Ticket_STON/O 2. 3101268', u'Ticket_STON/O 2. 3101269', u'Ticket_STON/O 2. 3101273', u'Ticket_STON/O 2. 3101274', u'Ticket_STON/O 2. 3101275', u'Ticket_STON/O 2. 3101280', u'Ticket_STON/O 2. 3101285', u'Ticket_STON/O 2. 3101286', u'Ticket_STON/O 2. 3101288', u'Ticket_STON/O 2. 3101289', u'Ticket_STON/O 2. 3101291', u'Ticket_STON/O 2. 3101292', u'Ticket_STON/O 2. 3101293', u'Ticket_STON/O 2. 3101294', u'Ticket_STON/O2. 3101270', u'Ticket_STON/O2. 3101271', u'Ticket_STON/O2. 3101279', u'Ticket_STON/O2. 3101282', u'Ticket_STON/O2. 3101283', u'Ticket_STON/O2. 3101290', u'Ticket_STON/OQ. 369943', u'Ticket_SW/PP 751', u'Ticket_W./C. 14258', u'Ticket_W./C. 14260', u'Ticket_W./C. 14263', u'Ticket_W./C. 14266', u'Ticket_W./C. 6607', u'Ticket_W./C. 6608', u'Ticket_W./C. 6609', u'Ticket_W.E.P. 5734', u'Ticket_W/C 14208', u'Ticket_WE/P 5735']\ntraining data did not have the following fields: Ticket_2631, Ticket_362316, Ticket_36865, Ticket_112052, Ticket_A/4. 34244, Ticket_349234, Ticket_330877, Ticket_368703, Ticket_239854, Ticket_345777, Ticket_364848, Ticket_16988, Ticket_2626, Ticket_349221, Ticket_2624, Ticket_349223, Ticket_349225, Ticket_349227, Ticket_372622, Ticket_2629, Ticket_A/5 2817, Ticket_113767, Ticket_2700, Ticket_113572, Ticket_374746, Ticket_330979, Ticket_PC 17318, Ticket_244373, Ticket_36209, Ticket_S.C./A.4. 23567, Ticket_374910, Ticket_14311, Ticket_14312, Ticket_14313, Ticket_367230, Ticket_A/5 2466, Ticket_9234, Ticket_35852, Ticket_112379, Ticket_W./C. 6609, Ticket_349253, Ticket_364851, Ticket_330909, Ticket_A/S 2816, Ticket_312991, Ticket_19947, Ticket_367228, Ticket_367229, Survived, Ticket_368323, Ticket_343095, Ticket_SC/PARIS 2131, Ticket_371060, Ticket_SOTON/OQ 392082, Ticket_SOTON/O.Q. 392087, Ticket_2647, Ticket_2649, Ticket_330919, Ticket_2641, Ticket_384461, Ticket_A./5. 3235, Ticket_394140, Ticket_382649, Ticket_370365, Ticket_349218, Ticket_312993, Ticket_SOTON/OQ 392086, Ticket_2674, Ticket_2677, Ticket_2671, Ticket_113028, Ticket_SOTON/O.Q. 3101305, Ticket_SC/PARIS 2146, Ticket_367655, Ticket_370377, Ticket_370375, Ticket_370372, Ticket_370370, Ticket_2664, Ticket_349214, Ticket_349217, Ticket_330931, Ticket_330932, Ticket_330935, Ticket_349254, Ticket_PC 17605, Ticket_PC 17600, Ticket_3411, Ticket_376564, Ticket_330980, Ticket_383121, Ticket_349215, Ticket_349222, Ticket_19988, Ticket_349216, Ticket_371110, Ticket_315037, Ticket_SOTON/OQ 3101316, Ticket_334912, Ticket_392092, Ticket_36866, Ticket_239853, Ticket_A4. 54510, Ticket_239856, Ticket_239855, Ticket_S.O./P.P. 751, Ticket_PC 17612, Ticket_349208, Ticket_113510, Ticket_349201, Ticket_65306, Ticket_65304, Ticket_65303, Ticket_11774, Ticket_226593, Ticket_2686, Ticket_113056, Ticket_111427, Ticket_335677, Ticket_12460, Ticket_Fa 265302, Ticket_323592, Ticket_330959",
     "output_type": "error",
     "traceback": [
      "\u001b[0;31m---------------------------------------------------------------------------\u001b[0m",
      "\u001b[0;31mValueError\u001b[0m                                Traceback (most recent call last)",
      "\u001b[0;32m<ipython-input-33-1f7f0183b22e>\u001b[0m in \u001b[0;36m<module>\u001b[0;34m()\u001b[0m\n\u001b[1;32m      1\u001b[0m \u001b[0mloaded_model\u001b[0m \u001b[0;34m=\u001b[0m \u001b[0mpickle\u001b[0m\u001b[0;34m.\u001b[0m\u001b[0mload\u001b[0m\u001b[0;34m(\u001b[0m\u001b[0mopen\u001b[0m\u001b[0;34m(\u001b[0m\u001b[0mmodel_ver\u001b[0m\u001b[0;34m,\u001b[0m \u001b[0;34m'rb'\u001b[0m\u001b[0;34m)\u001b[0m\u001b[0;34m)\u001b[0m\u001b[0;34m\u001b[0m\u001b[0m\n\u001b[0;32m----> 2\u001b[0;31m \u001b[0mY_predict\u001b[0m \u001b[0;34m=\u001b[0m \u001b[0mloaded_model\u001b[0m\u001b[0;34m.\u001b[0m\u001b[0mpredict\u001b[0m\u001b[0;34m(\u001b[0m\u001b[0mtest\u001b[0m\u001b[0;34m)\u001b[0m\u001b[0;34m\u001b[0m\u001b[0m\n\u001b[0m\u001b[1;32m      3\u001b[0m \u001b[0mY_predict\u001b[0m\u001b[0;34m\u001b[0m\u001b[0m\n",
      "\u001b[0;32m/Users/theerit/anaconda/envs/ipykernel_py2/lib/python2.7/site-packages/xgboost/sklearn.pyc\u001b[0m in \u001b[0;36mpredict\u001b[0;34m(self, data, output_margin, ntree_limit)\u001b[0m\n\u001b[1;32m    463\u001b[0m         class_probs = self.booster().predict(test_dmatrix,\n\u001b[1;32m    464\u001b[0m                                              \u001b[0moutput_margin\u001b[0m\u001b[0;34m=\u001b[0m\u001b[0moutput_margin\u001b[0m\u001b[0;34m,\u001b[0m\u001b[0;34m\u001b[0m\u001b[0m\n\u001b[0;32m--> 465\u001b[0;31m                                              ntree_limit=ntree_limit)\n\u001b[0m\u001b[1;32m    466\u001b[0m         \u001b[0;32mif\u001b[0m \u001b[0mlen\u001b[0m\u001b[0;34m(\u001b[0m\u001b[0mclass_probs\u001b[0m\u001b[0;34m.\u001b[0m\u001b[0mshape\u001b[0m\u001b[0;34m)\u001b[0m \u001b[0;34m>\u001b[0m \u001b[0;36m1\u001b[0m\u001b[0;34m:\u001b[0m\u001b[0;34m\u001b[0m\u001b[0m\n\u001b[1;32m    467\u001b[0m             \u001b[0mcolumn_indexes\u001b[0m \u001b[0;34m=\u001b[0m \u001b[0mnp\u001b[0m\u001b[0;34m.\u001b[0m\u001b[0margmax\u001b[0m\u001b[0;34m(\u001b[0m\u001b[0mclass_probs\u001b[0m\u001b[0;34m,\u001b[0m \u001b[0maxis\u001b[0m\u001b[0;34m=\u001b[0m\u001b[0;36m1\u001b[0m\u001b[0;34m)\u001b[0m\u001b[0;34m\u001b[0m\u001b[0m\n",
      "\u001b[0;32m/Users/theerit/anaconda/envs/ipykernel_py2/lib/python2.7/site-packages/xgboost/core.pyc\u001b[0m in \u001b[0;36mpredict\u001b[0;34m(self, data, output_margin, ntree_limit, pred_leaf)\u001b[0m\n\u001b[1;32m    937\u001b[0m             \u001b[0moption_mask\u001b[0m \u001b[0;34m|=\u001b[0m \u001b[0;36m0x02\u001b[0m\u001b[0;34m\u001b[0m\u001b[0m\n\u001b[1;32m    938\u001b[0m \u001b[0;34m\u001b[0m\u001b[0m\n\u001b[0;32m--> 939\u001b[0;31m         \u001b[0mself\u001b[0m\u001b[0;34m.\u001b[0m\u001b[0m_validate_features\u001b[0m\u001b[0;34m(\u001b[0m\u001b[0mdata\u001b[0m\u001b[0;34m)\u001b[0m\u001b[0;34m\u001b[0m\u001b[0m\n\u001b[0m\u001b[1;32m    940\u001b[0m \u001b[0;34m\u001b[0m\u001b[0m\n\u001b[1;32m    941\u001b[0m         \u001b[0mlength\u001b[0m \u001b[0;34m=\u001b[0m \u001b[0mctypes\u001b[0m\u001b[0;34m.\u001b[0m\u001b[0mc_ulong\u001b[0m\u001b[0;34m(\u001b[0m\u001b[0;34m)\u001b[0m\u001b[0;34m\u001b[0m\u001b[0m\n",
      "\u001b[0;32m/Users/theerit/anaconda/envs/ipykernel_py2/lib/python2.7/site-packages/xgboost/core.pyc\u001b[0m in \u001b[0;36m_validate_features\u001b[0;34m(self, data)\u001b[0m\n\u001b[1;32m   1177\u001b[0m \u001b[0;34m\u001b[0m\u001b[0m\n\u001b[1;32m   1178\u001b[0m                 raise ValueError(msg.format(self.feature_names,\n\u001b[0;32m-> 1179\u001b[0;31m                                             data.feature_names))\n\u001b[0m\u001b[1;32m   1180\u001b[0m \u001b[0;34m\u001b[0m\u001b[0m\n\u001b[1;32m   1181\u001b[0m     \u001b[0;32mdef\u001b[0m \u001b[0mget_split_value_histogram\u001b[0m\u001b[0;34m(\u001b[0m\u001b[0mself\u001b[0m\u001b[0;34m,\u001b[0m \u001b[0mfeature\u001b[0m\u001b[0;34m,\u001b[0m \u001b[0mfmap\u001b[0m\u001b[0;34m=\u001b[0m\u001b[0;34m''\u001b[0m\u001b[0;34m,\u001b[0m \u001b[0mbins\u001b[0m\u001b[0;34m=\u001b[0m\u001b[0mNone\u001b[0m\u001b[0;34m,\u001b[0m \u001b[0mas_pandas\u001b[0m\u001b[0;34m=\u001b[0m\u001b[0mTrue\u001b[0m\u001b[0;34m)\u001b[0m\u001b[0;34m:\u001b[0m\u001b[0;34m\u001b[0m\u001b[0m\n",
      "\u001b[0;31mValueError\u001b[0m: feature_names mismatch: [u'Age', u'Embarked_C', u'Embarked_Q', u'Embarked_S', u'Fare', u'Parch', u'Pclass_1', u'Pclass_2', u'Pclass_3', u'Sex_female', u'Sex_male', u'SibSp', u'Ticket_110152', u'Ticket_110413', u'Ticket_110465', u'Ticket_110469', u'Ticket_110489', u'Ticket_110564', u'Ticket_110813', u'Ticket_111163', u'Ticket_111240', u'Ticket_111320', u'Ticket_111361', u'Ticket_111369', u'Ticket_111426', u'Ticket_111428', u'Ticket_112050', u'Ticket_112051', u'Ticket_112053', u'Ticket_112058', u'Ticket_112059', u'Ticket_112277', u'Ticket_112377', u'Ticket_112378', u'Ticket_112901', u'Ticket_113038', u'Ticket_113043', u'Ticket_113044', u'Ticket_113050', u'Ticket_113051', u'Ticket_113054', u'Ticket_113055', u'Ticket_113059', u'Ticket_113501', u'Ticket_113503', u'Ticket_113505', u'Ticket_113509', u'Ticket_113514', u'Ticket_113760', u'Ticket_113773', u'Ticket_113776', u'Ticket_113778', u'Ticket_113780', u'Ticket_113781', u'Ticket_113783', u'Ticket_113784', u'Ticket_113786', u'Ticket_113787', u'Ticket_113788', u'Ticket_113789', u'Ticket_113790', u'Ticket_113791', u'Ticket_113792', u'Ticket_113794', u'Ticket_113795', u'Ticket_113796', u'Ticket_113798', u'Ticket_113800', u'Ticket_113801', u'Ticket_113803', u'Ticket_113804', u'Ticket_113806', u'Ticket_113807', u'Ticket_11668', u'Ticket_11751', u'Ticket_11752', u'Ticket_11753', u'Ticket_11755', u'Ticket_11765', u'Ticket_11767', u'Ticket_11769', u'Ticket_11770', u'Ticket_11771', u'Ticket_11778', u'Ticket_11813', u'Ticket_11967', u'Ticket_1222', u'Ticket_12233', u'Ticket_12749', u'Ticket_13049', u'Ticket_13050', u'Ticket_13213', u'Ticket_13214', u'Ticket_13236', u'Ticket_13502', u'Ticket_13507', u'Ticket_13508', u'Ticket_13509', u'Ticket_13567', u'Ticket_13568', u'Ticket_13695', u'Ticket_13905', u'Ticket_14973', u'Ticket_1601', u'Ticket_16966', u'Ticket_17421', u'Ticket_17453', u'Ticket_17463', u'Ticket_17464', u'Ticket_17465', u'Ticket_17466', u'Ticket_17474', u'Ticket_17475', u'Ticket_17764', u'Ticket_17765', u'Ticket_17770', u'Ticket_19877', u'Ticket_19924', u'Ticket_19928', u'Ticket_19943', u'Ticket_19950', u'Ticket_19952', u'Ticket_19972', u'Ticket_19996', u'Ticket_2003', u'Ticket_211535', u'Ticket_211536', u'Ticket_21228', u'Ticket_21332', u'Ticket_21440', u'Ticket_218629', u'Ticket_219533', u'Ticket_220367', u'Ticket_220844', u'Ticket_220845', u'Ticket_2223', u'Ticket_223596', u'Ticket_226875', u'Ticket_228414', u'Ticket_229236', u'Ticket_230080', u'Ticket_230136', u'Ticket_230433', u'Ticket_230434', u'Ticket_231919', u'Ticket_231945', u'Ticket_233478', u'Ticket_233639', u'Ticket_233734', u'Ticket_233866', u'Ticket_234360', u'Ticket_234604', u'Ticket_234686', u'Ticket_234818', u'Ticket_235509', u'Ticket_236171', u'Ticket_236852', u'Ticket_236853', u'Ticket_236854', u'Ticket_237216', u'Ticket_237249', u'Ticket_237393', u'Ticket_237442', u'Ticket_237565', u'Ticket_237668', u'Ticket_237670', u'Ticket_237671', u'Ticket_237734', u'Ticket_237735', u'Ticket_237736', u'Ticket_237789', u'Ticket_237798', u'Ticket_239059', u'Ticket_239865', u'Ticket_240261', u'Ticket_240276', u'Ticket_24065', u'Ticket_240929', u'Ticket_24160', u'Ticket_242963', u'Ticket_243847', u'Ticket_243880', u'Ticket_244252', u'Ticket_244270', u'Ticket_244278', u'Ticket_244310', u'Ticket_244346', u'Ticket_244358', u'Ticket_244360', u'Ticket_244361', u'Ticket_244367', u'Ticket_244368', u'Ticket_248659', u'Ticket_248698', u'Ticket_248706', u'Ticket_248723', u'Ticket_248726', u'Ticket_248727', u'Ticket_248731', u'Ticket_248733', u'Ticket_248734', u'Ticket_248738', u'Ticket_248740', u'Ticket_248744', u'Ticket_248746', u'Ticket_248747', u'Ticket_250643', u'Ticket_250644', u'Ticket_250646', u'Ticket_250647', u'Ticket_250648', u'Ticket_250649', u'Ticket_250650', u'Ticket_250651', u'Ticket_250652', u'Ticket_250653', u'Ticket_250655', u'Ticket_2543', u'Ticket_2620', u'Ticket_2621', u'Ticket_2622', u'Ticket_2623', u'Ticket_2625', u'Ticket_2627', u'Ticket_2628', u'Ticket_26360', u'Ticket_2648', u'Ticket_2650', u'Ticket_2651', u'Ticket_2652', u'Ticket_2653', u'Ticket_2654', u'Ticket_2655', u'Ticket_2656', u'Ticket_2657', u'Ticket_2658', u'Ticket_2659', u'Ticket_2660', u'Ticket_2661', u'Ticket_2662', u'Ticket_2663', u'Ticket_2665', u'Ticket_2666', u'Ticket_2667', u'Ticket_2668', u'Ticket_2669', u'Ticket_2670', u'Ticket_26707', u'Ticket_2672', u'Ticket_2673', u'Ticket_2675', u'Ticket_2676', u'Ticket_2678', u'Ticket_2679', u'Ticket_2680', u'Ticket_2681', u'Ticket_2682', u'Ticket_2683', u'Ticket_2684', u'Ticket_2685', u'Ticket_2687', u'Ticket_2688', u'Ticket_2689', u'Ticket_2690', u'Ticket_2691', u'Ticket_2692', u'Ticket_2693', u'Ticket_2694', u'Ticket_2695', u'Ticket_2696', u'Ticket_2697', u'Ticket_2698', u'Ticket_2699', u'Ticket_27042', u'Ticket_27267', u'Ticket_27849', u'Ticket_28004', u'Ticket_28034', u'Ticket_28133', u'Ticket_28134', u'Ticket_28206', u'Ticket_28213', u'Ticket_28220', u'Ticket_28221', u'Ticket_28228', u'Ticket_28403', u'Ticket_28404', u'Ticket_28424', u'Ticket_28425', u'Ticket_28551', u'Ticket_28664', u'Ticket_28665', u'Ticket_28666', u'Ticket_29011', u'Ticket_2908', u'Ticket_29103', u'Ticket_29104', u'Ticket_29105', u'Ticket_29106', u'Ticket_29107', u'Ticket_29108', u'Ticket_2926', u'Ticket_29750', u'Ticket_29751', u'Ticket_3101264', u'Ticket_3101265', u'Ticket_3101266', u'Ticket_3101267', u'Ticket_3101276', u'Ticket_3101277', u'Ticket_3101278', u'Ticket_3101281', u'Ticket_3101295', u'Ticket_3101296', u'Ticket_3101297', u'Ticket_3101298', u'Ticket_31027', u'Ticket_31028', u'Ticket_312992', u'Ticket_31418', u'Ticket_315082', u'Ticket_315083', u'Ticket_315084', u'Ticket_315085', u'Ticket_315086', u'Ticket_315087', u'Ticket_315088', u'Ticket_315089', u'Ticket_315090', u'Ticket_315091', u'Ticket_315092', u'Ticket_315093', u'Ticket_315094', u'Ticket_315095', u'Ticket_315096', u'Ticket_315097', u'Ticket_315098', u'Ticket_315151', u'Ticket_315152', u'Ticket_315153', u'Ticket_315154', u'Ticket_32302', u'Ticket_323951', u'Ticket_324669', u'Ticket_329944', u'Ticket_330844', u'Ticket_330910', u'Ticket_330911', u'Ticket_330920', u'Ticket_330923', u'Ticket_330924', u'Ticket_330958', u'Ticket_330963', u'Ticket_330968', u'Ticket_330971', u'Ticket_330972', u'Ticket_334914', u'Ticket_334915', u'Ticket_335097', u'Ticket_335432', u'Ticket_33638', u'Ticket_336439', u'Ticket_3410', u'Ticket_341826', u'Ticket_34218', u'Ticket_342441', u'Ticket_342684', u'Ticket_342712', u'Ticket_342826', u'Ticket_343120', u'Ticket_343271', u'Ticket_343275', u'Ticket_343276', u'Ticket_345364', u'Ticket_345498', u'Ticket_345501', u'Ticket_345572', u'Ticket_345763', u'Ticket_345764', u'Ticket_345765', u'Ticket_345767', u'Ticket_345768', u'Ticket_345769', u'Ticket_345770', u'Ticket_345771', u'Ticket_345773', u'Ticket_345774', u'Ticket_345775', u'Ticket_345778', u'Ticket_345779', u'Ticket_345780', u'Ticket_345781', u'Ticket_345783', u'Ticket_3460', u'Ticket_3470', u'Ticket_347054', u'Ticket_347060', u'Ticket_347061', u'Ticket_347062', u'Ticket_347063', u'Ticket_347064', u'Ticket_347065', u'Ticket_347066', u'Ticket_347067', u'Ticket_347068', u'Ticket_347069', u'Ticket_347070', u'Ticket_347071', u'Ticket_347072', u'Ticket_347073', u'Ticket_347074', u'Ticket_347075', u'Ticket_347076', u'Ticket_347077', u'Ticket_347078', u'Ticket_347079', u'Ticket_347080', u'Ticket_347081', u'Ticket_347082', u'Ticket_347083', u'Ticket_347085', u'Ticket_347086', u'Ticket_347087', u'Ticket_347088', u'Ticket_347089', u'Ticket_347090', u'Ticket_347091', u'Ticket_3474', u'Ticket_347464', u'Ticket_347465', u'Ticket_347466', u'Ticket_347467', u'Ticket_347468', u'Ticket_347469', u'Ticket_347470', u'Ticket_347471', u'Ticket_347742', u'Ticket_347743', u'Ticket_348121', u'Ticket_348122', u'Ticket_348123', u'Ticket_348124', u'Ticket_348125', u'Ticket_349202', u'Ticket_349203', u'Ticket_349204', u'Ticket_349205', u'Ticket_349206', u'Ticket_349207', u'Ticket_349209', u'Ticket_349210', u'Ticket_349211', u'Ticket_349212', u'Ticket_349213', u'Ticket_349219', u'Ticket_349220', u'Ticket_349224', u'Ticket_349226', u'Ticket_349228', u'Ticket_349229', u'Ticket_349230', u'Ticket_349231', u'Ticket_349232', u'Ticket_349233', u'Ticket_349235', u'Ticket_349236', u'Ticket_349237', u'Ticket_349238', u'Ticket_349239', u'Ticket_349240', u'Ticket_349241', u'Ticket_349242', u'Ticket_349243', u'Ticket_349244', u'Ticket_349245', u'Ticket_349246', u'Ticket_349247', u'Ticket_349248', u'Ticket_349249', u'Ticket_349250', u'Ticket_349251', u'Ticket_349252', u'Ticket_349255', u'Ticket_349256', u'Ticket_349257', u'Ticket_349909', u'Ticket_349910', u'Ticket_349911', u'Ticket_349912', u'Ticket_350025', u'Ticket_350026', u'Ticket_350029', u'Ticket_350033', u'Ticket_350034', u'Ticket_350035', u'Ticket_350036', u'Ticket_350042', u'Ticket_350043', u'Ticket_350045', u'Ticket_350046', u'Ticket_350047', u'Ticket_350048', u'Ticket_350050', u'Ticket_350052', u'Ticket_350053', u'Ticket_350054', u'Ticket_350060', u'Ticket_350403', u'Ticket_350404', u'Ticket_350405', u'Ticket_350406', u'Ticket_350407', u'Ticket_350408', u'Ticket_350409', u'Ticket_350410', u'Ticket_350416', u'Ticket_350417', u'Ticket_35273', u'Ticket_35281', u'Ticket_35851', u'Ticket_358585', u'Ticket_359306', u'Ticket_359309', u'Ticket_363272', u'Ticket_363291', u'Ticket_363294', u'Ticket_363592', u'Ticket_363611', u'Ticket_364498', u'Ticket_364499', u'Ticket_364500', u'Ticket_364506', u'Ticket_364511', u'Ticket_364512', u'Ticket_364516', u'Ticket_364846', u'Ticket_364849', u'Ticket_364850', u'Ticket_364856', u'Ticket_364858', u'Ticket_364859', u'Ticket_365222', u'Ticket_365226', u'Ticket_365235', u'Ticket_365237', u'Ticket_36568', u'Ticket_366713', u'Ticket_367226', u'Ticket_367227', u'Ticket_367231', u'Ticket_367232', u'Ticket_368364', u'Ticket_368402', u'Ticket_368573', u'Ticket_36864', u'Ticket_368702', u'Ticket_368783', u'Ticket_36928', u'Ticket_36947', u'Ticket_36963', u'Ticket_36967', u'Ticket_36973', u'Ticket_3701', u'Ticket_370129', u'Ticket_370368', u'Ticket_370369', u'Ticket_370371', u'Ticket_370373', u'Ticket_370374', u'Ticket_370376', u'Ticket_371109', u'Ticket_371362', u'Ticket_373450', u'Ticket_374887', u'Ticket_376563', u'Ticket_376566', u'Ticket_382650', u'Ticket_382651', u'Ticket_382652', u'Ticket_382653', u'Ticket_383123', u'Ticket_383162', u'Ticket_386525', u'Ticket_392091', u'Ticket_392095', u'Ticket_392096', u'Ticket_4133', u'Ticket_4134', u'Ticket_4135', u'Ticket_4136', u'Ticket_4137', u'Ticket_4138', u'Ticket_4579', u'Ticket_54636', u'Ticket_5727', u'Ticket_65305', u'Ticket_6563', u'Ticket_680', u'Ticket_693', u'Ticket_694', u'Ticket_695', u'Ticket_7266', u'Ticket_7267', u'Ticket_7534', u'Ticket_7538', u'Ticket_7540', u'Ticket_7545', u'Ticket_7546', u'Ticket_7548', u'Ticket_7552', u'Ticket_7553', u'Ticket_7598', u'Ticket_7935', u'Ticket_8471', u'Ticket_8475', u'Ticket_9232', u'Ticket_A. 2. 39186', u'Ticket_A./5. 2152', u'Ticket_A./5. 3338', u'Ticket_A.5. 11206', u'Ticket_A.5. 18509', u'Ticket_A.5. 3236', u'Ticket_A/4 31416', u'Ticket_A/4 45380', u'Ticket_A/4 48871', u'Ticket_A/4 48873', u'Ticket_A/4. 20589', u'Ticket_A/4. 39886', u'Ticket_A/5 1478', u'Ticket_A/5 21171', u'Ticket_A/5 21172', u'Ticket_A/5 21173', u'Ticket_A/5 21174', u'Ticket_A/5 21175', u'Ticket_A/5 3536', u'Ticket_A/5 3540', u'Ticket_A/5 3594', u'Ticket_A/5 3902', u'Ticket_A/5. 10482', u'Ticket_A/5. 13032', u'Ticket_A/5. 2151', u'Ticket_A/5. 3336', u'Ticket_A/5. 3337', u'Ticket_A/5. 851', u'Ticket_AQ/3. 30631', u'Ticket_AQ/4 3130', u'Ticket_C 17368', u'Ticket_C 17369', u'Ticket_C 4001', u'Ticket_C 7075', u'Ticket_C 7076', u'Ticket_C 7077', u'Ticket_C.A. 15185', u'Ticket_C.A. 17248', u'Ticket_C.A. 18723', u'Ticket_C.A. 2315', u'Ticket_C.A. 24579', u'Ticket_C.A. 24580', u'Ticket_C.A. 2673', u'Ticket_C.A. 29178', u'Ticket_C.A. 29395', u'Ticket_C.A. 29566', u'Ticket_C.A. 30769', u'Ticket_C.A. 31026', u'Ticket_C.A. 31029', u'Ticket_C.A. 31030', u'Ticket_C.A. 31921', u'Ticket_C.A. 33111', u'Ticket_C.A. 33112', u'Ticket_C.A. 33595', u'Ticket_C.A. 34050', u'Ticket_C.A. 34260', u'Ticket_C.A. 34644', u'Ticket_C.A. 34651', u'Ticket_C.A. 37671', u'Ticket_C.A. 42795', u'Ticket_C.A. 49867', u'Ticket_C.A. 5547', u'Ticket_C.A. 6212', u'Ticket_C.A./SOTON 34068', u'Ticket_CA 2144', u'Ticket_CA 31352', u'Ticket_CA. 2314', u'Ticket_CA. 2343', u'Ticket_F.C. 12750', u'Ticket_F.C. 12998', u'Ticket_F.C.C. 13528', u'Ticket_F.C.C. 13529', u'Ticket_F.C.C. 13531', u'Ticket_F.C.C. 13534', u'Ticket_F.C.C. 13540', u'Ticket_LINE', u'Ticket_LP 1588', u'Ticket_P/PP 3381', u'Ticket_PC 17473', u'Ticket_PC 17474', u'Ticket_PC 17475', u'Ticket_PC 17476', u'Ticket_PC 17477', u'Ticket_PC 17482', u'Ticket_PC 17483', u'Ticket_PC 17485', u'Ticket_PC 17531', u'Ticket_PC 17558', u'Ticket_PC 17562', u'Ticket_PC 17569', u'Ticket_PC 17572', u'Ticket_PC 17580', u'Ticket_PC 17582', u'Ticket_PC 17585', u'Ticket_PC 17590', u'Ticket_PC 17591', u'Ticket_PC 17592', u'Ticket_PC 17593', u'Ticket_PC 17594', u'Ticket_PC 17595', u'Ticket_PC 17596', u'Ticket_PC 17597', u'Ticket_PC 17598', u'Ticket_PC 17599', u'Ticket_PC 17601', u'Ticket_PC 17603', u'Ticket_PC 17604', u'Ticket_PC 17606', u'Ticket_PC 17607', u'Ticket_PC 17608', u'Ticket_PC 17609', u'Ticket_PC 17610', u'Ticket_PC 17611', u'Ticket_PC 17613', u'Ticket_PC 17754', u'Ticket_PC 17755', u'Ticket_PC 17756', u'Ticket_PC 17757', u'Ticket_PC 17758', u'Ticket_PC 17759', u'Ticket_PC 17760', u'Ticket_PC 17761', u'Ticket_PP 4348', u'Ticket_PP 9549', u'Ticket_S.C./PARIS 2079', u'Ticket_S.O./P.P. 2', u'Ticket_S.O./P.P. 251', u'Ticket_S.O./P.P. 3', u'Ticket_S.O./P.P. 752', u'Ticket_S.O.C. 14879', u'Ticket_S.O.P. 1166', u'Ticket_S.P. 3464', u'Ticket_S.W./PP 752', u'Ticket_SC 14888', u'Ticket_SC 1748', u'Ticket_SC/A.3 2861', u'Ticket_SC/A4 23568', u'Ticket_SC/AH 29037', u'Ticket_SC/AH 3085', u'Ticket_SC/AH Basle 541', u'Ticket_SC/PARIS 2133', u'Ticket_SC/PARIS 2147', u'Ticket_SC/PARIS 2148', u'Ticket_SC/PARIS 2149', u'Ticket_SC/PARIS 2159', u'Ticket_SC/PARIS 2166', u'Ticket_SC/PARIS 2167', u'Ticket_SC/PARIS 2168', u'Ticket_SC/Paris 2123', u'Ticket_SC/Paris 2163', u'Ticket_SCO/W 1585', u'Ticket_SO/C 14885', u'Ticket_SOTON/O.Q. 3101262', u'Ticket_SOTON/O.Q. 3101263', u'Ticket_SOTON/O.Q. 3101306', u'Ticket_SOTON/O.Q. 3101307', u'Ticket_SOTON/O.Q. 3101308', u'Ticket_SOTON/O.Q. 3101309', u'Ticket_SOTON/O.Q. 3101310', u'Ticket_SOTON/O.Q. 3101311', u'Ticket_SOTON/O.Q. 3101312', u'Ticket_SOTON/O.Q. 3101314', u'Ticket_SOTON/O.Q. 3101315', u'Ticket_SOTON/O.Q. 392078', u'Ticket_SOTON/O2 3101272', u'Ticket_SOTON/O2 3101284', u'Ticket_SOTON/O2 3101287', u'Ticket_SOTON/OQ 3101317', u'Ticket_SOTON/OQ 392076', u'Ticket_SOTON/OQ 392083', u'Ticket_SOTON/OQ 392089', u'Ticket_SOTON/OQ 392090', u'Ticket_STON/O 2. 3101268', u'Ticket_STON/O 2. 3101269', u'Ticket_STON/O 2. 3101273', u'Ticket_STON/O 2. 3101274', u'Ticket_STON/O 2. 3101275', u'Ticket_STON/O 2. 3101280', u'Ticket_STON/O 2. 3101285', u'Ticket_STON/O 2. 3101286', u'Ticket_STON/O 2. 3101288', u'Ticket_STON/O 2. 3101289', u'Ticket_STON/O 2. 3101291', u'Ticket_STON/O 2. 3101292', u'Ticket_STON/O 2. 3101293', u'Ticket_STON/O 2. 3101294', u'Ticket_STON/O2. 3101270', u'Ticket_STON/O2. 3101271', u'Ticket_STON/O2. 3101279', u'Ticket_STON/O2. 3101282', u'Ticket_STON/O2. 3101283', u'Ticket_STON/O2. 3101290', u'Ticket_STON/OQ. 369943', u'Ticket_SW/PP 751', u'Ticket_W./C. 14258', u'Ticket_W./C. 14260', u'Ticket_W./C. 14263', u'Ticket_W./C. 14266', u'Ticket_W./C. 6607', u'Ticket_W./C. 6608', u'Ticket_W.E.P. 5734', u'Ticket_W/C 14208', u'Ticket_WE/P 5735'] [u'Age', u'Embarked_C', u'Embarked_Q', u'Embarked_S', u'Fare', u'Parch', u'Pclass_1', u'Pclass_2', u'Pclass_3', u'Sex_female', u'Sex_male', u'SibSp', u'Survived', u'Ticket_110152', u'Ticket_110413', u'Ticket_110465', u'Ticket_110469', u'Ticket_110489', u'Ticket_110564', u'Ticket_110813', u'Ticket_111163', u'Ticket_111240', u'Ticket_111320', u'Ticket_111361', u'Ticket_111369', u'Ticket_111426', u'Ticket_111427', u'Ticket_111428', u'Ticket_112050', u'Ticket_112051', u'Ticket_112052', u'Ticket_112053', u'Ticket_112058', u'Ticket_112059', u'Ticket_112277', u'Ticket_112377', u'Ticket_112378', u'Ticket_112379', u'Ticket_112901', u'Ticket_113028', u'Ticket_113038', u'Ticket_113043', u'Ticket_113044', u'Ticket_113050', u'Ticket_113051', u'Ticket_113054', u'Ticket_113055', u'Ticket_113056', u'Ticket_113059', u'Ticket_113501', u'Ticket_113503', u'Ticket_113505', u'Ticket_113509', u'Ticket_113510', u'Ticket_113514', u'Ticket_113572', u'Ticket_113760', u'Ticket_113767', u'Ticket_113773', u'Ticket_113776', u'Ticket_113778', u'Ticket_113780', u'Ticket_113781', u'Ticket_113783', u'Ticket_113784', u'Ticket_113786', u'Ticket_113787', u'Ticket_113788', u'Ticket_113789', u'Ticket_113790', u'Ticket_113791', u'Ticket_113792', u'Ticket_113794', u'Ticket_113795', u'Ticket_113796', u'Ticket_113798', u'Ticket_113800', u'Ticket_113801', u'Ticket_113803', u'Ticket_113804', u'Ticket_113806', u'Ticket_113807', u'Ticket_11668', u'Ticket_11751', u'Ticket_11752', u'Ticket_11753', u'Ticket_11755', u'Ticket_11765', u'Ticket_11767', u'Ticket_11769', u'Ticket_11770', u'Ticket_11771', u'Ticket_11774', u'Ticket_11778', u'Ticket_11813', u'Ticket_11967', u'Ticket_1222', u'Ticket_12233', u'Ticket_12460', u'Ticket_12749', u'Ticket_13049', u'Ticket_13050', u'Ticket_13213', u'Ticket_13214', u'Ticket_13236', u'Ticket_13502', u'Ticket_13507', u'Ticket_13508', u'Ticket_13509', u'Ticket_13567', u'Ticket_13568', u'Ticket_13695', u'Ticket_13905', u'Ticket_14311', u'Ticket_14312', u'Ticket_14313', u'Ticket_14973', u'Ticket_1601', u'Ticket_16966', u'Ticket_16988', u'Ticket_17421', u'Ticket_17453', u'Ticket_17463', u'Ticket_17464', u'Ticket_17465', u'Ticket_17466', u'Ticket_17474', u'Ticket_17475', u'Ticket_17764', u'Ticket_17765', u'Ticket_17770', u'Ticket_19877', u'Ticket_19924', u'Ticket_19928', u'Ticket_19943', u'Ticket_19947', u'Ticket_19950', u'Ticket_19952', u'Ticket_19972', u'Ticket_19988', u'Ticket_19996', u'Ticket_2003', u'Ticket_211535', u'Ticket_211536', u'Ticket_21228', u'Ticket_21332', u'Ticket_21440', u'Ticket_218629', u'Ticket_219533', u'Ticket_220367', u'Ticket_220844', u'Ticket_220845', u'Ticket_2223', u'Ticket_223596', u'Ticket_226593', u'Ticket_226875', u'Ticket_228414', u'Ticket_229236', u'Ticket_230080', u'Ticket_230136', u'Ticket_230433', u'Ticket_230434', u'Ticket_231919', u'Ticket_231945', u'Ticket_233478', u'Ticket_233639', u'Ticket_233734', u'Ticket_233866', u'Ticket_234360', u'Ticket_234604', u'Ticket_234686', u'Ticket_234818', u'Ticket_235509', u'Ticket_236171', u'Ticket_236852', u'Ticket_236853', u'Ticket_236854', u'Ticket_237216', u'Ticket_237249', u'Ticket_237393', u'Ticket_237442', u'Ticket_237565', u'Ticket_237668', u'Ticket_237670', u'Ticket_237671', u'Ticket_237734', u'Ticket_237735', u'Ticket_237736', u'Ticket_237789', u'Ticket_237798', u'Ticket_239059', u'Ticket_239853', u'Ticket_239854', u'Ticket_239855', u'Ticket_239856', u'Ticket_239865', u'Ticket_240261', u'Ticket_240276', u'Ticket_24065', u'Ticket_240929', u'Ticket_24160', u'Ticket_242963', u'Ticket_243847', u'Ticket_243880', u'Ticket_244252', u'Ticket_244270', u'Ticket_244278', u'Ticket_244310', u'Ticket_244346', u'Ticket_244358', u'Ticket_244360', u'Ticket_244361', u'Ticket_244367', u'Ticket_244368', u'Ticket_244373', u'Ticket_248659', u'Ticket_248698', u'Ticket_248706', u'Ticket_248723', u'Ticket_248726', u'Ticket_248727', u'Ticket_248731', u'Ticket_248733', u'Ticket_248734', u'Ticket_248738', u'Ticket_248740', u'Ticket_248744', u'Ticket_248746', u'Ticket_248747', u'Ticket_250643', u'Ticket_250644', u'Ticket_250646', u'Ticket_250647', u'Ticket_250648', u'Ticket_250649', u'Ticket_250650', u'Ticket_250651', u'Ticket_250652', u'Ticket_250653', u'Ticket_250655', u'Ticket_2543', u'Ticket_2620', u'Ticket_2621', u'Ticket_2622', u'Ticket_2623', u'Ticket_2624', u'Ticket_2625', u'Ticket_2626', u'Ticket_2627', u'Ticket_2628', u'Ticket_2629', u'Ticket_2631', u'Ticket_26360', u'Ticket_2641', u'Ticket_2647', u'Ticket_2648', u'Ticket_2649', u'Ticket_2650', u'Ticket_2651', u'Ticket_2652', u'Ticket_2653', u'Ticket_2654', u'Ticket_2655', u'Ticket_2656', u'Ticket_2657', u'Ticket_2658', u'Ticket_2659', u'Ticket_2660', u'Ticket_2661', u'Ticket_2662', u'Ticket_2663', u'Ticket_2664', u'Ticket_2665', u'Ticket_2666', u'Ticket_2667', u'Ticket_2668', u'Ticket_2669', u'Ticket_2670', u'Ticket_26707', u'Ticket_2671', u'Ticket_2672', u'Ticket_2673', u'Ticket_2674', u'Ticket_2675', u'Ticket_2676', u'Ticket_2677', u'Ticket_2678', u'Ticket_2679', u'Ticket_2680', u'Ticket_2681', u'Ticket_2682', u'Ticket_2683', u'Ticket_2684', u'Ticket_2685', u'Ticket_2686', u'Ticket_2687', u'Ticket_2688', u'Ticket_2689', u'Ticket_2690', u'Ticket_2691', u'Ticket_2692', u'Ticket_2693', u'Ticket_2694', u'Ticket_2695', u'Ticket_2696', u'Ticket_2697', u'Ticket_2698', u'Ticket_2699', u'Ticket_2700', u'Ticket_27042', u'Ticket_27267', u'Ticket_27849', u'Ticket_28004', u'Ticket_28034', u'Ticket_28133', u'Ticket_28134', u'Ticket_28206', u'Ticket_28213', u'Ticket_28220', u'Ticket_28221', u'Ticket_28228', u'Ticket_28403', u'Ticket_28404', u'Ticket_28424', u'Ticket_28425', u'Ticket_28551', u'Ticket_28664', u'Ticket_28665', u'Ticket_28666', u'Ticket_29011', u'Ticket_2908', u'Ticket_29103', u'Ticket_29104', u'Ticket_29105', u'Ticket_29106', u'Ticket_29107', u'Ticket_29108', u'Ticket_2926', u'Ticket_29750', u'Ticket_29751', u'Ticket_3101264', u'Ticket_3101265', u'Ticket_3101266', u'Ticket_3101267', u'Ticket_3101276', u'Ticket_3101277', u'Ticket_3101278', u'Ticket_3101281', u'Ticket_3101295', u'Ticket_3101296', u'Ticket_3101297', u'Ticket_3101298', u'Ticket_31027', u'Ticket_31028', u'Ticket_312991', u'Ticket_312992', u'Ticket_312993', u'Ticket_31418', u'Ticket_315037', u'Ticket_315082', u'Ticket_315083', u'Ticket_315084', u'Ticket_315085', u'Ticket_315086', u'Ticket_315087', u'Ticket_315088', u'Ticket_315089', u'Ticket_315090', u'Ticket_315091', u'Ticket_315092', u'Ticket_315093', u'Ticket_315094', u'Ticket_315095', u'Ticket_315096', u'Ticket_315097', u'Ticket_315098', u'Ticket_315151', u'Ticket_315152', u'Ticket_315153', u'Ticket_315154', u'Ticket_32302', u'Ticket_323592', u'Ticket_323951', u'Ticket_324669', u'Ticket_329944', u'Ticket_330844', u'Ticket_330877', u'Ticket_330909', u'Ticket_330910', u'Ticket_330911', u'Ticket_330919', u'Ticket_330920', u'Ticket_330923', u'Ticket_330924', u'Ticket_330931', u'Ticket_330932', u'Ticket_330935', u'Ticket_330958', u'Ticket_330959', u'Ticket_330963', u'Ticket_330968', u'Ticket_330971', u'Ticket_330972', u'Ticket_330979', u'Ticket_330980', u'Ticket_334912', u'Ticket_334914', u'Ticket_334915', u'Ticket_335097', u'Ticket_335432', u'Ticket_335677', u'Ticket_33638', u'Ticket_336439', u'Ticket_3410', u'Ticket_3411', u'Ticket_341826', u'Ticket_34218', u'Ticket_342441', u'Ticket_342684', u'Ticket_342712', u'Ticket_342826', u'Ticket_343095', u'Ticket_343120', u'Ticket_343271', u'Ticket_343275', u'Ticket_343276', u'Ticket_345364', u'Ticket_345498', u'Ticket_345501', u'Ticket_345572', u'Ticket_345763', u'Ticket_345764', u'Ticket_345765', u'Ticket_345767', u'Ticket_345768', u'Ticket_345769', u'Ticket_345770', u'Ticket_345771', u'Ticket_345773', u'Ticket_345774', u'Ticket_345775', u'Ticket_345777', u'Ticket_345778', u'Ticket_345779', u'Ticket_345780', u'Ticket_345781', u'Ticket_345783', u'Ticket_3460', u'Ticket_3470', u'Ticket_347054', u'Ticket_347060', u'Ticket_347061', u'Ticket_347062', u'Ticket_347063', u'Ticket_347064', u'Ticket_347065', u'Ticket_347066', u'Ticket_347067', u'Ticket_347068', u'Ticket_347069', u'Ticket_347070', u'Ticket_347071', u'Ticket_347072', u'Ticket_347073', u'Ticket_347074', u'Ticket_347075', u'Ticket_347076', u'Ticket_347077', u'Ticket_347078', u'Ticket_347079', u'Ticket_347080', u'Ticket_347081', u'Ticket_347082', u'Ticket_347083', u'Ticket_347085', u'Ticket_347086', u'Ticket_347087', u'Ticket_347088', u'Ticket_347089', u'Ticket_347090', u'Ticket_347091', u'Ticket_3474', u'Ticket_347464', u'Ticket_347465', u'Ticket_347466', u'Ticket_347467', u'Ticket_347468', u'Ticket_347469', u'Ticket_347470', u'Ticket_347471', u'Ticket_347742', u'Ticket_347743', u'Ticket_348121', u'Ticket_348122', u'Ticket_348123', u'Ticket_348124', u'Ticket_348125', u'Ticket_349201', u'Ticket_349202', u'Ticket_349203', u'Ticket_349204', u'Ticket_349205', u'Ticket_349206', u'Ticket_349207', u'Ticket_349208', u'Ticket_349209', u'Ticket_349210', u'Ticket_349211', u'Ticket_349212', u'Ticket_349213', u'Ticket_349214', u'Ticket_349215', u'Ticket_349216', u'Ticket_349217', u'Ticket_349218', u'Ticket_349219', u'Ticket_349220', u'Ticket_349221', u'Ticket_349222', u'Ticket_349223', u'Ticket_349224', u'Ticket_349225', u'Ticket_349226', u'Ticket_349227', u'Ticket_349228', u'Ticket_349229', u'Ticket_349230', u'Ticket_349231', u'Ticket_349232', u'Ticket_349233', u'Ticket_349234', u'Ticket_349235', u'Ticket_349236', u'Ticket_349237', u'Ticket_349238', u'Ticket_349239', u'Ticket_349240', u'Ticket_349241', u'Ticket_349242', u'Ticket_349243', u'Ticket_349244', u'Ticket_349245', u'Ticket_349246', u'Ticket_349247', u'Ticket_349248', u'Ticket_349249', u'Ticket_349250', u'Ticket_349251', u'Ticket_349252', u'Ticket_349253', u'Ticket_349254', u'Ticket_349255', u'Ticket_349256', u'Ticket_349257', u'Ticket_349909', u'Ticket_349910', u'Ticket_349911', u'Ticket_349912', u'Ticket_350025', u'Ticket_350026', u'Ticket_350029', u'Ticket_350033', u'Ticket_350034', u'Ticket_350035', u'Ticket_350036', u'Ticket_350042', u'Ticket_350043', u'Ticket_350045', u'Ticket_350046', u'Ticket_350047', u'Ticket_350048', u'Ticket_350050', u'Ticket_350052', u'Ticket_350053', u'Ticket_350054', u'Ticket_350060', u'Ticket_350403', u'Ticket_350404', u'Ticket_350405', u'Ticket_350406', u'Ticket_350407', u'Ticket_350408', u'Ticket_350409', u'Ticket_350410', u'Ticket_350416', u'Ticket_350417', u'Ticket_35273', u'Ticket_35281', u'Ticket_35851', u'Ticket_35852', u'Ticket_358585', u'Ticket_359306', u'Ticket_359309', u'Ticket_36209', u'Ticket_362316', u'Ticket_363272', u'Ticket_363291', u'Ticket_363294', u'Ticket_363592', u'Ticket_363611', u'Ticket_364498', u'Ticket_364499', u'Ticket_364500', u'Ticket_364506', u'Ticket_364511', u'Ticket_364512', u'Ticket_364516', u'Ticket_364846', u'Ticket_364848', u'Ticket_364849', u'Ticket_364850', u'Ticket_364851', u'Ticket_364856', u'Ticket_364858', u'Ticket_364859', u'Ticket_365222', u'Ticket_365226', u'Ticket_365235', u'Ticket_365237', u'Ticket_36568', u'Ticket_366713', u'Ticket_367226', u'Ticket_367227', u'Ticket_367228', u'Ticket_367229', u'Ticket_367230', u'Ticket_367231', u'Ticket_367232', u'Ticket_367655', u'Ticket_368323', u'Ticket_368364', u'Ticket_368402', u'Ticket_368573', u'Ticket_36864', u'Ticket_36865', u'Ticket_36866', u'Ticket_368702', u'Ticket_368703', u'Ticket_368783', u'Ticket_36928', u'Ticket_36947', u'Ticket_36963', u'Ticket_36967', u'Ticket_36973', u'Ticket_3701', u'Ticket_370129', u'Ticket_370365', u'Ticket_370368', u'Ticket_370369', u'Ticket_370370', u'Ticket_370371', u'Ticket_370372', u'Ticket_370373', u'Ticket_370374', u'Ticket_370375', u'Ticket_370376', u'Ticket_370377', u'Ticket_371060', u'Ticket_371109', u'Ticket_371110', u'Ticket_371362', u'Ticket_372622', u'Ticket_373450', u'Ticket_374746', u'Ticket_374887', u'Ticket_374910', u'Ticket_376563', u'Ticket_376564', u'Ticket_376566', u'Ticket_382649', u'Ticket_382650', u'Ticket_382651', u'Ticket_382652', u'Ticket_382653', u'Ticket_383121', u'Ticket_383123', u'Ticket_383162', u'Ticket_384461', u'Ticket_386525', u'Ticket_392091', u'Ticket_392092', u'Ticket_392095', u'Ticket_392096', u'Ticket_394140', u'Ticket_4133', u'Ticket_4134', u'Ticket_4135', u'Ticket_4136', u'Ticket_4137', u'Ticket_4138', u'Ticket_4579', u'Ticket_54636', u'Ticket_5727', u'Ticket_65303', u'Ticket_65304', u'Ticket_65305', u'Ticket_65306', u'Ticket_6563', u'Ticket_680', u'Ticket_693', u'Ticket_694', u'Ticket_695', u'Ticket_7266', u'Ticket_7267', u'Ticket_7534', u'Ticket_7538', u'Ticket_7540', u'Ticket_7545', u'Ticket_7546', u'Ticket_7548', u'Ticket_7552', u'Ticket_7553', u'Ticket_7598', u'Ticket_7935', u'Ticket_8471', u'Ticket_8475', u'Ticket_9232', u'Ticket_9234', u'Ticket_A. 2. 39186', u'Ticket_A./5. 2152', u'Ticket_A./5. 3235', u'Ticket_A./5. 3338', u'Ticket_A.5. 11206', u'Ticket_A.5. 18509', u'Ticket_A.5. 3236', u'Ticket_A/4 31416', u'Ticket_A/4 45380', u'Ticket_A/4 48871', u'Ticket_A/4 48873', u'Ticket_A/4. 20589', u'Ticket_A/4. 34244', u'Ticket_A/4. 39886', u'Ticket_A/5 1478', u'Ticket_A/5 21171', u'Ticket_A/5 21172', u'Ticket_A/5 21173', u'Ticket_A/5 21174', u'Ticket_A/5 21175', u'Ticket_A/5 2466', u'Ticket_A/5 2817', u'Ticket_A/5 3536', u'Ticket_A/5 3540', u'Ticket_A/5 3594', u'Ticket_A/5 3902', u'Ticket_A/5. 10482', u'Ticket_A/5. 13032', u'Ticket_A/5. 2151', u'Ticket_A/5. 3336', u'Ticket_A/5. 3337', u'Ticket_A/5. 851', u'Ticket_A/S 2816', u'Ticket_A4. 54510', u'Ticket_AQ/3. 30631', u'Ticket_AQ/4 3130', u'Ticket_C 17368', u'Ticket_C 17369', u'Ticket_C 4001', u'Ticket_C 7075', u'Ticket_C 7076', u'Ticket_C 7077', u'Ticket_C.A. 15185', u'Ticket_C.A. 17248', u'Ticket_C.A. 18723', u'Ticket_C.A. 2315', u'Ticket_C.A. 24579', u'Ticket_C.A. 24580', u'Ticket_C.A. 2673', u'Ticket_C.A. 29178', u'Ticket_C.A. 29395', u'Ticket_C.A. 29566', u'Ticket_C.A. 30769', u'Ticket_C.A. 31026', u'Ticket_C.A. 31029', u'Ticket_C.A. 31030', u'Ticket_C.A. 31921', u'Ticket_C.A. 33111', u'Ticket_C.A. 33112', u'Ticket_C.A. 33595', u'Ticket_C.A. 34050', u'Ticket_C.A. 34260', u'Ticket_C.A. 34644', u'Ticket_C.A. 34651', u'Ticket_C.A. 37671', u'Ticket_C.A. 42795', u'Ticket_C.A. 49867', u'Ticket_C.A. 5547', u'Ticket_C.A. 6212', u'Ticket_C.A./SOTON 34068', u'Ticket_CA 2144', u'Ticket_CA 31352', u'Ticket_CA. 2314', u'Ticket_CA. 2343', u'Ticket_F.C. 12750', u'Ticket_F.C. 12998', u'Ticket_F.C.C. 13528', u'Ticket_F.C.C. 13529', u'Ticket_F.C.C. 13531', u'Ticket_F.C.C. 13534', u'Ticket_F.C.C. 13540', u'Ticket_Fa 265302', u'Ticket_LINE', u'Ticket_LP 1588', u'Ticket_P/PP 3381', u'Ticket_PC 17318', u'Ticket_PC 17473', u'Ticket_PC 17474', u'Ticket_PC 17475', u'Ticket_PC 17476', u'Ticket_PC 17477', u'Ticket_PC 17482', u'Ticket_PC 17483', u'Ticket_PC 17485', u'Ticket_PC 17531', u'Ticket_PC 17558', u'Ticket_PC 17562', u'Ticket_PC 17569', u'Ticket_PC 17572', u'Ticket_PC 17580', u'Ticket_PC 17582', u'Ticket_PC 17585', u'Ticket_PC 17590', u'Ticket_PC 17591', u'Ticket_PC 17592', u'Ticket_PC 17593', u'Ticket_PC 17594', u'Ticket_PC 17595', u'Ticket_PC 17596', u'Ticket_PC 17597', u'Ticket_PC 17598', u'Ticket_PC 17599', u'Ticket_PC 17600', u'Ticket_PC 17601', u'Ticket_PC 17603', u'Ticket_PC 17604', u'Ticket_PC 17605', u'Ticket_PC 17606', u'Ticket_PC 17607', u'Ticket_PC 17608', u'Ticket_PC 17609', u'Ticket_PC 17610', u'Ticket_PC 17611', u'Ticket_PC 17612', u'Ticket_PC 17613', u'Ticket_PC 17754', u'Ticket_PC 17755', u'Ticket_PC 17756', u'Ticket_PC 17757', u'Ticket_PC 17758', u'Ticket_PC 17759', u'Ticket_PC 17760', u'Ticket_PC 17761', u'Ticket_PP 4348', u'Ticket_PP 9549', u'Ticket_S.C./A.4. 23567', u'Ticket_S.C./PARIS 2079', u'Ticket_S.O./P.P. 2', u'Ticket_S.O./P.P. 251', u'Ticket_S.O./P.P. 3', u'Ticket_S.O./P.P. 751', u'Ticket_S.O./P.P. 752', u'Ticket_S.O.C. 14879', u'Ticket_S.O.P. 1166', u'Ticket_S.P. 3464', u'Ticket_S.W./PP 752', u'Ticket_SC 14888', u'Ticket_SC 1748', u'Ticket_SC/A.3 2861', u'Ticket_SC/A4 23568', u'Ticket_SC/AH 29037', u'Ticket_SC/AH 3085', u'Ticket_SC/AH Basle 541', u'Ticket_SC/PARIS 2131', u'Ticket_SC/PARIS 2133', u'Ticket_SC/PARIS 2146', u'Ticket_SC/PARIS 2147', u'Ticket_SC/PARIS 2148', u'Ticket_SC/PARIS 2149', u'Ticket_SC/PARIS 2159', u'Ticket_SC/PARIS 2166', u'Ticket_SC/PARIS 2167', u'Ticket_SC/PARIS 2168', u'Ticket_SC/Paris 2123', u'Ticket_SC/Paris 2163', u'Ticket_SCO/W 1585', u'Ticket_SO/C 14885', u'Ticket_SOTON/O.Q. 3101262', u'Ticket_SOTON/O.Q. 3101263', u'Ticket_SOTON/O.Q. 3101305', u'Ticket_SOTON/O.Q. 3101306', u'Ticket_SOTON/O.Q. 3101307', u'Ticket_SOTON/O.Q. 3101308', u'Ticket_SOTON/O.Q. 3101309', u'Ticket_SOTON/O.Q. 3101310', u'Ticket_SOTON/O.Q. 3101311', u'Ticket_SOTON/O.Q. 3101312', u'Ticket_SOTON/O.Q. 3101314', u'Ticket_SOTON/O.Q. 3101315', u'Ticket_SOTON/O.Q. 392078', u'Ticket_SOTON/O.Q. 392087', u'Ticket_SOTON/O2 3101272', u'Ticket_SOTON/O2 3101284', u'Ticket_SOTON/O2 3101287', u'Ticket_SOTON/OQ 3101316', u'Ticket_SOTON/OQ 3101317', u'Ticket_SOTON/OQ 392076', u'Ticket_SOTON/OQ 392082', u'Ticket_SOTON/OQ 392083', u'Ticket_SOTON/OQ 392086', u'Ticket_SOTON/OQ 392089', u'Ticket_SOTON/OQ 392090', u'Ticket_STON/O 2. 3101268', u'Ticket_STON/O 2. 3101269', u'Ticket_STON/O 2. 3101273', u'Ticket_STON/O 2. 3101274', u'Ticket_STON/O 2. 3101275', u'Ticket_STON/O 2. 3101280', u'Ticket_STON/O 2. 3101285', u'Ticket_STON/O 2. 3101286', u'Ticket_STON/O 2. 3101288', u'Ticket_STON/O 2. 3101289', u'Ticket_STON/O 2. 3101291', u'Ticket_STON/O 2. 3101292', u'Ticket_STON/O 2. 3101293', u'Ticket_STON/O 2. 3101294', u'Ticket_STON/O2. 3101270', u'Ticket_STON/O2. 3101271', u'Ticket_STON/O2. 3101279', u'Ticket_STON/O2. 3101282', u'Ticket_STON/O2. 3101283', u'Ticket_STON/O2. 3101290', u'Ticket_STON/OQ. 369943', u'Ticket_SW/PP 751', u'Ticket_W./C. 14258', u'Ticket_W./C. 14260', u'Ticket_W./C. 14263', u'Ticket_W./C. 14266', u'Ticket_W./C. 6607', u'Ticket_W./C. 6608', u'Ticket_W./C. 6609', u'Ticket_W.E.P. 5734', u'Ticket_W/C 14208', u'Ticket_WE/P 5735']\ntraining data did not have the following fields: Ticket_2631, Ticket_362316, Ticket_36865, Ticket_112052, Ticket_A/4. 34244, Ticket_349234, Ticket_330877, Ticket_368703, Ticket_239854, Ticket_345777, Ticket_364848, Ticket_16988, Ticket_2626, Ticket_349221, Ticket_2624, Ticket_349223, Ticket_349225, Ticket_349227, Ticket_372622, Ticket_2629, Ticket_A/5 2817, Ticket_113767, Ticket_2700, Ticket_113572, Ticket_374746, Ticket_330979, Ticket_PC 17318, Ticket_244373, Ticket_36209, Ticket_S.C./A.4. 23567, Ticket_374910, Ticket_14311, Ticket_14312, Ticket_14313, Ticket_367230, Ticket_A/5 2466, Ticket_9234, Ticket_35852, Ticket_112379, Ticket_W./C. 6609, Ticket_349253, Ticket_364851, Ticket_330909, Ticket_A/S 2816, Ticket_312991, Ticket_19947, Ticket_367228, Ticket_367229, Survived, Ticket_368323, Ticket_343095, Ticket_SC/PARIS 2131, Ticket_371060, Ticket_SOTON/OQ 392082, Ticket_SOTON/O.Q. 392087, Ticket_2647, Ticket_2649, Ticket_330919, Ticket_2641, Ticket_384461, Ticket_A./5. 3235, Ticket_394140, Ticket_382649, Ticket_370365, Ticket_349218, Ticket_312993, Ticket_SOTON/OQ 392086, Ticket_2674, Ticket_2677, Ticket_2671, Ticket_113028, Ticket_SOTON/O.Q. 3101305, Ticket_SC/PARIS 2146, Ticket_367655, Ticket_370377, Ticket_370375, Ticket_370372, Ticket_370370, Ticket_2664, Ticket_349214, Ticket_349217, Ticket_330931, Ticket_330932, Ticket_330935, Ticket_349254, Ticket_PC 17605, Ticket_PC 17600, Ticket_3411, Ticket_376564, Ticket_330980, Ticket_383121, Ticket_349215, Ticket_349222, Ticket_19988, Ticket_349216, Ticket_371110, Ticket_315037, Ticket_SOTON/OQ 3101316, Ticket_334912, Ticket_392092, Ticket_36866, Ticket_239853, Ticket_A4. 54510, Ticket_239856, Ticket_239855, Ticket_S.O./P.P. 751, Ticket_PC 17612, Ticket_349208, Ticket_113510, Ticket_349201, Ticket_65306, Ticket_65304, Ticket_65303, Ticket_11774, Ticket_226593, Ticket_2686, Ticket_113056, Ticket_111427, Ticket_335677, Ticket_12460, Ticket_Fa 265302, Ticket_323592, Ticket_330959"
     ]
    }
   ],
   "source": [
    "loaded_model = pickle.load(open(model_ver, 'rb'))\n",
    "Y_predict = loaded_model.predict(test)\n",
    "Y_predict"
   ]
  },
  {
   "cell_type": "code",
   "execution_count": 105,
   "metadata": {
    "collapsed": false
   },
   "outputs": [],
   "source": [
    "test_temp = pd.read_csv('Test.csv')\n",
    "sub_file = pd.concat([test_temp['PassengerId'],pd.DataFrame(Y_predict)],axis=1)\n",
    "sub_file.columns =['PassengerId','Survived']\n",
    "sub_file = sub_file.astype(int)\n",
    "#pd.options.display.float_format = '{:,.0f}'.format"
   ]
  },
  {
   "cell_type": "code",
   "execution_count": 106,
   "metadata": {
    "collapsed": true
   },
   "outputs": [
    {
     "data": {
      "text/html": [
       "<div>\n",
       "<table border=\"1\" class=\"dataframe\">\n",
       "  <thead>\n",
       "    <tr style=\"text-align: right;\">\n",
       "      <th></th>\n",
       "      <th>PassengerId</th>\n",
       "      <th>Survived</th>\n",
       "    </tr>\n",
       "  </thead>\n",
       "  <tbody>\n",
       "    <tr>\n",
       "      <th>0</th>\n",
       "      <td>892</td>\n",
       "      <td>0</td>\n",
       "    </tr>\n",
       "    <tr>\n",
       "      <th>1</th>\n",
       "      <td>893</td>\n",
       "      <td>0</td>\n",
       "    </tr>\n",
       "    <tr>\n",
       "      <th>2</th>\n",
       "      <td>894</td>\n",
       "      <td>0</td>\n",
       "    </tr>\n",
       "    <tr>\n",
       "      <th>3</th>\n",
       "      <td>895</td>\n",
       "      <td>0</td>\n",
       "    </tr>\n",
       "    <tr>\n",
       "      <th>4</th>\n",
       "      <td>896</td>\n",
       "      <td>0</td>\n",
       "    </tr>\n",
       "  </tbody>\n",
       "</table>\n",
       "</div>"
      ],
      "text/plain": [
       "   PassengerId  Survived\n",
       "0          892         0\n",
       "1          893         0\n",
       "2          894         0\n",
       "3          895         0\n",
       "4          896         0"
      ]
     },
     "execution_count": 106,
     "metadata": {},
     "output_type": "execute_result"
    }
   ],
   "source": [
    "sub_file.head()"
   ]
  },
  {
   "cell_type": "code",
   "execution_count": 107,
   "metadata": {
    "collapsed": true
   },
   "outputs": [],
   "source": [
    "sub_file.to_csv(path_or_buf = submission_name,index=False)"
   ]
  },
  {
   "cell_type": "code",
   "execution_count": null,
   "metadata": {
    "collapsed": true
   },
   "outputs": [],
   "source": []
  }
 ],
 "metadata": {
  "kernelspec": {
   "display_name": "Python 2",
   "language": "python",
   "name": "python2"
  },
  "language_info": {
   "codemirror_mode": {
    "name": "ipython",
    "version": 2
   },
   "file_extension": ".py",
   "mimetype": "text/x-python",
   "name": "python",
   "nbconvert_exporter": "python",
   "pygments_lexer": "ipython2",
   "version": "2.7.13"
  }
 },
 "nbformat": 4,
 "nbformat_minor": 2
}
