{
 "cells": [
  {
   "cell_type": "markdown",
   "metadata": {},
   "source": [
    "## Test Data Prediction\n",
    "### Master\n",
    "This notebook will be used to open test.csv file and use designated model to predict the test data for kaggle submission."
   ]
  },
  {
   "cell_type": "code",
   "execution_count": 29,
   "metadata": {
    "collapsed": false
   },
   "outputs": [
    {
     "name": "stdout",
     "output_type": "stream",
     "text": [
      "  cost1/feat1/wip\n",
      "  cost1/feat2/wip\n",
      "  cost1/wip\n",
      "  feat1/score1/wip\n",
      "  feat1/wip\n",
      "  feat2/score1/wip\n",
      "  feat2/wip\n",
      "  feat3/wip\n",
      "  feat4/wip\n",
      "  feat5/wip\n",
      "* master\n"
     ]
    }
   ],
   "source": [
    "%%bash\n",
    "git branch"
   ]
  },
  {
   "cell_type": "code",
   "execution_count": null,
   "metadata": {
    "collapsed": false
   },
   "outputs": [],
   "source": [
    "%%bash\n",
    "git add 'Test_data.ipynb'\n",
    "git commit -m 'Appears that master branch cannot submit test'\n",
    "git push --set-upstream origin master"
   ]
  },
  {
   "cell_type": "code",
   "execution_count": 30,
   "metadata": {
    "collapsed": true
   },
   "outputs": [],
   "source": [
    "model_ver = 'master.sav'"
   ]
  },
  {
   "cell_type": "code",
   "execution_count": 31,
   "metadata": {
    "collapsed": false
   },
   "outputs": [],
   "source": [
    "%matplotlib inline \n",
    "import requests \n",
    "import StringIO\n",
    "import zipfile\n",
    "import numpy as np\n",
    "import pandas as pd # pandas\n",
    "import matplotlib.pyplot as plt # module for plotting \n",
    "\n",
    "# If this module is not already installed, you may need to install it. \n",
    "# You can do this by typing 'pip install seaborn' in the command line\n",
    "import seaborn as sns \n",
    "\n",
    "import sklearn.model_selection\n",
    "import pickle"
   ]
  },
  {
   "cell_type": "markdown",
   "metadata": {},
   "source": [
    "Load data from csv file then prepare the data before inputting into the trained model."
   ]
  },
  {
   "cell_type": "code",
   "execution_count": 32,
   "metadata": {
    "collapsed": false
   },
   "outputs": [
    {
     "data": {
      "text/html": [
       "<div>\n",
       "<table border=\"1\" class=\"dataframe\">\n",
       "  <thead>\n",
       "    <tr style=\"text-align: right;\">\n",
       "      <th></th>\n",
       "      <th>PassengerId</th>\n",
       "      <th>Survived</th>\n",
       "    </tr>\n",
       "  </thead>\n",
       "  <tbody>\n",
       "    <tr>\n",
       "      <th>0</th>\n",
       "      <td>892</td>\n",
       "      <td>0</td>\n",
       "    </tr>\n",
       "    <tr>\n",
       "      <th>1</th>\n",
       "      <td>893</td>\n",
       "      <td>1</td>\n",
       "    </tr>\n",
       "    <tr>\n",
       "      <th>2</th>\n",
       "      <td>894</td>\n",
       "      <td>0</td>\n",
       "    </tr>\n",
       "    <tr>\n",
       "      <th>3</th>\n",
       "      <td>895</td>\n",
       "      <td>0</td>\n",
       "    </tr>\n",
       "    <tr>\n",
       "      <th>4</th>\n",
       "      <td>896</td>\n",
       "      <td>1</td>\n",
       "    </tr>\n",
       "  </tbody>\n",
       "</table>\n",
       "</div>"
      ],
      "text/plain": [
       "   PassengerId  Survived\n",
       "0          892         0\n",
       "1          893         1\n",
       "2          894         0\n",
       "3          895         0\n",
       "4          896         1"
      ]
     },
     "execution_count": 32,
     "metadata": {},
     "output_type": "execute_result"
    }
   ],
   "source": [
    "test_ex = pd.read_csv('gender_submission.csv')\n",
    "test_ex.head()"
   ]
  },
  {
   "cell_type": "code",
   "execution_count": 39,
   "metadata": {
    "collapsed": false
   },
   "outputs": [
    {
     "data": {
      "text/html": [
       "<div>\n",
       "<table border=\"1\" class=\"dataframe\">\n",
       "  <thead>\n",
       "    <tr style=\"text-align: right;\">\n",
       "      <th></th>\n",
       "      <th>Age</th>\n",
       "      <th>Cabin</th>\n",
       "      <th>Embarked</th>\n",
       "      <th>Fare</th>\n",
       "      <th>Name</th>\n",
       "      <th>Parch</th>\n",
       "      <th>PassengerId</th>\n",
       "      <th>Pclass</th>\n",
       "      <th>Sex</th>\n",
       "      <th>SibSp</th>\n",
       "      <th>Survived</th>\n",
       "      <th>Ticket</th>\n",
       "    </tr>\n",
       "  </thead>\n",
       "  <tbody>\n",
       "    <tr>\n",
       "      <th>0</th>\n",
       "      <td>34.5</td>\n",
       "      <td>NaN</td>\n",
       "      <td>Q</td>\n",
       "      <td>7.8292</td>\n",
       "      <td>Kelly, Mr. James</td>\n",
       "      <td>0</td>\n",
       "      <td>892</td>\n",
       "      <td>3</td>\n",
       "      <td>male</td>\n",
       "      <td>0</td>\n",
       "      <td>NaN</td>\n",
       "      <td>330911</td>\n",
       "    </tr>\n",
       "    <tr>\n",
       "      <th>1</th>\n",
       "      <td>47.0</td>\n",
       "      <td>NaN</td>\n",
       "      <td>S</td>\n",
       "      <td>7.0000</td>\n",
       "      <td>Wilkes, Mrs. James (Ellen Needs)</td>\n",
       "      <td>0</td>\n",
       "      <td>893</td>\n",
       "      <td>3</td>\n",
       "      <td>female</td>\n",
       "      <td>1</td>\n",
       "      <td>NaN</td>\n",
       "      <td>363272</td>\n",
       "    </tr>\n",
       "    <tr>\n",
       "      <th>2</th>\n",
       "      <td>62.0</td>\n",
       "      <td>NaN</td>\n",
       "      <td>Q</td>\n",
       "      <td>9.6875</td>\n",
       "      <td>Myles, Mr. Thomas Francis</td>\n",
       "      <td>0</td>\n",
       "      <td>894</td>\n",
       "      <td>2</td>\n",
       "      <td>male</td>\n",
       "      <td>0</td>\n",
       "      <td>NaN</td>\n",
       "      <td>240276</td>\n",
       "    </tr>\n",
       "    <tr>\n",
       "      <th>3</th>\n",
       "      <td>27.0</td>\n",
       "      <td>NaN</td>\n",
       "      <td>S</td>\n",
       "      <td>8.6625</td>\n",
       "      <td>Wirz, Mr. Albert</td>\n",
       "      <td>0</td>\n",
       "      <td>895</td>\n",
       "      <td>3</td>\n",
       "      <td>male</td>\n",
       "      <td>0</td>\n",
       "      <td>NaN</td>\n",
       "      <td>315154</td>\n",
       "    </tr>\n",
       "    <tr>\n",
       "      <th>4</th>\n",
       "      <td>22.0</td>\n",
       "      <td>NaN</td>\n",
       "      <td>S</td>\n",
       "      <td>12.2875</td>\n",
       "      <td>Hirvonen, Mrs. Alexander (Helga E Lindqvist)</td>\n",
       "      <td>1</td>\n",
       "      <td>896</td>\n",
       "      <td>3</td>\n",
       "      <td>female</td>\n",
       "      <td>1</td>\n",
       "      <td>NaN</td>\n",
       "      <td>3101298</td>\n",
       "    </tr>\n",
       "  </tbody>\n",
       "</table>\n",
       "</div>"
      ],
      "text/plain": [
       "    Age Cabin Embarked     Fare                                          Name  \\\n",
       "0  34.5   NaN        Q   7.8292                              Kelly, Mr. James   \n",
       "1  47.0   NaN        S   7.0000              Wilkes, Mrs. James (Ellen Needs)   \n",
       "2  62.0   NaN        Q   9.6875                     Myles, Mr. Thomas Francis   \n",
       "3  27.0   NaN        S   8.6625                              Wirz, Mr. Albert   \n",
       "4  22.0   NaN        S  12.2875  Hirvonen, Mrs. Alexander (Helga E Lindqvist)   \n",
       "\n",
       "   Parch  PassengerId  Pclass     Sex  SibSp  Survived   Ticket  \n",
       "0      0          892       3    male      0       NaN   330911  \n",
       "1      0          893       3  female      1       NaN   363272  \n",
       "2      0          894       2    male      0       NaN   240276  \n",
       "3      0          895       3    male      0       NaN   315154  \n",
       "4      1          896       3  female      1       NaN  3101298  "
      ]
     },
     "execution_count": 39,
     "metadata": {},
     "output_type": "execute_result"
    }
   ],
   "source": [
    "train = pd.read_csv('train.csv')\n",
    "test = pd.read_csv('test.csv')\n",
    "#Concate train and test to avoid mismatch features in the testing phase\n",
    "train_objs_num = len(train)\n",
    "dataset = pd.concat(objs=[train, test], axis=0)\n",
    "#dataset = pd.get_dummies(dataset)\n",
    "train = dataset[:train_objs_num].copy()\n",
    "test = dataset[train_objs_num:].copy()\n",
    "test.head()"
   ]
  },
  {
   "cell_type": "code",
   "execution_count": 41,
   "metadata": {
    "collapsed": false
   },
   "outputs": [
    {
     "data": {
      "text/plain": [
       "Age                           True\n",
       "Fare                          True\n",
       "Parch                        False\n",
       "SibSp                        False\n",
       "Survived                      True\n",
       "Cabin_A11                    False\n",
       "Cabin_A18                    False\n",
       "Cabin_A21                    False\n",
       "Cabin_A29                    False\n",
       "Cabin_A34                    False\n",
       "Cabin_A9                     False\n",
       "Cabin_B10                    False\n",
       "Cabin_B11                    False\n",
       "Cabin_B24                    False\n",
       "Cabin_B26                    False\n",
       "Cabin_B36                    False\n",
       "Cabin_B41                    False\n",
       "Cabin_B45                    False\n",
       "Cabin_B51 B53 B55            False\n",
       "Cabin_B52 B54 B56            False\n",
       "Cabin_B57 B59 B63 B66        False\n",
       "Cabin_B58 B60                False\n",
       "Cabin_B61                    False\n",
       "Cabin_B69                    False\n",
       "Cabin_B71                    False\n",
       "Cabin_B78                    False\n",
       "Cabin_C101                   False\n",
       "Cabin_C105                   False\n",
       "Cabin_C106                   False\n",
       "Cabin_C116                   False\n",
       "                             ...  \n",
       "Ticket_S.O.C. 14879          False\n",
       "Ticket_SC 14888              False\n",
       "Ticket_SC/A.3 2861           False\n",
       "Ticket_SC/A4 23568           False\n",
       "Ticket_SC/AH 29037           False\n",
       "Ticket_SC/AH 3085            False\n",
       "Ticket_SC/PARIS 2147         False\n",
       "Ticket_SC/PARIS 2148         False\n",
       "Ticket_SC/PARIS 2159         False\n",
       "Ticket_SC/PARIS 2166         False\n",
       "Ticket_SC/PARIS 2167         False\n",
       "Ticket_SC/PARIS 2168         False\n",
       "Ticket_SC/Paris 2123         False\n",
       "Ticket_SOTON/O.Q. 3101262    False\n",
       "Ticket_SOTON/O.Q. 3101263    False\n",
       "Ticket_SOTON/O.Q. 3101308    False\n",
       "Ticket_SOTON/O.Q. 3101309    False\n",
       "Ticket_SOTON/O.Q. 3101314    False\n",
       "Ticket_SOTON/O.Q. 3101315    False\n",
       "Ticket_SOTON/O2 3101284      False\n",
       "Ticket_SOTON/OQ 392083       False\n",
       "Ticket_STON/O 2. 3101268     False\n",
       "Ticket_STON/O 2. 3101291     False\n",
       "Ticket_STON/O2. 3101270      False\n",
       "Ticket_STON/OQ. 369943       False\n",
       "Ticket_W./C. 14260           False\n",
       "Ticket_W./C. 14266           False\n",
       "Ticket_W./C. 6607            False\n",
       "Ticket_W./C. 6608            False\n",
       "Ticket_W.E.P. 5734           False\n",
       "dtype: bool"
      ]
     },
     "execution_count": 41,
     "metadata": {},
     "output_type": "execute_result"
    }
   ],
   "source": [
    "test.isnull().any()"
   ]
  },
  {
   "cell_type": "code",
   "execution_count": 40,
   "metadata": {
    "collapsed": false
   },
   "outputs": [
    {
     "data": {
      "text/html": [
       "<div>\n",
       "<table border=\"1\" class=\"dataframe\">\n",
       "  <thead>\n",
       "    <tr style=\"text-align: right;\">\n",
       "      <th></th>\n",
       "      <th>Age</th>\n",
       "      <th>Fare</th>\n",
       "      <th>Parch</th>\n",
       "      <th>SibSp</th>\n",
       "      <th>Survived</th>\n",
       "      <th>Cabin_A11</th>\n",
       "      <th>Cabin_A18</th>\n",
       "      <th>Cabin_A21</th>\n",
       "      <th>Cabin_A29</th>\n",
       "      <th>Cabin_A34</th>\n",
       "      <th>...</th>\n",
       "      <th>Ticket_SOTON/OQ 392083</th>\n",
       "      <th>Ticket_STON/O 2. 3101268</th>\n",
       "      <th>Ticket_STON/O 2. 3101291</th>\n",
       "      <th>Ticket_STON/O2. 3101270</th>\n",
       "      <th>Ticket_STON/OQ. 369943</th>\n",
       "      <th>Ticket_W./C. 14260</th>\n",
       "      <th>Ticket_W./C. 14266</th>\n",
       "      <th>Ticket_W./C. 6607</th>\n",
       "      <th>Ticket_W./C. 6608</th>\n",
       "      <th>Ticket_W.E.P. 5734</th>\n",
       "    </tr>\n",
       "  </thead>\n",
       "  <tbody>\n",
       "    <tr>\n",
       "      <th>0</th>\n",
       "      <td>34.5</td>\n",
       "      <td>7.8292</td>\n",
       "      <td>0</td>\n",
       "      <td>0</td>\n",
       "      <td>NaN</td>\n",
       "      <td>0</td>\n",
       "      <td>0</td>\n",
       "      <td>0</td>\n",
       "      <td>0</td>\n",
       "      <td>0</td>\n",
       "      <td>...</td>\n",
       "      <td>0</td>\n",
       "      <td>0</td>\n",
       "      <td>0</td>\n",
       "      <td>0</td>\n",
       "      <td>0</td>\n",
       "      <td>0</td>\n",
       "      <td>0</td>\n",
       "      <td>0</td>\n",
       "      <td>0</td>\n",
       "      <td>0</td>\n",
       "    </tr>\n",
       "    <tr>\n",
       "      <th>1</th>\n",
       "      <td>47.0</td>\n",
       "      <td>7.0000</td>\n",
       "      <td>0</td>\n",
       "      <td>1</td>\n",
       "      <td>NaN</td>\n",
       "      <td>0</td>\n",
       "      <td>0</td>\n",
       "      <td>0</td>\n",
       "      <td>0</td>\n",
       "      <td>0</td>\n",
       "      <td>...</td>\n",
       "      <td>0</td>\n",
       "      <td>0</td>\n",
       "      <td>0</td>\n",
       "      <td>0</td>\n",
       "      <td>0</td>\n",
       "      <td>0</td>\n",
       "      <td>0</td>\n",
       "      <td>0</td>\n",
       "      <td>0</td>\n",
       "      <td>0</td>\n",
       "    </tr>\n",
       "    <tr>\n",
       "      <th>2</th>\n",
       "      <td>62.0</td>\n",
       "      <td>9.6875</td>\n",
       "      <td>0</td>\n",
       "      <td>0</td>\n",
       "      <td>NaN</td>\n",
       "      <td>0</td>\n",
       "      <td>0</td>\n",
       "      <td>0</td>\n",
       "      <td>0</td>\n",
       "      <td>0</td>\n",
       "      <td>...</td>\n",
       "      <td>0</td>\n",
       "      <td>0</td>\n",
       "      <td>0</td>\n",
       "      <td>0</td>\n",
       "      <td>0</td>\n",
       "      <td>0</td>\n",
       "      <td>0</td>\n",
       "      <td>0</td>\n",
       "      <td>0</td>\n",
       "      <td>0</td>\n",
       "    </tr>\n",
       "    <tr>\n",
       "      <th>3</th>\n",
       "      <td>27.0</td>\n",
       "      <td>8.6625</td>\n",
       "      <td>0</td>\n",
       "      <td>0</td>\n",
       "      <td>NaN</td>\n",
       "      <td>0</td>\n",
       "      <td>0</td>\n",
       "      <td>0</td>\n",
       "      <td>0</td>\n",
       "      <td>0</td>\n",
       "      <td>...</td>\n",
       "      <td>0</td>\n",
       "      <td>0</td>\n",
       "      <td>0</td>\n",
       "      <td>0</td>\n",
       "      <td>0</td>\n",
       "      <td>0</td>\n",
       "      <td>0</td>\n",
       "      <td>0</td>\n",
       "      <td>0</td>\n",
       "      <td>0</td>\n",
       "    </tr>\n",
       "    <tr>\n",
       "      <th>4</th>\n",
       "      <td>22.0</td>\n",
       "      <td>12.2875</td>\n",
       "      <td>1</td>\n",
       "      <td>1</td>\n",
       "      <td>NaN</td>\n",
       "      <td>0</td>\n",
       "      <td>0</td>\n",
       "      <td>0</td>\n",
       "      <td>0</td>\n",
       "      <td>0</td>\n",
       "      <td>...</td>\n",
       "      <td>0</td>\n",
       "      <td>0</td>\n",
       "      <td>0</td>\n",
       "      <td>0</td>\n",
       "      <td>0</td>\n",
       "      <td>0</td>\n",
       "      <td>0</td>\n",
       "      <td>0</td>\n",
       "      <td>0</td>\n",
       "      <td>0</td>\n",
       "    </tr>\n",
       "  </tbody>\n",
       "</table>\n",
       "<p>5 rows × 870 columns</p>\n",
       "</div>"
      ],
      "text/plain": [
       "    Age     Fare  Parch  SibSp  Survived  Cabin_A11  Cabin_A18  Cabin_A21  \\\n",
       "0  34.5   7.8292      0      0       NaN          0          0          0   \n",
       "1  47.0   7.0000      0      1       NaN          0          0          0   \n",
       "2  62.0   9.6875      0      0       NaN          0          0          0   \n",
       "3  27.0   8.6625      0      0       NaN          0          0          0   \n",
       "4  22.0  12.2875      1      1       NaN          0          0          0   \n",
       "\n",
       "   Cabin_A29  Cabin_A34         ...          Ticket_SOTON/OQ 392083  \\\n",
       "0          0          0         ...                               0   \n",
       "1          0          0         ...                               0   \n",
       "2          0          0         ...                               0   \n",
       "3          0          0         ...                               0   \n",
       "4          0          0         ...                               0   \n",
       "\n",
       "   Ticket_STON/O 2. 3101268  Ticket_STON/O 2. 3101291  \\\n",
       "0                         0                         0   \n",
       "1                         0                         0   \n",
       "2                         0                         0   \n",
       "3                         0                         0   \n",
       "4                         0                         0   \n",
       "\n",
       "   Ticket_STON/O2. 3101270  Ticket_STON/OQ. 369943  Ticket_W./C. 14260  \\\n",
       "0                        0                       0                   0   \n",
       "1                        0                       0                   0   \n",
       "2                        0                       0                   0   \n",
       "3                        0                       0                   0   \n",
       "4                        0                       0                   0   \n",
       "\n",
       "   Ticket_W./C. 14266  Ticket_W./C. 6607  Ticket_W./C. 6608  \\\n",
       "0                   0                  0                  0   \n",
       "1                   0                  0                  0   \n",
       "2                   0                  0                  0   \n",
       "3                   0                  0                  0   \n",
       "4                   0                  0                  0   \n",
       "\n",
       "   Ticket_W.E.P. 5734  \n",
       "0                   0  \n",
       "1                   0  \n",
       "2                   0  \n",
       "3                   0  \n",
       "4                   0  \n",
       "\n",
       "[5 rows x 870 columns]"
      ]
     },
     "execution_count": 40,
     "metadata": {},
     "output_type": "execute_result"
    }
   ],
   "source": [
    "test = test.drop('PassengerId',axis=1)\n",
    "test = \n",
    "#test = test.drop('Name',axis=1)\n",
    "\n",
    "#To flag num attri features\n",
    "num_attri = ['Age','SibSp','Parch','Fare']\n",
    "cat_attri = [column for column in test if (column not in num_attri and column != 'Survived')]\n",
    "\n",
    "#Creating dummy variable\n",
    "for column in (cat_attri):\n",
    "    #Lets just keep every categorical attributes for plotting\n",
    "    tempDF = pd.get_dummies(test[column],prefix=column)\n",
    "    test.drop(column,axis=1,inplace=True)\n",
    "    test = test.join(tempDF)\n",
    "test.head()"
   ]
  },
  {
   "cell_type": "code",
   "execution_count": 36,
   "metadata": {
    "collapsed": false
   },
   "outputs": [
    {
     "name": "stderr",
     "output_type": "stream",
     "text": [
      "/Users/theerit/anaconda/envs/ipykernel_py2/lib/python2.7/site-packages/sklearn/cross_validation.py:44: DeprecationWarning: This module was deprecated in version 0.18 in favor of the model_selection module into which all the refactored classes and functions are moved. Also note that the interface of the new CV iterators are different from that of this module. This module will be removed in 0.20.\n",
      "  \"This module will be removed in 0.20.\", DeprecationWarning)\n"
     ]
    },
    {
     "ename": "ValueError",
     "evalue": "feature_names mismatch: [u'Age', u'Fare', u'Parch', u'SibSp', u'Cabin_A10', u'Cabin_A16', u'Cabin_A20', u'Cabin_A23', u'Cabin_A24', u'Cabin_A26', u'Cabin_A31', u'Cabin_A34', u'Cabin_A36', u'Cabin_A5', u'Cabin_A6', u'Cabin_A7', u'Cabin_B101', u'Cabin_B18', u'Cabin_B19', u'Cabin_B20', u'Cabin_B22', u'Cabin_B3', u'Cabin_B30', u'Cabin_B35', u'Cabin_B37', u'Cabin_B38', u'Cabin_B39', u'Cabin_B4', u'Cabin_B41', u'Cabin_B42', u'Cabin_B49', u'Cabin_B5', u'Cabin_B50', u'Cabin_B51 B53 B55', u'Cabin_B57 B59 B63 B66', u'Cabin_B58 B60', u'Cabin_B69', u'Cabin_B71', u'Cabin_B73', u'Cabin_B77', u'Cabin_B79', u'Cabin_B80', u'Cabin_B82 B84', u'Cabin_B86', u'Cabin_B94', u'Cabin_B96 B98', u'Cabin_C101', u'Cabin_C103', u'Cabin_C104', u'Cabin_C110', u'Cabin_C111', u'Cabin_C118', u'Cabin_C123', u'Cabin_C124', u'Cabin_C125', u'Cabin_C126', u'Cabin_C148', u'Cabin_C2', u'Cabin_C22 C26', u'Cabin_C23 C25 C27', u'Cabin_C30', u'Cabin_C32', u'Cabin_C45', u'Cabin_C46', u'Cabin_C49', u'Cabin_C50', u'Cabin_C52', u'Cabin_C54', u'Cabin_C62 C64', u'Cabin_C65', u'Cabin_C68', u'Cabin_C7', u'Cabin_C70', u'Cabin_C78', u'Cabin_C82', u'Cabin_C83', u'Cabin_C85', u'Cabin_C86', u'Cabin_C87', u'Cabin_C90', u'Cabin_C91', u'Cabin_C92', u'Cabin_C93', u'Cabin_C99', u'Cabin_D', u'Cabin_D10 D12', u'Cabin_D11', u'Cabin_D15', u'Cabin_D17', u'Cabin_D19', u'Cabin_D20', u'Cabin_D26', u'Cabin_D28', u'Cabin_D30', u'Cabin_D33', u'Cabin_D35', u'Cabin_D36', u'Cabin_D37', u'Cabin_D46', u'Cabin_D47', u'Cabin_D48', u'Cabin_D49', u'Cabin_D50', u'Cabin_D56', u'Cabin_D6', u'Cabin_D7', u'Cabin_D9', u'Cabin_E10', u'Cabin_E101', u'Cabin_E12', u'Cabin_E121', u'Cabin_E17', u'Cabin_E24', u'Cabin_E25', u'Cabin_E31', u'Cabin_E33', u'Cabin_E34', u'Cabin_E36', u'Cabin_E38', u'Cabin_E40', u'Cabin_E44', u'Cabin_E46', u'Cabin_E49', u'Cabin_E50', u'Cabin_E58', u'Cabin_E63', u'Cabin_E67', u'Cabin_E68', u'Cabin_E77', u'Cabin_E8', u'Cabin_F G63', u'Cabin_F G73', u'Cabin_F2', u'Cabin_F33', u'Cabin_F4', u'Cabin_G6', u'Cabin_T', u'Embarked_C', u'Embarked_Q', u'Embarked_S', u'Name_Allen, Miss. Elisabeth Walton', u'Name_Allison, Master. Hudson Trevor', u'Name_Allison, Miss. Helen Loraine', u'Name_Allison, Mrs. Hudson J C (Bessie Waldo Daniels)', u'Name_Anderson, Mr. Harry', u'Name_Andrews, Miss. Kornelia Theodosia', u'Name_Andrews, Mr. Thomas Jr', u'Name_Appleton, Mrs. Edward Dale (Charlotte Lamson)', u'Name_Astor, Mrs. John Jacob (Madeleine Talmadge Force)', u'Name_Aubart, Mme. Leontine Pauline', u'Name_Ball, Mrs. (Ada E Hall)', u'Name_Barkworth, Mr. Algernon Henry Wilson', u'Name_Baxter, Mr. Quigg Edmond', u'Name_Baxter, Mrs. James (Helene DeLaudeniere Chaput)', u'Name_Bazzani, Miss. Albina', u'Name_Becker, Master. Richard F', u'Name_Becker, Miss. Marion Louise', u'Name_Beckwith, Mr. Richard Leonard', u'Name_Beckwith, Mrs. Richard Leonard (Sallie Monypeny)', u'Name_Beesley, Mr. Lawrence', u'Name_Behr, Mr. Karl Howell', u'Name_Bishop, Mr. Dickinson H', u'Name_Bishop, Mrs. Dickinson H (Helen Walton)', u'Name_Bissette, Miss. Amelia', u'Name_Bjornstrom-Steffansson, Mr. Mauritz Hakan', u'Name_Blackwell, Mr. Stephen Weart', u'Name_Blank, Mr. Henry', u'Name_Bonnell, Miss. Elizabeth', u'Name_Bowerman, Miss. Elsie Edith', u'Name_Brown, Miss. Amelia \"Mildred\"', u'Name_Brown, Mrs. James Joseph (Margaret Tobin)', u'Name_Burns, Miss. Elizabeth Margaret', u'Name_Butt, Major. Archibald Willingham', u'Name_Calderhead, Mr. Edward Pennington', u'Name_Cardeza, Mr. Thomas Drake Martinez', u'Name_Carlsson, Mr. Frans Olof', u'Name_Carter, Master. William Thornton II', u'Name_Carter, Miss. Lucile Polk', u'Name_Carter, Mr. William Ernest', u'Name_Carter, Mrs. William Ernest (Lucile Polk)', u'Name_Cavendish, Mr. Tyrell William', u'Name_Chaffee, Mr. Herbert Fuller', u'Name_Chambers, Mr. Norman Campbell', u'Name_Chambers, Mrs. Norman Campbell (Bertha Griggs)', u'Name_Cherry, Miss. Gladys', u'Name_Colley, Mr. Edward Pomeroy', u'Name_Compton, Miss. Sara Rebecca', u'Name_Crosby, Capt. Edward Gifford', u'Name_Crosby, Miss. Harriet R', u'Name_Cumings, Mrs. John Bradley (Florence Briggs Thayer)', u'Name_Daly, Mr. Peter Denis ', u'Name_Davidson, Mr. Thornton', u'Name_Dick, Mr. Albert Adrian', u'Name_Dick, Mrs. Albert Adrian (Vera Gillespie)', u'Name_Dodge, Master. Washington', u'Name_Douglas, Mr. Walter Donald', u'Name_Duff Gordon, Lady. (Lucille Christiana Sutherland) (\"Mrs Morgan\")', u'Name_Duff Gordon, Sir. Cosmo Edmund (\"Mr Morgan\")', u'Name_Endres, Miss. Caroline Louise', u'Name_Eustis, Miss. Elizabeth Mussey', u'Name_Flynn, Mr. John Irwin (\"Irving\")', u'Name_Foreman, Mr. Benjamin Laventall', u'Name_Fortune, Miss. Alice Elizabeth', u'Name_Fortune, Miss. Mabel Helen', u'Name_Fortune, Mr. Charles Alexander', u'Name_Fortune, Mr. Mark', u'Name_Francatelli, Miss. Laura Mabel', u'Name_Frolicher, Miss. Hedwig Margaritha', u'Name_Frolicher-Stehli, Mr. Maxmillian', u'Name_Futrelle, Mr. Jacques Heath', u'Name_Futrelle, Mrs. Jacques Heath (Lily May Peel)', u'Name_Gee, Mr. Arthur H', u'Name_Giglio, Mr. Victor', u'Name_Goldenberg, Mr. Samuel L', u'Name_Goldschmidt, Mr. George B', u'Name_Graham, Miss. Margaret Edith', u'Name_Graham, Mr. George Edward', u'Name_Graham, Mrs. William Thompson (Edith Junkins)', u'Name_Greenfield, Mr. William Bertram', u'Name_Guggenheim, Mr. Benjamin', u'Name_Harder, Mr. George Achilles', u'Name_Harper, Mr. Henry Sleeper', u'Name_Harper, Mrs. Henry Sleeper (Myna Haxtun)', u'Name_Harris, Mr. Henry Birkhardt', u'Name_Harris, Mrs. Henry Birkhardt (Irene Wallach)', u'Name_Harrison, Mr. William', u'Name_Hassab, Mr. Hammad', u'Name_Hays, Miss. Margaret Bechstein', u'Name_Hays, Mrs. Charles Melville (Clara Jennings Gregg)', u'Name_Hippach, Miss. Jean Gertrude', u'Name_Hippach, Mrs. Louis Albert (Ida Sophia Fischer)', u'Name_Hogeboom, Mrs. John C (Anna Andrews)', u'Name_Hoyt, Mr. Frederick Maxfield', u'Name_Hoyt, Mrs. Frederick Maxfield (Jane Anne Forby)', u'Name_Humblen, Mr. Adolf Mathias Nicolai Olsen', u'Name_Isham, Miss. Ann Elizabeth', u'Name_Jerwan, Mrs. Amin S (Marie Marthe Thuillard)', u'Name_Kent, Mr. Edward Austin', u'Name_Kimball, Mr. Edwin Nelson Jr', u'Name_Leader, Dr. Alice (Farnham)', u'Name_Lemore, Mrs. (Amelia Milley)', u'Name_Lesurer, Mr. Gustave J', u'Name_Levy, Mr. Rene Jacques', u'Name_Lines, Miss. Mary Conover', u'Name_Long, Mr. Milton Clyde', u'Name_Longley, Miss. Gretchen Fiske', u'Name_Lurette, Miss. Elise', u'Name_Mack, Mrs. (Mary)', u'Name_Madill, Miss. Georgette Alexandra', u'Name_Maioni, Miss. Roberta', u'Name_Marvin, Mr. Daniel Warner', u'Name_Mayne, Mlle. Berthe Antonine (\"Mrs de Villiers\")', u'Name_McCarthy, Mr. Timothy J', u'Name_McGough, Mr. James Robert', u'Name_Millet, Mr. Francis Davis', u'Name_Minahan, Dr. William Edward', u'Name_Minahan, Miss. Daisy E', u'Name_Moen, Mr. Sigurd Hansen', u'Name_Molson, Mr. Harry Markland', u'Name_Moor, Master. Meier', u'Name_Moor, Mrs. (Beila)', u'Name_Natsch, Mr. Charles H', u'Name_Navratil, Master. Edmond Roger', u'Name_Navratil, Master. Michel M', u'Name_Navratil, Mr. Michel (\"Louis M Hoffman\")', u'Name_Newell, Miss. Madeleine', u'Name_Newell, Miss. Marjorie', u'Name_Newell, Mr. Arthur Webster', u'Name_Newsom, Miss. Helen Monypeny', u'Name_Nye, Mrs. (Elizabeth Ramell)', u'Name_Ostby, Mr. Engelhart Cornelius', u'Name_Partner, Mr. Austen', u'Name_Pears, Mr. Thomas Clinton', u'Name_Pears, Mrs. Thomas (Edith Wearne)', u'Name_Penasco y Castellana, Mr. Victor de Satode', u'Name_Penasco y Castellana, Mrs. Victor de Satode (Maria Josefa Perez de Soto y Vallejo)', u'Name_Perreault, Miss. Anne', u'Name_Peuchen, Major. Arthur Godfrey', u'Name_Pickard, Mr. Berk (Berk Trembisky)', u'Name_Porter, Mr. Walter Chamberlain', u'Name_Potter, Mrs. Thomas Jr (Lily Alexenia Wilson)', u'Name_Robert, Mrs. Edward Scott (Elisabeth Walton McMillan)', u'Name_Roebling, Mr. Washington Augustus II', u'Name_Ross, Mr. John Hugo', u'Name_Rothes, the Countess. of (Lucy Noel Martha Dyer-Edwards)', u'Name_Ryerson, Miss. Emily Borie', u'Name_Ryerson, Miss. Susan Parker \"Suzette\"', u'Name_Sagesser, Mlle. Emma', u'Name_Sandstrom, Miss. Marguerite Rut', u'Name_Sandstrom, Mrs. Hjalmar (Agnes Charlotta Bengtsson)', u'Name_Shutes, Miss. Elizabeth W', u'Name_Silverthorne, Mr. Spencer Victor', u'Name_Silvey, Mr. William Baird', u'Name_Silvey, Mrs. William Baird (Alice Munger)', u'Name_Simonius-Blumer, Col. Oberst Alfons', u'Name_Sloper, Mr. William Thompson', u'Name_Smith, Mr. James Clinch', u'Name_Soholt, Mr. Peter Andreas Lauritz Andersen', u'Name_Spedden, Mrs. Frederic Oakley (Margaretta Corning Stone)', u'Name_Stahelin-Maeglin, Dr. Max', u'Name_Stead, Mr. William Thomas', u'Name_Stephenson, Mrs. Walter Bertram (Martha Eustis)', u'Name_Strom, Miss. Telma Matilda', u'Name_Strom, Mrs. Wilhelm (Elna Matilda Persson)', u'Name_Sutton, Mr. Frederick', u'Name_Swift, Mrs. Frederick Joel (Margaret Welles Barron)', u'Name_Taussig, Miss. Ruth', u'Name_Taussig, Mr. Emil', u'Name_Taussig, Mrs. Emil (Tillie Mandelbaum)', u'Name_Taylor, Mr. Elmer Zebley', u'Name_Thayer, Mr. John Borland', u'Name_Thayer, Mr. John Borland Jr', u'Name_Thayer, Mrs. John Borland (Marian Longstreth Morris)', u'Name_Troutt, Miss. Edwina Celia \"Winnie\"', u'Name_Van der hoef, Mr. Wyckoff', u'Name_Walker, Mr. William Anderson', u'Name_Warren, Mrs. Frank Manley (Anna Sophia Atkinson)', u'Name_Webber, Miss. Susan', u'Name_White, Mr. Percival Wayland', u'Name_White, Mr. Richard Frasar', u'Name_Wick, Miss. Mary Natalie', u'Name_Widener, Mr. Harry Elkins', u'Name_Young, Miss. Marie Grice', u'Pclass_1', u'Pclass_2', u'Pclass_3', u'Sex_female', u'Sex_male', u'Ticket_110152', u'Ticket_110413', u'Ticket_110465', u'Ticket_110564', u'Ticket_110813', u'Ticket_111240', u'Ticket_111320', u'Ticket_111361', u'Ticket_111369', u'Ticket_112050', u'Ticket_112053', u'Ticket_112059', u'Ticket_112277', u'Ticket_113043', u'Ticket_113050', u'Ticket_113051', u'Ticket_113055', u'Ticket_113501', u'Ticket_113503', u'Ticket_113505', u'Ticket_113509', u'Ticket_113514', u'Ticket_113760', u'Ticket_113773', u'Ticket_113776', u'Ticket_113781', u'Ticket_113783', u'Ticket_113784', u'Ticket_113786', u'Ticket_113787', u'Ticket_113788', u'Ticket_113803', u'Ticket_113806', u'Ticket_11751', u'Ticket_11752', u'Ticket_11753', u'Ticket_11755', u'Ticket_11765', u'Ticket_11767', u'Ticket_11769', u'Ticket_11771', u'Ticket_11813', u'Ticket_11967', u'Ticket_12749', u'Ticket_13049', u'Ticket_13213', u'Ticket_13214', u'Ticket_13502', u'Ticket_13507', u'Ticket_13509', u'Ticket_13567', u'Ticket_13568', u'Ticket_16966', u'Ticket_17421', u'Ticket_17453', u'Ticket_17463', u'Ticket_17465', u'Ticket_17466', u'Ticket_17474', u'Ticket_17764', u'Ticket_19877', u'Ticket_19928', u'Ticket_19943', u'Ticket_19950', u'Ticket_19952', u'Ticket_19996', u'Ticket_230080', u'Ticket_230136', u'Ticket_24160', u'Ticket_248698', u'Ticket_248733', u'Ticket_27042', u'Ticket_27267', u'Ticket_28551', u'Ticket_33638', u'Ticket_34218', u'Ticket_347054', u'Ticket_348121', u'Ticket_348123', u'Ticket_348124', u'Ticket_35273', u'Ticket_35281', u'Ticket_36928', u'Ticket_36947', u'Ticket_36963', u'Ticket_36967', u'Ticket_36973', u'Ticket_392096', u'Ticket_5727', u'Ticket_695', u'Ticket_C.A. 29395', u'Ticket_C.A. 34260', u'Ticket_F.C. 12750', u'Ticket_PC 17473', u'Ticket_PC 17474', u'Ticket_PC 17475', u'Ticket_PC 17476', u'Ticket_PC 17477', u'Ticket_PC 17482', u'Ticket_PC 17485', u'Ticket_PC 17558', u'Ticket_PC 17569', u'Ticket_PC 17572', u'Ticket_PC 17582', u'Ticket_PC 17590', u'Ticket_PC 17592', u'Ticket_PC 17593', u'Ticket_PC 17595', u'Ticket_PC 17596', u'Ticket_PC 17599', u'Ticket_PC 17608', u'Ticket_PC 17610', u'Ticket_PC 17754', u'Ticket_PC 17755', u'Ticket_PC 17756', u'Ticket_PC 17757', u'Ticket_PC 17758', u'Ticket_PC 17759', u'Ticket_PC 17760', u'Ticket_PC 17761', u'Ticket_PP 9549', u'Ticket_S.O./P.P. 3', u'Ticket_SC/AH Basle 541', u'Ticket_SC/Paris 2163', u'Ticket_SOTON/O.Q. 392078', u'Ticket_W.E.P. 5734', u'Ticket_WE/P 5735'] [u'Age', u'SibSp', u'Parch', u'Fare', u'Pclass_1', u'Pclass_2', u'Pclass_3', u'Sex_female', u'Sex_male', u'Ticket_110469', u'Ticket_110489', u'Ticket_110813', u'Ticket_111163', u'Ticket_112051', u'Ticket_112058', u'Ticket_112377', u'Ticket_112378', u'Ticket_112901', u'Ticket_113038', u'Ticket_113044', u'Ticket_113054', u'Ticket_113059', u'Ticket_113503', u'Ticket_113509', u'Ticket_113773', u'Ticket_113778', u'Ticket_113780', u'Ticket_113781', u'Ticket_113790', u'Ticket_113791', u'Ticket_113795', u'Ticket_113796', u'Ticket_113801', u'Ticket_11753', u'Ticket_11765', u'Ticket_11767', u'Ticket_11769', u'Ticket_11770', u'Ticket_11778', u'Ticket_11813', u'Ticket_1222', u'Ticket_12749', u'Ticket_13050', u'Ticket_13236', u'Ticket_13508', u'Ticket_13567', u'Ticket_13695', u'Ticket_13905', u'Ticket_1601', u'Ticket_16966', u'Ticket_17463', u'Ticket_17464', u'Ticket_17475', u'Ticket_17765', u'Ticket_17770', u'Ticket_19877', u'Ticket_19924', u'Ticket_19928', u'Ticket_19950', u'Ticket_2003', u'Ticket_211535', u'Ticket_21228', u'Ticket_21332', u'Ticket_220844', u'Ticket_220845', u'Ticket_226875', u'Ticket_228414', u'Ticket_230136', u'Ticket_233478', u'Ticket_233734', u'Ticket_235509', u'Ticket_236853', u'Ticket_236854', u'Ticket_237216', u'Ticket_237249', u'Ticket_237393', u'Ticket_237670', u'Ticket_237734', u'Ticket_237735', u'Ticket_237789', u'Ticket_239059', u'Ticket_240261', u'Ticket_240276', u'Ticket_24065', u'Ticket_24160', u'Ticket_242963', u'Ticket_244346', u'Ticket_244358', u'Ticket_244360', u'Ticket_244368', u'Ticket_248659', u'Ticket_248726', u'Ticket_248734', u'Ticket_248738', u'Ticket_248744', u'Ticket_248746', u'Ticket_250650', u'Ticket_250651', u'Ticket_2543', u'Ticket_2621', u'Ticket_2622', u'Ticket_2625', u'Ticket_26360', u'Ticket_2650', u'Ticket_2652', u'Ticket_2653', u'Ticket_2654', u'Ticket_2655', u'Ticket_2656', u'Ticket_2657', u'Ticket_2658', u'Ticket_2660', u'Ticket_2661', u'Ticket_2662', u'Ticket_2668', u'Ticket_2670', u'Ticket_26707', u'Ticket_2673', u'Ticket_2675', u'Ticket_2676', u'Ticket_2678', u'Ticket_2679', u'Ticket_2680', u'Ticket_2681', u'Ticket_2682', u'Ticket_2684', u'Ticket_2688', u'Ticket_2689', u'Ticket_2692', u'Ticket_2696', u'Ticket_2698', u'Ticket_28004', u'Ticket_28034', u'Ticket_28133', u'Ticket_28220', u'Ticket_28221', u'Ticket_28404', u'Ticket_28664', u'Ticket_28666', u'Ticket_29103', u'Ticket_29105', u'Ticket_29107', u'Ticket_2926', u'Ticket_29750', u'Ticket_3101266', u'Ticket_3101295', u'Ticket_3101297', u'Ticket_3101298', u'Ticket_315083', u'Ticket_315085', u'Ticket_315087', u'Ticket_315091', u'Ticket_315092', u'Ticket_315095', u'Ticket_315152', u'Ticket_315153', u'Ticket_315154', u'Ticket_32302', u'Ticket_329944', u'Ticket_330844', u'Ticket_330910', u'Ticket_330911', u'Ticket_330920', u'Ticket_330924', u'Ticket_330963', u'Ticket_330968', u'Ticket_330971', u'Ticket_330972', u'Ticket_334914', u'Ticket_334915', u'Ticket_335432', u'Ticket_33638', u'Ticket_3410', u'Ticket_342441', u'Ticket_342684', u'Ticket_342712', u'Ticket_343271', u'Ticket_345498', u'Ticket_345501', u'Ticket_345572', u'Ticket_345763', u'Ticket_345768', u'Ticket_345771', u'Ticket_345775', u'Ticket_3470', u'Ticket_347065', u'Ticket_347066', u'Ticket_347070', u'Ticket_347072', u'Ticket_347075', u'Ticket_347077', u'Ticket_347079', u'Ticket_347080', u'Ticket_347086', u'Ticket_347090', u'Ticket_347091', u'Ticket_347465', u'Ticket_347467', u'Ticket_347469', u'Ticket_347471', u'Ticket_348122', u'Ticket_348125', u'Ticket_349202', u'Ticket_349211', u'Ticket_349220', u'Ticket_349226', u'Ticket_349229', u'Ticket_349230', u'Ticket_349232', u'Ticket_349235', u'Ticket_349238', u'Ticket_349250', u'Ticket_349255', u'Ticket_349256', u'Ticket_349909', u'Ticket_349910', u'Ticket_349911', u'Ticket_350026', u'Ticket_350033', u'Ticket_350045', u'Ticket_350053', u'Ticket_350054', u'Ticket_350403', u'Ticket_350405', u'Ticket_350408', u'Ticket_350409', u'Ticket_350410', u'Ticket_350416', u'Ticket_359306', u'Ticket_359309', u'Ticket_363272', u'Ticket_363611', u'Ticket_364498', u'Ticket_364856', u'Ticket_364858', u'Ticket_364859', u'Ticket_365235', u'Ticket_365237', u'Ticket_36568', u'Ticket_366713', u'Ticket_367226', u'Ticket_367227', u'Ticket_368364', u'Ticket_368402', u'Ticket_368573', u'Ticket_368702', u'Ticket_368783', u'Ticket_36928', u'Ticket_3701', u'Ticket_370129', u'Ticket_370368', u'Ticket_370371', u'Ticket_370374', u'Ticket_371109', u'Ticket_371362', u'Ticket_376563', u'Ticket_376566', u'Ticket_382650', u'Ticket_382652', u'Ticket_382653', u'Ticket_383123', u'Ticket_383162', u'Ticket_386525', u'Ticket_392091', u'Ticket_392095', u'Ticket_4133', u'Ticket_65305', u'Ticket_680', u'Ticket_694', u'Ticket_7266', u'Ticket_7538', u'Ticket_7548', u'Ticket_7935', u'Ticket_9232', u'Ticket_A. 2. 39186', u'Ticket_A./5. 3338', u'Ticket_A.5. 3236', u'Ticket_A/4 31416', u'Ticket_A/4 48871', u'Ticket_A/4 48873', u'Ticket_A/5 1478', u'Ticket_A/5 21175', u'Ticket_A/5. 3337', u'Ticket_A/5. 851', u'Ticket_AQ/3. 30631', u'Ticket_AQ/4 3130', u'Ticket_C 17368', u'Ticket_C 4001', u'Ticket_C.A. 15185', u'Ticket_C.A. 2315', u'Ticket_C.A. 2673', u'Ticket_C.A. 30769', u'Ticket_C.A. 31029', u'Ticket_C.A. 31030', u'Ticket_C.A. 33112', u'Ticket_C.A. 33595', u'Ticket_C.A. 34050', u'Ticket_C.A. 34644', u'Ticket_C.A. 34651', u'Ticket_C.A. 37671', u'Ticket_C.A. 42795', u'Ticket_C.A. 49867', u'Ticket_C.A. 6212', u'Ticket_CA 2144', u'Ticket_CA 31352', u'Ticket_CA. 2343', u'Ticket_F.C. 12750', u'Ticket_F.C. 12998', u'Ticket_F.C.C. 13528', u'Ticket_F.C.C. 13534', u'Ticket_F.C.C. 13540', u'Ticket_LP 1588', u'Ticket_PC 17483', u'Ticket_PC 17531', u'Ticket_PC 17558', u'Ticket_PC 17562', u'Ticket_PC 17569', u'Ticket_PC 17580', u'Ticket_PC 17585', u'Ticket_PC 17591', u'Ticket_PC 17592', u'Ticket_PC 17594', u'Ticket_PC 17597', u'Ticket_PC 17598', u'Ticket_PC 17599', u'Ticket_PC 17603', u'Ticket_PC 17606', u'Ticket_PC 17607', u'Ticket_PC 17608', u'Ticket_PC 17613', u'Ticket_PC 17755', u'Ticket_PC 17756', u'Ticket_PC 17757', u'Ticket_PC 17758', u'Ticket_PC 17759', u'Ticket_PC 17760', u'Ticket_PC 17761', u'Ticket_PP 9549', u'Ticket_S.C./PARIS 2079', u'Ticket_S.O./P.P. 2', u'Ticket_S.O./P.P. 251', u'Ticket_S.O./P.P. 752', u'Ticket_S.O.C. 14879', u'Ticket_SC 14888', u'Ticket_SC/A.3 2861', u'Ticket_SC/A4 23568', u'Ticket_SC/AH 29037', u'Ticket_SC/AH 3085', u'Ticket_SC/PARIS 2147', u'Ticket_SC/PARIS 2148', u'Ticket_SC/PARIS 2159', u'Ticket_SC/PARIS 2166', u'Ticket_SC/PARIS 2167', u'Ticket_SC/PARIS 2168', u'Ticket_SC/Paris 2123', u'Ticket_SOTON/O.Q. 3101262', u'Ticket_SOTON/O.Q. 3101263', u'Ticket_SOTON/O.Q. 3101308', u'Ticket_SOTON/O.Q. 3101309', u'Ticket_SOTON/O.Q. 3101314', u'Ticket_SOTON/O.Q. 3101315', u'Ticket_SOTON/O2 3101284', u'Ticket_SOTON/OQ 392083', u'Ticket_STON/O 2. 3101268', u'Ticket_STON/O 2. 3101291', u'Ticket_STON/O2. 3101270', u'Ticket_STON/OQ. 369943', u'Ticket_W./C. 14260', u'Ticket_W./C. 14266', u'Ticket_W./C. 6607', u'Ticket_W./C. 6608', u'Ticket_W.E.P. 5734', u'Cabin_A11', u'Cabin_A18', u'Cabin_A21', u'Cabin_A29', u'Cabin_A34', u'Cabin_A9', u'Cabin_B10', u'Cabin_B11', u'Cabin_B24', u'Cabin_B26', u'Cabin_B36', u'Cabin_B41', u'Cabin_B45', u'Cabin_B51 B53 B55', u'Cabin_B52 B54 B56', u'Cabin_B57 B59 B63 B66', u'Cabin_B58 B60', u'Cabin_B61', u'Cabin_B69', u'Cabin_B71', u'Cabin_B78', u'Cabin_C101', u'Cabin_C105', u'Cabin_C106', u'Cabin_C116', u'Cabin_C130', u'Cabin_C132', u'Cabin_C22 C26', u'Cabin_C23 C25 C27', u'Cabin_C28', u'Cabin_C31', u'Cabin_C32', u'Cabin_C39', u'Cabin_C46', u'Cabin_C51', u'Cabin_C53', u'Cabin_C54', u'Cabin_C55 C57', u'Cabin_C6', u'Cabin_C62 C64', u'Cabin_C7', u'Cabin_C78', u'Cabin_C80', u'Cabin_C85', u'Cabin_C86', u'Cabin_C89', u'Cabin_C97', u'Cabin_D', u'Cabin_D10 D12', u'Cabin_D15', u'Cabin_D19', u'Cabin_D21', u'Cabin_D22', u'Cabin_D28', u'Cabin_D30', u'Cabin_D34', u'Cabin_D37', u'Cabin_D38', u'Cabin_D40', u'Cabin_D43', u'Cabin_E31', u'Cabin_E34', u'Cabin_E39 E41', u'Cabin_E45', u'Cabin_E46', u'Cabin_E50', u'Cabin_E52', u'Cabin_E60', u'Cabin_F', u'Cabin_F E46', u'Cabin_F E57', u'Cabin_F G63', u'Cabin_F2', u'Cabin_F33', u'Cabin_F4', u'Cabin_G6', u'Embarked_C', u'Embarked_Q', u'Embarked_S']\nexpected Cabin_E68, Cabin_D47, Cabin_D46, Cabin_D49, Cabin_D48, Cabin_E67, Name_Blackwell, Mr. Stephen Weart, Ticket_PC 17590, Cabin_F G73, Cabin_B50, Name_Kimball, Mr. Edwin Nelson Jr, Ticket_17466, Ticket_17465, Name_Van der hoef, Mr. Wyckoff, Ticket_PC 17473, Cabin_C103, Cabin_C104, Ticket_PC 17477, Ticket_PC 17474, Ticket_PC 17475, Ticket_PC 17572, Name_Dick, Mr. Albert Adrian, Ticket_111320, Name_Partner, Mr. Austen, Name_Ball, Mrs. (Ada E Hall), Cabin_E63, Name_Humblen, Mr. Adolf Mathias Nicolai Olsen, Name_Compton, Miss. Sara Rebecca, Name_Chambers, Mr. Norman Campbell, Name_Ostby, Mr. Engelhart Cornelius, Name_Soholt, Mr. Peter Andreas Lauritz Andersen, Name_Aubart, Mme. Leontine Pauline, Cabin_C82, Cabin_C83, Cabin_C87, Name_Frolicher, Miss. Hedwig Margaritha, Cabin_C2, Name_Cavendish, Mr. Tyrell William, Ticket_36963, Name_Baxter, Mr. Quigg Edmond, Ticket_36967, Name_Moen, Mr. Sigurd Hansen, Name_Thayer, Mr. John Borland Jr, Ticket_5727, Ticket_19943, Ticket_113776, Cabin_B82 B84, Name_Lurette, Miss. Elise, Name_Duff Gordon, Lady. (Lucille Christiana Sutherland) (\"Mrs Morgan\"), Cabin_E38, Name_Carter, Mrs. William Ernest (Lucile Polk), Name_Allen, Miss. Elisabeth Walton, Name_Harris, Mrs. Henry Birkhardt (Irene Wallach), Name_Carter, Mr. William Ernest, Name_Mayne, Mlle. Berthe Antonine (\"Mrs de Villiers\"), Cabin_A36, Name_Calderhead, Mr. Edward Pennington, Cabin_A31, Cabin_E24, Cabin_E25, Cabin_C52, Cabin_C50, Name_Roebling, Mr. Washington Augustus II, Name_Astor, Mrs. John Jacob (Madeleine Talmadge Force), Cabin_C65, Ticket_35281, Name_Cumings, Mrs. John Bradley (Florence Briggs Thayer), Name_Crosby, Miss. Harriet R, Ticket_113788, Name_Smith, Mr. James Clinch, Ticket_113783, Name_Graham, Mrs. William Thompson (Edith Junkins), Ticket_113787, Name_Beckwith, Mrs. Richard Leonard (Sallie Monypeny), Name_Ross, Mr. John Hugo, Cabin_D11, Cabin_D17, Name_Hassab, Mr. Hammad, Cabin_T, Cabin_E58, Ticket_PC 17593, Ticket_PC 17595, Ticket_PC 17596, Name_Beesley, Mr. Lawrence, Cabin_B22, Cabin_B20, Name_Isham, Miss. Ann Elizabeth, Name_Colley, Mr. Edward Pomeroy, Name_Hogeboom, Mrs. John C (Anna Andrews), Name_Flynn, Mr. John Irwin (\"Irving\"), Ticket_392096, Ticket_113043, Ticket_13049, Ticket_SC/Paris 2163, Ticket_113514, Cabin_C110, Name_Newsom, Miss. Helen Monypeny, Name_Hippach, Miss. Jean Gertrude, Ticket_PC 17476, Name_White, Mr. Richard Frasar, Name_Perreault, Miss. Anne, Ticket_34218, Name_Cardeza, Mr. Thomas Drake Martinez, Name_Bjornstrom-Steffansson, Mr. Mauritz Hakan, Name_Marvin, Mr. Daniel Warner, Name_Allison, Mrs. Hudson J C (Bessie Waldo Daniels), Ticket_348123, Name_Nye, Mrs. (Elizabeth Ramell), Cabin_D56, Cabin_D50, Cabin_E17, Cabin_E10, Cabin_E12, Ticket_113760, Ticket_17453, Name_Longley, Miss. Gretchen Fiske, Cabin_C111, Cabin_E121, Name_Penasco y Castellana, Mr. Victor de Satode, Ticket_110413, Cabin_C118, Cabin_D20, Name_Robert, Mrs. Edward Scott (Elisabeth Walton McMillan), Cabin_D26, Name_Stead, Mr. William Thomas, Name_Natsch, Mr. Charles H, Name_Frolicher-Stehli, Mr. Maxmillian, Name_Harper, Mrs. Henry Sleeper (Myna Haxtun), Name_Strom, Mrs. Wilhelm (Elna Matilda Persson), Name_Strom, Miss. Telma Matilda, Name_Pears, Mrs. Thomas (Edith Wearne), Name_Spedden, Mrs. Frederic Oakley (Margaretta Corning Stone), Name_Minahan, Miss. Daisy E, Name_Andrews, Miss. Kornelia Theodosia, Ticket_19952, Name_Rothes, the Countess. of (Lucy Noel Martha Dyer-Edwards), Cabin_B80, Cabin_B86, Name_Potter, Mrs. Thomas Jr (Lily Alexenia Wilson), Ticket_13568, Name_Ryerson, Miss. Emily Borie, Name_Widener, Mr. Harry Elkins, Cabin_A20, Cabin_A23, Cabin_A24, Cabin_A26, Name_Burns, Miss. Elizabeth Margaret, Name_Bishop, Mr. Dickinson H, Name_Crosby, Capt. Edward Gifford, Cabin_C45, Name_Bowerman, Miss. Elsie Edith, Name_Anderson, Mr. Harry, Cabin_C49, Ticket_230080, Ticket_11755, Name_Davidson, Mr. Thornton, Ticket_11752, Ticket_11751, Name_Moor, Master. Meier, Name_Hoyt, Mr. Frederick Maxfield, Ticket_248698, Name_McGough, Mr. James Robert, Name_Moor, Mrs. (Beila), Name_McCarthy, Mr. Timothy J, Name_Carlsson, Mr. Frans Olof, Name_Walker, Mr. William Anderson, Cabin_B38, Cabin_B39, Cabin_E40, Ticket_PC 17582, Cabin_E44, Cabin_B30, Cabin_E49, Cabin_B35, Cabin_B37, Cabin_C30, Name_Maioni, Miss. Roberta, Ticket_17764, Name_Daly, Mr. Peter Denis , Name_Behr, Mr. Karl Howell, Ticket_27042, Name_Navratil, Master. Michel M, Cabin_C126, Cabin_C124, Cabin_C125, Cabin_C123, Name_Kent, Mr. Edward Austin, Name_Sandstrom, Mrs. Hjalmar (Agnes Charlotta Bengtsson), Ticket_113050, Ticket_113051, Ticket_113055, Name_Taussig, Mr. Emil, Name_Allison, Miss. Helen Loraine, Ticket_112059, Ticket_113501, Ticket_113505, Ticket_112050, Ticket_112053, Name_Stephenson, Mrs. Walter Bertram (Martha Eustis), Name_Foreman, Mr. Benjamin Laventall, Name_Swift, Mrs. Frederick Joel (Margaret Welles Barron), Ticket_695, Cabin_D6, Cabin_D7, Ticket_248733, Cabin_D9, Name_Warren, Mrs. Frank Manley (Anna Sophia Atkinson), Name_Appleton, Mrs. Edward Dale (Charlotte Lamson), Ticket_113806, Ticket_113803, Name_Newell, Miss. Marjorie, Name_White, Mr. Percival Wayland, Name_Millet, Mr. Francis Davis, Cabin_A10, Cabin_A16, Name_Lemore, Mrs. (Amelia Milley), Name_Peuchen, Major. Arthur Godfrey, Name_Harrison, Mr. William, Name_Graham, Mr. George Edward, Name_Bonnell, Miss. Elizabeth, Name_Navratil, Master. Edmond Roger, Name_Young, Miss. Marie Grice, Cabin_B77, Cabin_B73, Cabin_B79, Name_Allison, Master. Hudson Trevor, Name_Navratil, Mr. Michel (\"Louis M Hoffman\"), Ticket_112277, Name_Cherry, Miss. Gladys, Ticket_110152, Cabin_B96 B98, Name_Webber, Miss. Susan, Ticket_348124, Name_Endres, Miss. Caroline Louise, Name_Blank, Mr. Henry, Cabin_D33, Cabin_D36, Cabin_D35, Ticket_348121, Name_Brown, Miss. Amelia \"Mildred\", Name_Chaffee, Mr. Herbert Fuller, Name_Molson, Mr. Harry Markland, Ticket_36947, Name_Troutt, Miss. Edwina Celia \"Winnie\", Name_Futrelle, Mrs. Jacques Heath (Lily May Peel), Name_Leader, Dr. Alice (Farnham), Name_Duff Gordon, Sir. Cosmo Edmund (\"Mr Morgan\"), Ticket_C.A. 29395, Name_Penasco y Castellana, Mrs. Victor de Satode (Maria Josefa Perez de Soto y Vallejo), Cabin_B94, Name_Bazzani, Miss. Albina, Name_Taussig, Miss. Ruth, Name_Minahan, Dr. William Edward, Ticket_347054, Name_Harper, Mr. Henry Sleeper, Name_Porter, Mr. Walter Chamberlain, Name_Giglio, Mr. Victor, Ticket_SC/AH Basle 541, Name_Sandstrom, Miss. Marguerite Rut, Ticket_17474, Name_Wick, Miss. Mary Natalie, Cabin_A5, Cabin_A7, Cabin_A6, Name_Lines, Miss. Mary Conover, Name_Graham, Miss. Margaret Edith, Ticket_C.A. 34260, Name_Dodge, Master. Washington, Ticket_PC 17610, Name_Silvey, Mrs. William Baird (Alice Munger), Name_Long, Mr. Milton Clyde, Ticket_19996, Cabin_E77, Cabin_B49, Name_Bishop, Mrs. Dickinson H (Helen Walton), Ticket_110564, Name_Taussig, Mrs. Emil (Tillie Mandelbaum), Name_Carter, Miss. Lucile Polk, Cabin_B42, Name_Stahelin-Maeglin, Dr. Max, Name_Pears, Mr. Thomas Clinton, Name_Brown, Mrs. James Joseph (Margaret Tobin), Name_Guggenheim, Mr. Benjamin, Name_Hoyt, Mrs. Frederick Maxfield (Jane Anne Forby), Cabin_C70, Ticket_111240, Name_Sloper, Mr. William Thompson, Ticket_PC 17485, Ticket_PC 17482, Name_Becker, Master. Richard F, Cabin_C99, Cabin_C93, Cabin_C92, Cabin_C91, Cabin_C90, Cabin_B3, Cabin_B4, Cabin_B5, Ticket_WE/P 5735, Ticket_36973, Name_Mack, Mrs. (Mary), Name_Fortune, Mr. Mark, Name_Jerwan, Mrs. Amin S (Marie Marthe Thuillard), Name_Silvey, Mr. William Baird, Name_Dick, Mrs. Albert Adrian (Vera Gillespie), Name_Harder, Mr. George Achilles, Cabin_B101, Cabin_E8, Name_Beckwith, Mr. Richard Leonard, Name_Sagesser, Mlle. Emma, Name_Goldenberg, Mr. Samuel L, Name_Madill, Miss. Georgette Alexandra, Name_Futrelle, Mr. Jacques Heath, Name_Newell, Miss. Madeleine, Name_Hippach, Mrs. Louis Albert (Ida Sophia Fischer), Name_Becker, Miss. Marion Louise, Cabin_E33, Name_Goldschmidt, Mr. George B, Cabin_E36, Name_Silverthorne, Mr. Spencer Victor, Ticket_110465, Cabin_C148, Ticket_35273, Ticket_11967, Cabin_C68, Name_Chambers, Mrs. Norman Campbell (Bertha Griggs), Ticket_S.O./P.P. 3, Name_Shutes, Miss. Elizabeth W, Name_Gee, Mr. Arthur H, Name_Greenfield, Mr. William Bertram, Name_Harris, Mr. Henry Birkhardt, Name_Thayer, Mr. John Borland, Ticket_PC 17754, Name_Fortune, Miss. Mabel Helen, Ticket_13214, Ticket_111361, Ticket_111369, Ticket_27267, Cabin_B18, Cabin_B19, Ticket_17421, Name_Ryerson, Miss. Susan Parker \"Suzette\", Name_Lesurer, Mr. Gustave J, Name_Douglas, Mr. Walter Donald, Name_Baxter, Mrs. James (Helene DeLaudeniere Chaput), Name_Newell, Mr. Arthur Webster, Name_Barkworth, Mr. Algernon Henry Wilson, Name_Fortune, Miss. Alice Elizabeth, Ticket_113786, Name_Bissette, Miss. Amelia, Name_Simonius-Blumer, Col. Oberst Alfons, Ticket_SOTON/O.Q. 392078, Ticket_113784, Name_Sutton, Mr. Frederick, Ticket_13502, Ticket_13507, Ticket_13509, Name_Carter, Master. William Thornton II, Name_Butt, Major. Archibald Willingham, Name_Fortune, Mr. Charles Alexander, Name_Francatelli, Miss. Laura Mabel, Name_Thayer, Mrs. John Borland (Marian Longstreth Morris), Name_Hays, Mrs. Charles Melville (Clara Jennings Gregg), Name_Pickard, Mr. Berk (Berk Trembisky), Name_Andrews, Mr. Thomas Jr, Ticket_28551, Ticket_11771, Ticket_13213, Name_Levy, Mr. Rene Jacques, Name_Taylor, Mr. Elmer Zebley, Name_Eustis, Miss. Elizabeth Mussey, Cabin_E101, Name_Hays, Miss. Margaret Bechstein in input data\ntraining data did not have the following fields: Ticket_345501, Cabin_D43, Cabin_D40, Cabin_E60, Ticket_7538, Ticket_113778, Ticket_368702, Ticket_240261, Ticket_17464, Cabin_C105, Cabin_C106, Ticket_S.C./PARIS 2079, Ticket_SOTON/O.Q. 3101315, Ticket_SOTON/O.Q. 3101314, Ticket_350410, Ticket_350416, Ticket_28666, Ticket_28664, Cabin_C80, Cabin_C89, Cabin_C6, Ticket_364856, Ticket_STON/O2. 3101270, Ticket_W./C. 6608, Cabin_F E57, Ticket_W./C. 6607, Ticket_364858, Ticket_364859, Ticket_239059, Ticket_SOTON/O.Q. 3101263, Ticket_SOTON/O.Q. 3101262, Ticket_315085, Ticket_315087, Ticket_315083, Ticket_A/5 21175, Ticket_C.A. 30769, Ticket_SOTON/OQ 392083, Ticket_26707, Cabin_C53, Cabin_C51, Ticket_382650, Ticket_3470, Ticket_350026, Ticket_382653, Ticket_SC/PARIS 2148, Ticket_113780, Ticket_SC/PARIS 2147, Ticket_2668, Ticket_2662, Ticket_2660, Ticket_2661, Ticket_PC 17598, Cabin_E52, Ticket_PC 17591, Ticket_PC 17594, Ticket_PC 17597, Cabin_B26, Cabin_B24, Ticket_220844, Ticket_220845, Ticket_382652, Ticket_C.A. 15185, Ticket_F.C.C. 13528, Ticket_2696, Ticket_392095, Ticket_113044, Ticket_392091, Ticket_S.O./P.P. 752, Ticket_237670, Ticket_CA 31352, Ticket_2698, Ticket_347077, Ticket_347075, Ticket_347072, Ticket_347070, Ticket_347079, Ticket_350033, Ticket_A/5. 3337, Ticket_W./C. 14260, Ticket_W./C. 14266, Ticket_SC 14888, Ticket_2692, Ticket_248726, Ticket_349235, Ticket_349232, Ticket_349230, Ticket_248659, Ticket_370129, Ticket_349238, Ticket_2650, Ticket_348125, Ticket_348122, Ticket_28404, Ticket_13236, Ticket_386525, Ticket_345775, Ticket_F.C. 12998, Ticket_2625, Ticket_2622, Ticket_2621, Ticket_329944, Ticket_370368, Cabin_B61, Ticket_A. 2. 39186, Ticket_349909, Ticket_359306, Ticket_345572, Ticket_347091, Ticket_347090, Cabin_C116, Ticket_STON/O 2. 3101268, Ticket_PC 17562, Ticket_SOTON/O.Q. 3101308, Ticket_SOTON/O.Q. 3101309, Ticket_SOTON/O2 3101284, Ticket_SC/Paris 2123, Cabin_D21, Ticket_2652, Ticket_350408, Cabin_D22, Ticket_2657, Ticket_2656, Ticket_2655, Ticket_2654, Ticket_350403, Ticket_2658, Ticket_237734, Ticket_237735, Ticket_350405, Ticket_244346, Ticket_29750, Ticket_242963, Ticket_A/5 1478, Cabin_F E46, Ticket_111163, Ticket_28004, Ticket_335432, Ticket_330910, Ticket_330911, Ticket_A/4 48871, Ticket_A/4 48873, Ticket_24065, Ticket_315095, Ticket_315092, Ticket_315091, Ticket_315154, Ticket_315153, Ticket_315152, Cabin_B45, Ticket_211535, Ticket_26360, Ticket_237249, Cabin_A21, Cabin_A29, Ticket_21228, Ticket_3701, Ticket_349255, Ticket_350053, Ticket_PC 17606, Ticket_350054, Ticket_SC/PARIS 2159, Ticket_28221, Ticket_28220, Ticket_376566, Ticket_376563, Ticket_PC 17585, Ticket_371362, Ticket_PC 17580, Cabin_E45, Ticket_2003, Cabin_B36, Cabin_C31, Cabin_C39, Ticket_17765, Ticket_7266, Ticket_29105, Ticket_29107, Ticket_29103, Ticket_112377, Ticket_F.C.C. 13534, Ticket_1222, Ticket_65305, Ticket_13695, Ticket_371109, Ticket_2684, Ticket_2680, Ticket_2681, Ticket_113054, Ticket_113059, Ticket_2688, Ticket_2689, Ticket_112901, Ticket_112058, Ticket_C.A. 42795, Ticket_347065, Ticket_347066, Ticket_112051, Ticket_S.O./P.P. 251, Ticket_226875, Ticket_694, Cabin_F, Ticket_330963, Ticket_248738, Cabin_B52 B54 B56, Ticket_330968, Ticket_248734, Ticket_349220, Ticket_113801, Ticket_349226, Ticket_349229, Ticket_SC/A4 23568, Ticket_2543, Ticket_250650, Ticket_250651, Cabin_A18, Cabin_A11, Ticket_AQ/4 3130, Ticket_C.A. 6212, Ticket_9232, Ticket_342712, Ticket_112378, Ticket_349256, Ticket_349250, Ticket_28133, Cabin_B78, Ticket_233478, Ticket_347086, Ticket_349910, Ticket_349911, Ticket_PC 17607, Ticket_347080, Ticket_13905, Ticket_363272, Ticket_367226, Ticket_367227, Ticket_PC 17603, Ticket_244358, Cabin_D34, Cabin_D38, Ticket_7548, Ticket_3101266, Ticket_3410, Ticket_237393, Ticket_345771, Ticket_248746, Ticket_248744, Ticket_SC/AH 29037, Ticket_C.A. 31030, Ticket_330924, Ticket_19924, Ticket_28034, Ticket_330920, Ticket_363611, Ticket_S.O.C. 14879, Ticket_C.A. 33595, Ticket_370374, Ticket_370371, Ticket_CA. 2343, Ticket_364498, Cabin_A9, Ticket_228414, Ticket_368573, Cabin_C55 C57, Ticket_349211, Ticket_347471, Ticket_345498, Ticket_PC 17613, Ticket_SC/PARIS 2168, Ticket_350045, Ticket_SC/PARIS 2166, Ticket_SC/PARIS 2167, Ticket_237789, Ticket_365235, Ticket_365237, Ticket_7935, Ticket_17475, Cabin_C28, Ticket_240276, Ticket_17770, Cabin_C130, Cabin_C132, Ticket_13050, Ticket_C.A. 34050, Ticket_PC 17483, Ticket_C.A. 34644, Ticket_244360, Ticket_244368, Ticket_368783, Ticket_C.A. 49867, Cabin_C97, Ticket_32302, Ticket_C 4001, Ticket_343271, Ticket_235509, Ticket_330971, Ticket_330972, Ticket_C.A. 2315, Ticket_1601, Ticket_2926, Ticket_680, Ticket_STON/OQ. 369943, Ticket_4133, Ticket_383162, Ticket_C 17368, Ticket_110489, Ticket_C.A. 37671, Ticket_PC 17531, Ticket_110469, Ticket_21332, Ticket_A/4 31416, Ticket_S.O./P.P. 2, Ticket_C.A. 2673, Ticket_A.5. 3236, Ticket_330844, Ticket_366713, Ticket_113791, Ticket_113790, Ticket_113795, Ticket_113796, Ticket_AQ/3. 30631, Ticket_2675, Ticket_F.C.C. 13540, Ticket_2676, Ticket_2670, Ticket_2673, Ticket_2679, Ticket_2678, Ticket_359309, Cabin_B10, Cabin_B11, Ticket_STON/O 2. 3101291, Ticket_347469, Ticket_C.A. 34651, Ticket_LP 1588, Ticket_3101298, Cabin_E39 E41, Ticket_3101295, Ticket_3101297, Ticket_2653, Ticket_2682, Ticket_C.A. 31029, Ticket_113038, Ticket_36568, Ticket_350409, Ticket_236853, Ticket_236854, Ticket_383123, Ticket_342684, Ticket_A./5. 3338, Ticket_13508, Ticket_334914, Ticket_334915, Ticket_SC/A.3 2861, Ticket_368364, Ticket_233734, Ticket_368402, Ticket_CA 2144, Ticket_A/5. 851, Ticket_349202, Ticket_C.A. 33112, Ticket_347465, Ticket_347467, Ticket_11778, Ticket_11770, Ticket_345768, Ticket_237216, Ticket_345763, Ticket_SC/AH 3085, Ticket_342441",
     "output_type": "error",
     "traceback": [
      "\u001b[0;31m---------------------------------------------------------------------------\u001b[0m",
      "\u001b[0;31mValueError\u001b[0m                                Traceback (most recent call last)",
      "\u001b[0;32m<ipython-input-36-0f81126b626c>\u001b[0m in \u001b[0;36m<module>\u001b[0;34m()\u001b[0m\n\u001b[1;32m      1\u001b[0m \u001b[0mloaded_model\u001b[0m \u001b[0;34m=\u001b[0m \u001b[0mpickle\u001b[0m\u001b[0;34m.\u001b[0m\u001b[0mload\u001b[0m\u001b[0;34m(\u001b[0m\u001b[0mopen\u001b[0m\u001b[0;34m(\u001b[0m\u001b[0mmodel_ver\u001b[0m\u001b[0;34m,\u001b[0m \u001b[0;34m'rb'\u001b[0m\u001b[0;34m)\u001b[0m\u001b[0;34m)\u001b[0m\u001b[0;34m\u001b[0m\u001b[0m\n\u001b[0;32m----> 2\u001b[0;31m \u001b[0mloaded_model\u001b[0m\u001b[0;34m.\u001b[0m\u001b[0mpredict\u001b[0m\u001b[0;34m(\u001b[0m\u001b[0mtest\u001b[0m\u001b[0;34m)\u001b[0m\u001b[0;34m\u001b[0m\u001b[0m\n\u001b[0m",
      "\u001b[0;32m/Users/theerit/anaconda/envs/ipykernel_py2/lib/python2.7/site-packages/xgboost/sklearn.pyc\u001b[0m in \u001b[0;36mpredict\u001b[0;34m(self, data, output_margin, ntree_limit)\u001b[0m\n\u001b[1;32m    463\u001b[0m         class_probs = self.booster().predict(test_dmatrix,\n\u001b[1;32m    464\u001b[0m                                              \u001b[0moutput_margin\u001b[0m\u001b[0;34m=\u001b[0m\u001b[0moutput_margin\u001b[0m\u001b[0;34m,\u001b[0m\u001b[0;34m\u001b[0m\u001b[0m\n\u001b[0;32m--> 465\u001b[0;31m                                              ntree_limit=ntree_limit)\n\u001b[0m\u001b[1;32m    466\u001b[0m         \u001b[0;32mif\u001b[0m \u001b[0mlen\u001b[0m\u001b[0;34m(\u001b[0m\u001b[0mclass_probs\u001b[0m\u001b[0;34m.\u001b[0m\u001b[0mshape\u001b[0m\u001b[0;34m)\u001b[0m \u001b[0;34m>\u001b[0m \u001b[0;36m1\u001b[0m\u001b[0;34m:\u001b[0m\u001b[0;34m\u001b[0m\u001b[0m\n\u001b[1;32m    467\u001b[0m             \u001b[0mcolumn_indexes\u001b[0m \u001b[0;34m=\u001b[0m \u001b[0mnp\u001b[0m\u001b[0;34m.\u001b[0m\u001b[0margmax\u001b[0m\u001b[0;34m(\u001b[0m\u001b[0mclass_probs\u001b[0m\u001b[0;34m,\u001b[0m \u001b[0maxis\u001b[0m\u001b[0;34m=\u001b[0m\u001b[0;36m1\u001b[0m\u001b[0;34m)\u001b[0m\u001b[0;34m\u001b[0m\u001b[0m\n",
      "\u001b[0;32m/Users/theerit/anaconda/envs/ipykernel_py2/lib/python2.7/site-packages/xgboost/core.pyc\u001b[0m in \u001b[0;36mpredict\u001b[0;34m(self, data, output_margin, ntree_limit, pred_leaf)\u001b[0m\n\u001b[1;32m    937\u001b[0m             \u001b[0moption_mask\u001b[0m \u001b[0;34m|=\u001b[0m \u001b[0;36m0x02\u001b[0m\u001b[0;34m\u001b[0m\u001b[0m\n\u001b[1;32m    938\u001b[0m \u001b[0;34m\u001b[0m\u001b[0m\n\u001b[0;32m--> 939\u001b[0;31m         \u001b[0mself\u001b[0m\u001b[0;34m.\u001b[0m\u001b[0m_validate_features\u001b[0m\u001b[0;34m(\u001b[0m\u001b[0mdata\u001b[0m\u001b[0;34m)\u001b[0m\u001b[0;34m\u001b[0m\u001b[0m\n\u001b[0m\u001b[1;32m    940\u001b[0m \u001b[0;34m\u001b[0m\u001b[0m\n\u001b[1;32m    941\u001b[0m         \u001b[0mlength\u001b[0m \u001b[0;34m=\u001b[0m \u001b[0mctypes\u001b[0m\u001b[0;34m.\u001b[0m\u001b[0mc_ulong\u001b[0m\u001b[0;34m(\u001b[0m\u001b[0;34m)\u001b[0m\u001b[0;34m\u001b[0m\u001b[0m\n",
      "\u001b[0;32m/Users/theerit/anaconda/envs/ipykernel_py2/lib/python2.7/site-packages/xgboost/core.pyc\u001b[0m in \u001b[0;36m_validate_features\u001b[0;34m(self, data)\u001b[0m\n\u001b[1;32m   1177\u001b[0m \u001b[0;34m\u001b[0m\u001b[0m\n\u001b[1;32m   1178\u001b[0m                 raise ValueError(msg.format(self.feature_names,\n\u001b[0;32m-> 1179\u001b[0;31m                                             data.feature_names))\n\u001b[0m\u001b[1;32m   1180\u001b[0m \u001b[0;34m\u001b[0m\u001b[0m\n\u001b[1;32m   1181\u001b[0m     \u001b[0;32mdef\u001b[0m \u001b[0mget_split_value_histogram\u001b[0m\u001b[0;34m(\u001b[0m\u001b[0mself\u001b[0m\u001b[0;34m,\u001b[0m \u001b[0mfeature\u001b[0m\u001b[0;34m,\u001b[0m \u001b[0mfmap\u001b[0m\u001b[0;34m=\u001b[0m\u001b[0;34m''\u001b[0m\u001b[0;34m,\u001b[0m \u001b[0mbins\u001b[0m\u001b[0;34m=\u001b[0m\u001b[0mNone\u001b[0m\u001b[0;34m,\u001b[0m \u001b[0mas_pandas\u001b[0m\u001b[0;34m=\u001b[0m\u001b[0mTrue\u001b[0m\u001b[0;34m)\u001b[0m\u001b[0;34m:\u001b[0m\u001b[0;34m\u001b[0m\u001b[0m\n",
      "\u001b[0;31mValueError\u001b[0m: feature_names mismatch: [u'Age', u'Fare', u'Parch', u'SibSp', u'Cabin_A10', u'Cabin_A16', u'Cabin_A20', u'Cabin_A23', u'Cabin_A24', u'Cabin_A26', u'Cabin_A31', u'Cabin_A34', u'Cabin_A36', u'Cabin_A5', u'Cabin_A6', u'Cabin_A7', u'Cabin_B101', u'Cabin_B18', u'Cabin_B19', u'Cabin_B20', u'Cabin_B22', u'Cabin_B3', u'Cabin_B30', u'Cabin_B35', u'Cabin_B37', u'Cabin_B38', u'Cabin_B39', u'Cabin_B4', u'Cabin_B41', u'Cabin_B42', u'Cabin_B49', u'Cabin_B5', u'Cabin_B50', u'Cabin_B51 B53 B55', u'Cabin_B57 B59 B63 B66', u'Cabin_B58 B60', u'Cabin_B69', u'Cabin_B71', u'Cabin_B73', u'Cabin_B77', u'Cabin_B79', u'Cabin_B80', u'Cabin_B82 B84', u'Cabin_B86', u'Cabin_B94', u'Cabin_B96 B98', u'Cabin_C101', u'Cabin_C103', u'Cabin_C104', u'Cabin_C110', u'Cabin_C111', u'Cabin_C118', u'Cabin_C123', u'Cabin_C124', u'Cabin_C125', u'Cabin_C126', u'Cabin_C148', u'Cabin_C2', u'Cabin_C22 C26', u'Cabin_C23 C25 C27', u'Cabin_C30', u'Cabin_C32', u'Cabin_C45', u'Cabin_C46', u'Cabin_C49', u'Cabin_C50', u'Cabin_C52', u'Cabin_C54', u'Cabin_C62 C64', u'Cabin_C65', u'Cabin_C68', u'Cabin_C7', u'Cabin_C70', u'Cabin_C78', u'Cabin_C82', u'Cabin_C83', u'Cabin_C85', u'Cabin_C86', u'Cabin_C87', u'Cabin_C90', u'Cabin_C91', u'Cabin_C92', u'Cabin_C93', u'Cabin_C99', u'Cabin_D', u'Cabin_D10 D12', u'Cabin_D11', u'Cabin_D15', u'Cabin_D17', u'Cabin_D19', u'Cabin_D20', u'Cabin_D26', u'Cabin_D28', u'Cabin_D30', u'Cabin_D33', u'Cabin_D35', u'Cabin_D36', u'Cabin_D37', u'Cabin_D46', u'Cabin_D47', u'Cabin_D48', u'Cabin_D49', u'Cabin_D50', u'Cabin_D56', u'Cabin_D6', u'Cabin_D7', u'Cabin_D9', u'Cabin_E10', u'Cabin_E101', u'Cabin_E12', u'Cabin_E121', u'Cabin_E17', u'Cabin_E24', u'Cabin_E25', u'Cabin_E31', u'Cabin_E33', u'Cabin_E34', u'Cabin_E36', u'Cabin_E38', u'Cabin_E40', u'Cabin_E44', u'Cabin_E46', u'Cabin_E49', u'Cabin_E50', u'Cabin_E58', u'Cabin_E63', u'Cabin_E67', u'Cabin_E68', u'Cabin_E77', u'Cabin_E8', u'Cabin_F G63', u'Cabin_F G73', u'Cabin_F2', u'Cabin_F33', u'Cabin_F4', u'Cabin_G6', u'Cabin_T', u'Embarked_C', u'Embarked_Q', u'Embarked_S', u'Name_Allen, Miss. Elisabeth Walton', u'Name_Allison, Master. Hudson Trevor', u'Name_Allison, Miss. Helen Loraine', u'Name_Allison, Mrs. Hudson J C (Bessie Waldo Daniels)', u'Name_Anderson, Mr. Harry', u'Name_Andrews, Miss. Kornelia Theodosia', u'Name_Andrews, Mr. Thomas Jr', u'Name_Appleton, Mrs. Edward Dale (Charlotte Lamson)', u'Name_Astor, Mrs. John Jacob (Madeleine Talmadge Force)', u'Name_Aubart, Mme. Leontine Pauline', u'Name_Ball, Mrs. (Ada E Hall)', u'Name_Barkworth, Mr. Algernon Henry Wilson', u'Name_Baxter, Mr. Quigg Edmond', u'Name_Baxter, Mrs. James (Helene DeLaudeniere Chaput)', u'Name_Bazzani, Miss. Albina', u'Name_Becker, Master. Richard F', u'Name_Becker, Miss. Marion Louise', u'Name_Beckwith, Mr. Richard Leonard', u'Name_Beckwith, Mrs. Richard Leonard (Sallie Monypeny)', u'Name_Beesley, Mr. Lawrence', u'Name_Behr, Mr. Karl Howell', u'Name_Bishop, Mr. Dickinson H', u'Name_Bishop, Mrs. Dickinson H (Helen Walton)', u'Name_Bissette, Miss. Amelia', u'Name_Bjornstrom-Steffansson, Mr. Mauritz Hakan', u'Name_Blackwell, Mr. Stephen Weart', u'Name_Blank, Mr. Henry', u'Name_Bonnell, Miss. Elizabeth', u'Name_Bowerman, Miss. Elsie Edith', u'Name_Brown, Miss. Amelia \"Mildred\"', u'Name_Brown, Mrs. James Joseph (Margaret Tobin)', u'Name_Burns, Miss. Elizabeth Margaret', u'Name_Butt, Major. Archibald Willingham', u'Name_Calderhead, Mr. Edward Pennington', u'Name_Cardeza, Mr. Thomas Drake Martinez', u'Name_Carlsson, Mr. Frans Olof', u'Name_Carter, Master. William Thornton II', u'Name_Carter, Miss. Lucile Polk', u'Name_Carter, Mr. William Ernest', u'Name_Carter, Mrs. William Ernest (Lucile Polk)', u'Name_Cavendish, Mr. Tyrell William', u'Name_Chaffee, Mr. Herbert Fuller', u'Name_Chambers, Mr. Norman Campbell', u'Name_Chambers, Mrs. Norman Campbell (Bertha Griggs)', u'Name_Cherry, Miss. Gladys', u'Name_Colley, Mr. Edward Pomeroy', u'Name_Compton, Miss. Sara Rebecca', u'Name_Crosby, Capt. Edward Gifford', u'Name_Crosby, Miss. Harriet R', u'Name_Cumings, Mrs. John Bradley (Florence Briggs Thayer)', u'Name_Daly, Mr. Peter Denis ', u'Name_Davidson, Mr. Thornton', u'Name_Dick, Mr. Albert Adrian', u'Name_Dick, Mrs. Albert Adrian (Vera Gillespie)', u'Name_Dodge, Master. Washington', u'Name_Douglas, Mr. Walter Donald', u'Name_Duff Gordon, Lady. (Lucille Christiana Sutherland) (\"Mrs Morgan\")', u'Name_Duff Gordon, Sir. Cosmo Edmund (\"Mr Morgan\")', u'Name_Endres, Miss. Caroline Louise', u'Name_Eustis, Miss. Elizabeth Mussey', u'Name_Flynn, Mr. John Irwin (\"Irving\")', u'Name_Foreman, Mr. Benjamin Laventall', u'Name_Fortune, Miss. Alice Elizabeth', u'Name_Fortune, Miss. Mabel Helen', u'Name_Fortune, Mr. Charles Alexander', u'Name_Fortune, Mr. Mark', u'Name_Francatelli, Miss. Laura Mabel', u'Name_Frolicher, Miss. Hedwig Margaritha', u'Name_Frolicher-Stehli, Mr. Maxmillian', u'Name_Futrelle, Mr. Jacques Heath', u'Name_Futrelle, Mrs. Jacques Heath (Lily May Peel)', u'Name_Gee, Mr. Arthur H', u'Name_Giglio, Mr. Victor', u'Name_Goldenberg, Mr. Samuel L', u'Name_Goldschmidt, Mr. George B', u'Name_Graham, Miss. Margaret Edith', u'Name_Graham, Mr. George Edward', u'Name_Graham, Mrs. William Thompson (Edith Junkins)', u'Name_Greenfield, Mr. William Bertram', u'Name_Guggenheim, Mr. Benjamin', u'Name_Harder, Mr. George Achilles', u'Name_Harper, Mr. Henry Sleeper', u'Name_Harper, Mrs. Henry Sleeper (Myna Haxtun)', u'Name_Harris, Mr. Henry Birkhardt', u'Name_Harris, Mrs. Henry Birkhardt (Irene Wallach)', u'Name_Harrison, Mr. William', u'Name_Hassab, Mr. Hammad', u'Name_Hays, Miss. Margaret Bechstein', u'Name_Hays, Mrs. Charles Melville (Clara Jennings Gregg)', u'Name_Hippach, Miss. Jean Gertrude', u'Name_Hippach, Mrs. Louis Albert (Ida Sophia Fischer)', u'Name_Hogeboom, Mrs. John C (Anna Andrews)', u'Name_Hoyt, Mr. Frederick Maxfield', u'Name_Hoyt, Mrs. Frederick Maxfield (Jane Anne Forby)', u'Name_Humblen, Mr. Adolf Mathias Nicolai Olsen', u'Name_Isham, Miss. Ann Elizabeth', u'Name_Jerwan, Mrs. Amin S (Marie Marthe Thuillard)', u'Name_Kent, Mr. Edward Austin', u'Name_Kimball, Mr. Edwin Nelson Jr', u'Name_Leader, Dr. Alice (Farnham)', u'Name_Lemore, Mrs. (Amelia Milley)', u'Name_Lesurer, Mr. Gustave J', u'Name_Levy, Mr. Rene Jacques', u'Name_Lines, Miss. Mary Conover', u'Name_Long, Mr. Milton Clyde', u'Name_Longley, Miss. Gretchen Fiske', u'Name_Lurette, Miss. Elise', u'Name_Mack, Mrs. (Mary)', u'Name_Madill, Miss. Georgette Alexandra', u'Name_Maioni, Miss. Roberta', u'Name_Marvin, Mr. Daniel Warner', u'Name_Mayne, Mlle. Berthe Antonine (\"Mrs de Villiers\")', u'Name_McCarthy, Mr. Timothy J', u'Name_McGough, Mr. James Robert', u'Name_Millet, Mr. Francis Davis', u'Name_Minahan, Dr. William Edward', u'Name_Minahan, Miss. Daisy E', u'Name_Moen, Mr. Sigurd Hansen', u'Name_Molson, Mr. Harry Markland', u'Name_Moor, Master. Meier', u'Name_Moor, Mrs. (Beila)', u'Name_Natsch, Mr. Charles H', u'Name_Navratil, Master. Edmond Roger', u'Name_Navratil, Master. Michel M', u'Name_Navratil, Mr. Michel (\"Louis M Hoffman\")', u'Name_Newell, Miss. Madeleine', u'Name_Newell, Miss. Marjorie', u'Name_Newell, Mr. Arthur Webster', u'Name_Newsom, Miss. Helen Monypeny', u'Name_Nye, Mrs. (Elizabeth Ramell)', u'Name_Ostby, Mr. Engelhart Cornelius', u'Name_Partner, Mr. Austen', u'Name_Pears, Mr. Thomas Clinton', u'Name_Pears, Mrs. Thomas (Edith Wearne)', u'Name_Penasco y Castellana, Mr. Victor de Satode', u'Name_Penasco y Castellana, Mrs. Victor de Satode (Maria Josefa Perez de Soto y Vallejo)', u'Name_Perreault, Miss. Anne', u'Name_Peuchen, Major. Arthur Godfrey', u'Name_Pickard, Mr. Berk (Berk Trembisky)', u'Name_Porter, Mr. Walter Chamberlain', u'Name_Potter, Mrs. Thomas Jr (Lily Alexenia Wilson)', u'Name_Robert, Mrs. Edward Scott (Elisabeth Walton McMillan)', u'Name_Roebling, Mr. Washington Augustus II', u'Name_Ross, Mr. John Hugo', u'Name_Rothes, the Countess. of (Lucy Noel Martha Dyer-Edwards)', u'Name_Ryerson, Miss. Emily Borie', u'Name_Ryerson, Miss. Susan Parker \"Suzette\"', u'Name_Sagesser, Mlle. Emma', u'Name_Sandstrom, Miss. Marguerite Rut', u'Name_Sandstrom, Mrs. Hjalmar (Agnes Charlotta Bengtsson)', u'Name_Shutes, Miss. Elizabeth W', u'Name_Silverthorne, Mr. Spencer Victor', u'Name_Silvey, Mr. William Baird', u'Name_Silvey, Mrs. William Baird (Alice Munger)', u'Name_Simonius-Blumer, Col. Oberst Alfons', u'Name_Sloper, Mr. William Thompson', u'Name_Smith, Mr. James Clinch', u'Name_Soholt, Mr. Peter Andreas Lauritz Andersen', u'Name_Spedden, Mrs. Frederic Oakley (Margaretta Corning Stone)', u'Name_Stahelin-Maeglin, Dr. Max', u'Name_Stead, Mr. William Thomas', u'Name_Stephenson, Mrs. Walter Bertram (Martha Eustis)', u'Name_Strom, Miss. Telma Matilda', u'Name_Strom, Mrs. Wilhelm (Elna Matilda Persson)', u'Name_Sutton, Mr. Frederick', u'Name_Swift, Mrs. Frederick Joel (Margaret Welles Barron)', u'Name_Taussig, Miss. Ruth', u'Name_Taussig, Mr. Emil', u'Name_Taussig, Mrs. Emil (Tillie Mandelbaum)', u'Name_Taylor, Mr. Elmer Zebley', u'Name_Thayer, Mr. John Borland', u'Name_Thayer, Mr. John Borland Jr', u'Name_Thayer, Mrs. John Borland (Marian Longstreth Morris)', u'Name_Troutt, Miss. Edwina Celia \"Winnie\"', u'Name_Van der hoef, Mr. Wyckoff', u'Name_Walker, Mr. William Anderson', u'Name_Warren, Mrs. Frank Manley (Anna Sophia Atkinson)', u'Name_Webber, Miss. Susan', u'Name_White, Mr. Percival Wayland', u'Name_White, Mr. Richard Frasar', u'Name_Wick, Miss. Mary Natalie', u'Name_Widener, Mr. Harry Elkins', u'Name_Young, Miss. Marie Grice', u'Pclass_1', u'Pclass_2', u'Pclass_3', u'Sex_female', u'Sex_male', u'Ticket_110152', u'Ticket_110413', u'Ticket_110465', u'Ticket_110564', u'Ticket_110813', u'Ticket_111240', u'Ticket_111320', u'Ticket_111361', u'Ticket_111369', u'Ticket_112050', u'Ticket_112053', u'Ticket_112059', u'Ticket_112277', u'Ticket_113043', u'Ticket_113050', u'Ticket_113051', u'Ticket_113055', u'Ticket_113501', u'Ticket_113503', u'Ticket_113505', u'Ticket_113509', u'Ticket_113514', u'Ticket_113760', u'Ticket_113773', u'Ticket_113776', u'Ticket_113781', u'Ticket_113783', u'Ticket_113784', u'Ticket_113786', u'Ticket_113787', u'Ticket_113788', u'Ticket_113803', u'Ticket_113806', u'Ticket_11751', u'Ticket_11752', u'Ticket_11753', u'Ticket_11755', u'Ticket_11765', u'Ticket_11767', u'Ticket_11769', u'Ticket_11771', u'Ticket_11813', u'Ticket_11967', u'Ticket_12749', u'Ticket_13049', u'Ticket_13213', u'Ticket_13214', u'Ticket_13502', u'Ticket_13507', u'Ticket_13509', u'Ticket_13567', u'Ticket_13568', u'Ticket_16966', u'Ticket_17421', u'Ticket_17453', u'Ticket_17463', u'Ticket_17465', u'Ticket_17466', u'Ticket_17474', u'Ticket_17764', u'Ticket_19877', u'Ticket_19928', u'Ticket_19943', u'Ticket_19950', u'Ticket_19952', u'Ticket_19996', u'Ticket_230080', u'Ticket_230136', u'Ticket_24160', u'Ticket_248698', u'Ticket_248733', u'Ticket_27042', u'Ticket_27267', u'Ticket_28551', u'Ticket_33638', u'Ticket_34218', u'Ticket_347054', u'Ticket_348121', u'Ticket_348123', u'Ticket_348124', u'Ticket_35273', u'Ticket_35281', u'Ticket_36928', u'Ticket_36947', u'Ticket_36963', u'Ticket_36967', u'Ticket_36973', u'Ticket_392096', u'Ticket_5727', u'Ticket_695', u'Ticket_C.A. 29395', u'Ticket_C.A. 34260', u'Ticket_F.C. 12750', u'Ticket_PC 17473', u'Ticket_PC 17474', u'Ticket_PC 17475', u'Ticket_PC 17476', u'Ticket_PC 17477', u'Ticket_PC 17482', u'Ticket_PC 17485', u'Ticket_PC 17558', u'Ticket_PC 17569', u'Ticket_PC 17572', u'Ticket_PC 17582', u'Ticket_PC 17590', u'Ticket_PC 17592', u'Ticket_PC 17593', u'Ticket_PC 17595', u'Ticket_PC 17596', u'Ticket_PC 17599', u'Ticket_PC 17608', u'Ticket_PC 17610', u'Ticket_PC 17754', u'Ticket_PC 17755', u'Ticket_PC 17756', u'Ticket_PC 17757', u'Ticket_PC 17758', u'Ticket_PC 17759', u'Ticket_PC 17760', u'Ticket_PC 17761', u'Ticket_PP 9549', u'Ticket_S.O./P.P. 3', u'Ticket_SC/AH Basle 541', u'Ticket_SC/Paris 2163', u'Ticket_SOTON/O.Q. 392078', u'Ticket_W.E.P. 5734', u'Ticket_WE/P 5735'] [u'Age', u'SibSp', u'Parch', u'Fare', u'Pclass_1', u'Pclass_2', u'Pclass_3', u'Sex_female', u'Sex_male', u'Ticket_110469', u'Ticket_110489', u'Ticket_110813', u'Ticket_111163', u'Ticket_112051', u'Ticket_112058', u'Ticket_112377', u'Ticket_112378', u'Ticket_112901', u'Ticket_113038', u'Ticket_113044', u'Ticket_113054', u'Ticket_113059', u'Ticket_113503', u'Ticket_113509', u'Ticket_113773', u'Ticket_113778', u'Ticket_113780', u'Ticket_113781', u'Ticket_113790', u'Ticket_113791', u'Ticket_113795', u'Ticket_113796', u'Ticket_113801', u'Ticket_11753', u'Ticket_11765', u'Ticket_11767', u'Ticket_11769', u'Ticket_11770', u'Ticket_11778', u'Ticket_11813', u'Ticket_1222', u'Ticket_12749', u'Ticket_13050', u'Ticket_13236', u'Ticket_13508', u'Ticket_13567', u'Ticket_13695', u'Ticket_13905', u'Ticket_1601', u'Ticket_16966', u'Ticket_17463', u'Ticket_17464', u'Ticket_17475', u'Ticket_17765', u'Ticket_17770', u'Ticket_19877', u'Ticket_19924', u'Ticket_19928', u'Ticket_19950', u'Ticket_2003', u'Ticket_211535', u'Ticket_21228', u'Ticket_21332', u'Ticket_220844', u'Ticket_220845', u'Ticket_226875', u'Ticket_228414', u'Ticket_230136', u'Ticket_233478', u'Ticket_233734', u'Ticket_235509', u'Ticket_236853', u'Ticket_236854', u'Ticket_237216', u'Ticket_237249', u'Ticket_237393', u'Ticket_237670', u'Ticket_237734', u'Ticket_237735', u'Ticket_237789', u'Ticket_239059', u'Ticket_240261', u'Ticket_240276', u'Ticket_24065', u'Ticket_24160', u'Ticket_242963', u'Ticket_244346', u'Ticket_244358', u'Ticket_244360', u'Ticket_244368', u'Ticket_248659', u'Ticket_248726', u'Ticket_248734', u'Ticket_248738', u'Ticket_248744', u'Ticket_248746', u'Ticket_250650', u'Ticket_250651', u'Ticket_2543', u'Ticket_2621', u'Ticket_2622', u'Ticket_2625', u'Ticket_26360', u'Ticket_2650', u'Ticket_2652', u'Ticket_2653', u'Ticket_2654', u'Ticket_2655', u'Ticket_2656', u'Ticket_2657', u'Ticket_2658', u'Ticket_2660', u'Ticket_2661', u'Ticket_2662', u'Ticket_2668', u'Ticket_2670', u'Ticket_26707', u'Ticket_2673', u'Ticket_2675', u'Ticket_2676', u'Ticket_2678', u'Ticket_2679', u'Ticket_2680', u'Ticket_2681', u'Ticket_2682', u'Ticket_2684', u'Ticket_2688', u'Ticket_2689', u'Ticket_2692', u'Ticket_2696', u'Ticket_2698', u'Ticket_28004', u'Ticket_28034', u'Ticket_28133', u'Ticket_28220', u'Ticket_28221', u'Ticket_28404', u'Ticket_28664', u'Ticket_28666', u'Ticket_29103', u'Ticket_29105', u'Ticket_29107', u'Ticket_2926', u'Ticket_29750', u'Ticket_3101266', u'Ticket_3101295', u'Ticket_3101297', u'Ticket_3101298', u'Ticket_315083', u'Ticket_315085', u'Ticket_315087', u'Ticket_315091', u'Ticket_315092', u'Ticket_315095', u'Ticket_315152', u'Ticket_315153', u'Ticket_315154', u'Ticket_32302', u'Ticket_329944', u'Ticket_330844', u'Ticket_330910', u'Ticket_330911', u'Ticket_330920', u'Ticket_330924', u'Ticket_330963', u'Ticket_330968', u'Ticket_330971', u'Ticket_330972', u'Ticket_334914', u'Ticket_334915', u'Ticket_335432', u'Ticket_33638', u'Ticket_3410', u'Ticket_342441', u'Ticket_342684', u'Ticket_342712', u'Ticket_343271', u'Ticket_345498', u'Ticket_345501', u'Ticket_345572', u'Ticket_345763', u'Ticket_345768', u'Ticket_345771', u'Ticket_345775', u'Ticket_3470', u'Ticket_347065', u'Ticket_347066', u'Ticket_347070', u'Ticket_347072', u'Ticket_347075', u'Ticket_347077', u'Ticket_347079', u'Ticket_347080', u'Ticket_347086', u'Ticket_347090', u'Ticket_347091', u'Ticket_347465', u'Ticket_347467', u'Ticket_347469', u'Ticket_347471', u'Ticket_348122', u'Ticket_348125', u'Ticket_349202', u'Ticket_349211', u'Ticket_349220', u'Ticket_349226', u'Ticket_349229', u'Ticket_349230', u'Ticket_349232', u'Ticket_349235', u'Ticket_349238', u'Ticket_349250', u'Ticket_349255', u'Ticket_349256', u'Ticket_349909', u'Ticket_349910', u'Ticket_349911', u'Ticket_350026', u'Ticket_350033', u'Ticket_350045', u'Ticket_350053', u'Ticket_350054', u'Ticket_350403', u'Ticket_350405', u'Ticket_350408', u'Ticket_350409', u'Ticket_350410', u'Ticket_350416', u'Ticket_359306', u'Ticket_359309', u'Ticket_363272', u'Ticket_363611', u'Ticket_364498', u'Ticket_364856', u'Ticket_364858', u'Ticket_364859', u'Ticket_365235', u'Ticket_365237', u'Ticket_36568', u'Ticket_366713', u'Ticket_367226', u'Ticket_367227', u'Ticket_368364', u'Ticket_368402', u'Ticket_368573', u'Ticket_368702', u'Ticket_368783', u'Ticket_36928', u'Ticket_3701', u'Ticket_370129', u'Ticket_370368', u'Ticket_370371', u'Ticket_370374', u'Ticket_371109', u'Ticket_371362', u'Ticket_376563', u'Ticket_376566', u'Ticket_382650', u'Ticket_382652', u'Ticket_382653', u'Ticket_383123', u'Ticket_383162', u'Ticket_386525', u'Ticket_392091', u'Ticket_392095', u'Ticket_4133', u'Ticket_65305', u'Ticket_680', u'Ticket_694', u'Ticket_7266', u'Ticket_7538', u'Ticket_7548', u'Ticket_7935', u'Ticket_9232', u'Ticket_A. 2. 39186', u'Ticket_A./5. 3338', u'Ticket_A.5. 3236', u'Ticket_A/4 31416', u'Ticket_A/4 48871', u'Ticket_A/4 48873', u'Ticket_A/5 1478', u'Ticket_A/5 21175', u'Ticket_A/5. 3337', u'Ticket_A/5. 851', u'Ticket_AQ/3. 30631', u'Ticket_AQ/4 3130', u'Ticket_C 17368', u'Ticket_C 4001', u'Ticket_C.A. 15185', u'Ticket_C.A. 2315', u'Ticket_C.A. 2673', u'Ticket_C.A. 30769', u'Ticket_C.A. 31029', u'Ticket_C.A. 31030', u'Ticket_C.A. 33112', u'Ticket_C.A. 33595', u'Ticket_C.A. 34050', u'Ticket_C.A. 34644', u'Ticket_C.A. 34651', u'Ticket_C.A. 37671', u'Ticket_C.A. 42795', u'Ticket_C.A. 49867', u'Ticket_C.A. 6212', u'Ticket_CA 2144', u'Ticket_CA 31352', u'Ticket_CA. 2343', u'Ticket_F.C. 12750', u'Ticket_F.C. 12998', u'Ticket_F.C.C. 13528', u'Ticket_F.C.C. 13534', u'Ticket_F.C.C. 13540', u'Ticket_LP 1588', u'Ticket_PC 17483', u'Ticket_PC 17531', u'Ticket_PC 17558', u'Ticket_PC 17562', u'Ticket_PC 17569', u'Ticket_PC 17580', u'Ticket_PC 17585', u'Ticket_PC 17591', u'Ticket_PC 17592', u'Ticket_PC 17594', u'Ticket_PC 17597', u'Ticket_PC 17598', u'Ticket_PC 17599', u'Ticket_PC 17603', u'Ticket_PC 17606', u'Ticket_PC 17607', u'Ticket_PC 17608', u'Ticket_PC 17613', u'Ticket_PC 17755', u'Ticket_PC 17756', u'Ticket_PC 17757', u'Ticket_PC 17758', u'Ticket_PC 17759', u'Ticket_PC 17760', u'Ticket_PC 17761', u'Ticket_PP 9549', u'Ticket_S.C./PARIS 2079', u'Ticket_S.O./P.P. 2', u'Ticket_S.O./P.P. 251', u'Ticket_S.O./P.P. 752', u'Ticket_S.O.C. 14879', u'Ticket_SC 14888', u'Ticket_SC/A.3 2861', u'Ticket_SC/A4 23568', u'Ticket_SC/AH 29037', u'Ticket_SC/AH 3085', u'Ticket_SC/PARIS 2147', u'Ticket_SC/PARIS 2148', u'Ticket_SC/PARIS 2159', u'Ticket_SC/PARIS 2166', u'Ticket_SC/PARIS 2167', u'Ticket_SC/PARIS 2168', u'Ticket_SC/Paris 2123', u'Ticket_SOTON/O.Q. 3101262', u'Ticket_SOTON/O.Q. 3101263', u'Ticket_SOTON/O.Q. 3101308', u'Ticket_SOTON/O.Q. 3101309', u'Ticket_SOTON/O.Q. 3101314', u'Ticket_SOTON/O.Q. 3101315', u'Ticket_SOTON/O2 3101284', u'Ticket_SOTON/OQ 392083', u'Ticket_STON/O 2. 3101268', u'Ticket_STON/O 2. 3101291', u'Ticket_STON/O2. 3101270', u'Ticket_STON/OQ. 369943', u'Ticket_W./C. 14260', u'Ticket_W./C. 14266', u'Ticket_W./C. 6607', u'Ticket_W./C. 6608', u'Ticket_W.E.P. 5734', u'Cabin_A11', u'Cabin_A18', u'Cabin_A21', u'Cabin_A29', u'Cabin_A34', u'Cabin_A9', u'Cabin_B10', u'Cabin_B11', u'Cabin_B24', u'Cabin_B26', u'Cabin_B36', u'Cabin_B41', u'Cabin_B45', u'Cabin_B51 B53 B55', u'Cabin_B52 B54 B56', u'Cabin_B57 B59 B63 B66', u'Cabin_B58 B60', u'Cabin_B61', u'Cabin_B69', u'Cabin_B71', u'Cabin_B78', u'Cabin_C101', u'Cabin_C105', u'Cabin_C106', u'Cabin_C116', u'Cabin_C130', u'Cabin_C132', u'Cabin_C22 C26', u'Cabin_C23 C25 C27', u'Cabin_C28', u'Cabin_C31', u'Cabin_C32', u'Cabin_C39', u'Cabin_C46', u'Cabin_C51', u'Cabin_C53', u'Cabin_C54', u'Cabin_C55 C57', u'Cabin_C6', u'Cabin_C62 C64', u'Cabin_C7', u'Cabin_C78', u'Cabin_C80', u'Cabin_C85', u'Cabin_C86', u'Cabin_C89', u'Cabin_C97', u'Cabin_D', u'Cabin_D10 D12', u'Cabin_D15', u'Cabin_D19', u'Cabin_D21', u'Cabin_D22', u'Cabin_D28', u'Cabin_D30', u'Cabin_D34', u'Cabin_D37', u'Cabin_D38', u'Cabin_D40', u'Cabin_D43', u'Cabin_E31', u'Cabin_E34', u'Cabin_E39 E41', u'Cabin_E45', u'Cabin_E46', u'Cabin_E50', u'Cabin_E52', u'Cabin_E60', u'Cabin_F', u'Cabin_F E46', u'Cabin_F E57', u'Cabin_F G63', u'Cabin_F2', u'Cabin_F33', u'Cabin_F4', u'Cabin_G6', u'Embarked_C', u'Embarked_Q', u'Embarked_S']\nexpected Cabin_E68, Cabin_D47, Cabin_D46, Cabin_D49, Cabin_D48, Cabin_E67, Name_Blackwell, Mr. Stephen Weart, Ticket_PC 17590, Cabin_F G73, Cabin_B50, Name_Kimball, Mr. Edwin Nelson Jr, Ticket_17466, Ticket_17465, Name_Van der hoef, Mr. Wyckoff, Ticket_PC 17473, Cabin_C103, Cabin_C104, Ticket_PC 17477, Ticket_PC 17474, Ticket_PC 17475, Ticket_PC 17572, Name_Dick, Mr. Albert Adrian, Ticket_111320, Name_Partner, Mr. Austen, Name_Ball, Mrs. (Ada E Hall), Cabin_E63, Name_Humblen, Mr. Adolf Mathias Nicolai Olsen, Name_Compton, Miss. Sara Rebecca, Name_Chambers, Mr. Norman Campbell, Name_Ostby, Mr. Engelhart Cornelius, Name_Soholt, Mr. Peter Andreas Lauritz Andersen, Name_Aubart, Mme. Leontine Pauline, Cabin_C82, Cabin_C83, Cabin_C87, Name_Frolicher, Miss. Hedwig Margaritha, Cabin_C2, Name_Cavendish, Mr. Tyrell William, Ticket_36963, Name_Baxter, Mr. Quigg Edmond, Ticket_36967, Name_Moen, Mr. Sigurd Hansen, Name_Thayer, Mr. John Borland Jr, Ticket_5727, Ticket_19943, Ticket_113776, Cabin_B82 B84, Name_Lurette, Miss. Elise, Name_Duff Gordon, Lady. (Lucille Christiana Sutherland) (\"Mrs Morgan\"), Cabin_E38, Name_Carter, Mrs. William Ernest (Lucile Polk), Name_Allen, Miss. Elisabeth Walton, Name_Harris, Mrs. Henry Birkhardt (Irene Wallach), Name_Carter, Mr. William Ernest, Name_Mayne, Mlle. Berthe Antonine (\"Mrs de Villiers\"), Cabin_A36, Name_Calderhead, Mr. Edward Pennington, Cabin_A31, Cabin_E24, Cabin_E25, Cabin_C52, Cabin_C50, Name_Roebling, Mr. Washington Augustus II, Name_Astor, Mrs. John Jacob (Madeleine Talmadge Force), Cabin_C65, Ticket_35281, Name_Cumings, Mrs. John Bradley (Florence Briggs Thayer), Name_Crosby, Miss. Harriet R, Ticket_113788, Name_Smith, Mr. James Clinch, Ticket_113783, Name_Graham, Mrs. William Thompson (Edith Junkins), Ticket_113787, Name_Beckwith, Mrs. Richard Leonard (Sallie Monypeny), Name_Ross, Mr. John Hugo, Cabin_D11, Cabin_D17, Name_Hassab, Mr. Hammad, Cabin_T, Cabin_E58, Ticket_PC 17593, Ticket_PC 17595, Ticket_PC 17596, Name_Beesley, Mr. Lawrence, Cabin_B22, Cabin_B20, Name_Isham, Miss. Ann Elizabeth, Name_Colley, Mr. Edward Pomeroy, Name_Hogeboom, Mrs. John C (Anna Andrews), Name_Flynn, Mr. John Irwin (\"Irving\"), Ticket_392096, Ticket_113043, Ticket_13049, Ticket_SC/Paris 2163, Ticket_113514, Cabin_C110, Name_Newsom, Miss. Helen Monypeny, Name_Hippach, Miss. Jean Gertrude, Ticket_PC 17476, Name_White, Mr. Richard Frasar, Name_Perreault, Miss. Anne, Ticket_34218, Name_Cardeza, Mr. Thomas Drake Martinez, Name_Bjornstrom-Steffansson, Mr. Mauritz Hakan, Name_Marvin, Mr. Daniel Warner, Name_Allison, Mrs. Hudson J C (Bessie Waldo Daniels), Ticket_348123, Name_Nye, Mrs. (Elizabeth Ramell), Cabin_D56, Cabin_D50, Cabin_E17, Cabin_E10, Cabin_E12, Ticket_113760, Ticket_17453, Name_Longley, Miss. Gretchen Fiske, Cabin_C111, Cabin_E121, Name_Penasco y Castellana, Mr. Victor de Satode, Ticket_110413, Cabin_C118, Cabin_D20, Name_Robert, Mrs. Edward Scott (Elisabeth Walton McMillan), Cabin_D26, Name_Stead, Mr. William Thomas, Name_Natsch, Mr. Charles H, Name_Frolicher-Stehli, Mr. Maxmillian, Name_Harper, Mrs. Henry Sleeper (Myna Haxtun), Name_Strom, Mrs. Wilhelm (Elna Matilda Persson), Name_Strom, Miss. Telma Matilda, Name_Pears, Mrs. Thomas (Edith Wearne), Name_Spedden, Mrs. Frederic Oakley (Margaretta Corning Stone), Name_Minahan, Miss. Daisy E, Name_Andrews, Miss. Kornelia Theodosia, Ticket_19952, Name_Rothes, the Countess. of (Lucy Noel Martha Dyer-Edwards), Cabin_B80, Cabin_B86, Name_Potter, Mrs. Thomas Jr (Lily Alexenia Wilson), Ticket_13568, Name_Ryerson, Miss. Emily Borie, Name_Widener, Mr. Harry Elkins, Cabin_A20, Cabin_A23, Cabin_A24, Cabin_A26, Name_Burns, Miss. Elizabeth Margaret, Name_Bishop, Mr. Dickinson H, Name_Crosby, Capt. Edward Gifford, Cabin_C45, Name_Bowerman, Miss. Elsie Edith, Name_Anderson, Mr. Harry, Cabin_C49, Ticket_230080, Ticket_11755, Name_Davidson, Mr. Thornton, Ticket_11752, Ticket_11751, Name_Moor, Master. Meier, Name_Hoyt, Mr. Frederick Maxfield, Ticket_248698, Name_McGough, Mr. James Robert, Name_Moor, Mrs. (Beila), Name_McCarthy, Mr. Timothy J, Name_Carlsson, Mr. Frans Olof, Name_Walker, Mr. William Anderson, Cabin_B38, Cabin_B39, Cabin_E40, Ticket_PC 17582, Cabin_E44, Cabin_B30, Cabin_E49, Cabin_B35, Cabin_B37, Cabin_C30, Name_Maioni, Miss. Roberta, Ticket_17764, Name_Daly, Mr. Peter Denis , Name_Behr, Mr. Karl Howell, Ticket_27042, Name_Navratil, Master. Michel M, Cabin_C126, Cabin_C124, Cabin_C125, Cabin_C123, Name_Kent, Mr. Edward Austin, Name_Sandstrom, Mrs. Hjalmar (Agnes Charlotta Bengtsson), Ticket_113050, Ticket_113051, Ticket_113055, Name_Taussig, Mr. Emil, Name_Allison, Miss. Helen Loraine, Ticket_112059, Ticket_113501, Ticket_113505, Ticket_112050, Ticket_112053, Name_Stephenson, Mrs. Walter Bertram (Martha Eustis), Name_Foreman, Mr. Benjamin Laventall, Name_Swift, Mrs. Frederick Joel (Margaret Welles Barron), Ticket_695, Cabin_D6, Cabin_D7, Ticket_248733, Cabin_D9, Name_Warren, Mrs. Frank Manley (Anna Sophia Atkinson), Name_Appleton, Mrs. Edward Dale (Charlotte Lamson), Ticket_113806, Ticket_113803, Name_Newell, Miss. Marjorie, Name_White, Mr. Percival Wayland, Name_Millet, Mr. Francis Davis, Cabin_A10, Cabin_A16, Name_Lemore, Mrs. (Amelia Milley), Name_Peuchen, Major. Arthur Godfrey, Name_Harrison, Mr. William, Name_Graham, Mr. George Edward, Name_Bonnell, Miss. Elizabeth, Name_Navratil, Master. Edmond Roger, Name_Young, Miss. Marie Grice, Cabin_B77, Cabin_B73, Cabin_B79, Name_Allison, Master. Hudson Trevor, Name_Navratil, Mr. Michel (\"Louis M Hoffman\"), Ticket_112277, Name_Cherry, Miss. Gladys, Ticket_110152, Cabin_B96 B98, Name_Webber, Miss. Susan, Ticket_348124, Name_Endres, Miss. Caroline Louise, Name_Blank, Mr. Henry, Cabin_D33, Cabin_D36, Cabin_D35, Ticket_348121, Name_Brown, Miss. Amelia \"Mildred\", Name_Chaffee, Mr. Herbert Fuller, Name_Molson, Mr. Harry Markland, Ticket_36947, Name_Troutt, Miss. Edwina Celia \"Winnie\", Name_Futrelle, Mrs. Jacques Heath (Lily May Peel), Name_Leader, Dr. Alice (Farnham), Name_Duff Gordon, Sir. Cosmo Edmund (\"Mr Morgan\"), Ticket_C.A. 29395, Name_Penasco y Castellana, Mrs. Victor de Satode (Maria Josefa Perez de Soto y Vallejo), Cabin_B94, Name_Bazzani, Miss. Albina, Name_Taussig, Miss. Ruth, Name_Minahan, Dr. William Edward, Ticket_347054, Name_Harper, Mr. Henry Sleeper, Name_Porter, Mr. Walter Chamberlain, Name_Giglio, Mr. Victor, Ticket_SC/AH Basle 541, Name_Sandstrom, Miss. Marguerite Rut, Ticket_17474, Name_Wick, Miss. Mary Natalie, Cabin_A5, Cabin_A7, Cabin_A6, Name_Lines, Miss. Mary Conover, Name_Graham, Miss. Margaret Edith, Ticket_C.A. 34260, Name_Dodge, Master. Washington, Ticket_PC 17610, Name_Silvey, Mrs. William Baird (Alice Munger), Name_Long, Mr. Milton Clyde, Ticket_19996, Cabin_E77, Cabin_B49, Name_Bishop, Mrs. Dickinson H (Helen Walton), Ticket_110564, Name_Taussig, Mrs. Emil (Tillie Mandelbaum), Name_Carter, Miss. Lucile Polk, Cabin_B42, Name_Stahelin-Maeglin, Dr. Max, Name_Pears, Mr. Thomas Clinton, Name_Brown, Mrs. James Joseph (Margaret Tobin), Name_Guggenheim, Mr. Benjamin, Name_Hoyt, Mrs. Frederick Maxfield (Jane Anne Forby), Cabin_C70, Ticket_111240, Name_Sloper, Mr. William Thompson, Ticket_PC 17485, Ticket_PC 17482, Name_Becker, Master. Richard F, Cabin_C99, Cabin_C93, Cabin_C92, Cabin_C91, Cabin_C90, Cabin_B3, Cabin_B4, Cabin_B5, Ticket_WE/P 5735, Ticket_36973, Name_Mack, Mrs. (Mary), Name_Fortune, Mr. Mark, Name_Jerwan, Mrs. Amin S (Marie Marthe Thuillard), Name_Silvey, Mr. William Baird, Name_Dick, Mrs. Albert Adrian (Vera Gillespie), Name_Harder, Mr. George Achilles, Cabin_B101, Cabin_E8, Name_Beckwith, Mr. Richard Leonard, Name_Sagesser, Mlle. Emma, Name_Goldenberg, Mr. Samuel L, Name_Madill, Miss. Georgette Alexandra, Name_Futrelle, Mr. Jacques Heath, Name_Newell, Miss. Madeleine, Name_Hippach, Mrs. Louis Albert (Ida Sophia Fischer), Name_Becker, Miss. Marion Louise, Cabin_E33, Name_Goldschmidt, Mr. George B, Cabin_E36, Name_Silverthorne, Mr. Spencer Victor, Ticket_110465, Cabin_C148, Ticket_35273, Ticket_11967, Cabin_C68, Name_Chambers, Mrs. Norman Campbell (Bertha Griggs), Ticket_S.O./P.P. 3, Name_Shutes, Miss. Elizabeth W, Name_Gee, Mr. Arthur H, Name_Greenfield, Mr. William Bertram, Name_Harris, Mr. Henry Birkhardt, Name_Thayer, Mr. John Borland, Ticket_PC 17754, Name_Fortune, Miss. Mabel Helen, Ticket_13214, Ticket_111361, Ticket_111369, Ticket_27267, Cabin_B18, Cabin_B19, Ticket_17421, Name_Ryerson, Miss. Susan Parker \"Suzette\", Name_Lesurer, Mr. Gustave J, Name_Douglas, Mr. Walter Donald, Name_Baxter, Mrs. James (Helene DeLaudeniere Chaput), Name_Newell, Mr. Arthur Webster, Name_Barkworth, Mr. Algernon Henry Wilson, Name_Fortune, Miss. Alice Elizabeth, Ticket_113786, Name_Bissette, Miss. Amelia, Name_Simonius-Blumer, Col. Oberst Alfons, Ticket_SOTON/O.Q. 392078, Ticket_113784, Name_Sutton, Mr. Frederick, Ticket_13502, Ticket_13507, Ticket_13509, Name_Carter, Master. William Thornton II, Name_Butt, Major. Archibald Willingham, Name_Fortune, Mr. Charles Alexander, Name_Francatelli, Miss. Laura Mabel, Name_Thayer, Mrs. John Borland (Marian Longstreth Morris), Name_Hays, Mrs. Charles Melville (Clara Jennings Gregg), Name_Pickard, Mr. Berk (Berk Trembisky), Name_Andrews, Mr. Thomas Jr, Ticket_28551, Ticket_11771, Ticket_13213, Name_Levy, Mr. Rene Jacques, Name_Taylor, Mr. Elmer Zebley, Name_Eustis, Miss. Elizabeth Mussey, Cabin_E101, Name_Hays, Miss. Margaret Bechstein in input data\ntraining data did not have the following fields: Ticket_345501, Cabin_D43, Cabin_D40, Cabin_E60, Ticket_7538, Ticket_113778, Ticket_368702, Ticket_240261, Ticket_17464, Cabin_C105, Cabin_C106, Ticket_S.C./PARIS 2079, Ticket_SOTON/O.Q. 3101315, Ticket_SOTON/O.Q. 3101314, Ticket_350410, Ticket_350416, Ticket_28666, Ticket_28664, Cabin_C80, Cabin_C89, Cabin_C6, Ticket_364856, Ticket_STON/O2. 3101270, Ticket_W./C. 6608, Cabin_F E57, Ticket_W./C. 6607, Ticket_364858, Ticket_364859, Ticket_239059, Ticket_SOTON/O.Q. 3101263, Ticket_SOTON/O.Q. 3101262, Ticket_315085, Ticket_315087, Ticket_315083, Ticket_A/5 21175, Ticket_C.A. 30769, Ticket_SOTON/OQ 392083, Ticket_26707, Cabin_C53, Cabin_C51, Ticket_382650, Ticket_3470, Ticket_350026, Ticket_382653, Ticket_SC/PARIS 2148, Ticket_113780, Ticket_SC/PARIS 2147, Ticket_2668, Ticket_2662, Ticket_2660, Ticket_2661, Ticket_PC 17598, Cabin_E52, Ticket_PC 17591, Ticket_PC 17594, Ticket_PC 17597, Cabin_B26, Cabin_B24, Ticket_220844, Ticket_220845, Ticket_382652, Ticket_C.A. 15185, Ticket_F.C.C. 13528, Ticket_2696, Ticket_392095, Ticket_113044, Ticket_392091, Ticket_S.O./P.P. 752, Ticket_237670, Ticket_CA 31352, Ticket_2698, Ticket_347077, Ticket_347075, Ticket_347072, Ticket_347070, Ticket_347079, Ticket_350033, Ticket_A/5. 3337, Ticket_W./C. 14260, Ticket_W./C. 14266, Ticket_SC 14888, Ticket_2692, Ticket_248726, Ticket_349235, Ticket_349232, Ticket_349230, Ticket_248659, Ticket_370129, Ticket_349238, Ticket_2650, Ticket_348125, Ticket_348122, Ticket_28404, Ticket_13236, Ticket_386525, Ticket_345775, Ticket_F.C. 12998, Ticket_2625, Ticket_2622, Ticket_2621, Ticket_329944, Ticket_370368, Cabin_B61, Ticket_A. 2. 39186, Ticket_349909, Ticket_359306, Ticket_345572, Ticket_347091, Ticket_347090, Cabin_C116, Ticket_STON/O 2. 3101268, Ticket_PC 17562, Ticket_SOTON/O.Q. 3101308, Ticket_SOTON/O.Q. 3101309, Ticket_SOTON/O2 3101284, Ticket_SC/Paris 2123, Cabin_D21, Ticket_2652, Ticket_350408, Cabin_D22, Ticket_2657, Ticket_2656, Ticket_2655, Ticket_2654, Ticket_350403, Ticket_2658, Ticket_237734, Ticket_237735, Ticket_350405, Ticket_244346, Ticket_29750, Ticket_242963, Ticket_A/5 1478, Cabin_F E46, Ticket_111163, Ticket_28004, Ticket_335432, Ticket_330910, Ticket_330911, Ticket_A/4 48871, Ticket_A/4 48873, Ticket_24065, Ticket_315095, Ticket_315092, Ticket_315091, Ticket_315154, Ticket_315153, Ticket_315152, Cabin_B45, Ticket_211535, Ticket_26360, Ticket_237249, Cabin_A21, Cabin_A29, Ticket_21228, Ticket_3701, Ticket_349255, Ticket_350053, Ticket_PC 17606, Ticket_350054, Ticket_SC/PARIS 2159, Ticket_28221, Ticket_28220, Ticket_376566, Ticket_376563, Ticket_PC 17585, Ticket_371362, Ticket_PC 17580, Cabin_E45, Ticket_2003, Cabin_B36, Cabin_C31, Cabin_C39, Ticket_17765, Ticket_7266, Ticket_29105, Ticket_29107, Ticket_29103, Ticket_112377, Ticket_F.C.C. 13534, Ticket_1222, Ticket_65305, Ticket_13695, Ticket_371109, Ticket_2684, Ticket_2680, Ticket_2681, Ticket_113054, Ticket_113059, Ticket_2688, Ticket_2689, Ticket_112901, Ticket_112058, Ticket_C.A. 42795, Ticket_347065, Ticket_347066, Ticket_112051, Ticket_S.O./P.P. 251, Ticket_226875, Ticket_694, Cabin_F, Ticket_330963, Ticket_248738, Cabin_B52 B54 B56, Ticket_330968, Ticket_248734, Ticket_349220, Ticket_113801, Ticket_349226, Ticket_349229, Ticket_SC/A4 23568, Ticket_2543, Ticket_250650, Ticket_250651, Cabin_A18, Cabin_A11, Ticket_AQ/4 3130, Ticket_C.A. 6212, Ticket_9232, Ticket_342712, Ticket_112378, Ticket_349256, Ticket_349250, Ticket_28133, Cabin_B78, Ticket_233478, Ticket_347086, Ticket_349910, Ticket_349911, Ticket_PC 17607, Ticket_347080, Ticket_13905, Ticket_363272, Ticket_367226, Ticket_367227, Ticket_PC 17603, Ticket_244358, Cabin_D34, Cabin_D38, Ticket_7548, Ticket_3101266, Ticket_3410, Ticket_237393, Ticket_345771, Ticket_248746, Ticket_248744, Ticket_SC/AH 29037, Ticket_C.A. 31030, Ticket_330924, Ticket_19924, Ticket_28034, Ticket_330920, Ticket_363611, Ticket_S.O.C. 14879, Ticket_C.A. 33595, Ticket_370374, Ticket_370371, Ticket_CA. 2343, Ticket_364498, Cabin_A9, Ticket_228414, Ticket_368573, Cabin_C55 C57, Ticket_349211, Ticket_347471, Ticket_345498, Ticket_PC 17613, Ticket_SC/PARIS 2168, Ticket_350045, Ticket_SC/PARIS 2166, Ticket_SC/PARIS 2167, Ticket_237789, Ticket_365235, Ticket_365237, Ticket_7935, Ticket_17475, Cabin_C28, Ticket_240276, Ticket_17770, Cabin_C130, Cabin_C132, Ticket_13050, Ticket_C.A. 34050, Ticket_PC 17483, Ticket_C.A. 34644, Ticket_244360, Ticket_244368, Ticket_368783, Ticket_C.A. 49867, Cabin_C97, Ticket_32302, Ticket_C 4001, Ticket_343271, Ticket_235509, Ticket_330971, Ticket_330972, Ticket_C.A. 2315, Ticket_1601, Ticket_2926, Ticket_680, Ticket_STON/OQ. 369943, Ticket_4133, Ticket_383162, Ticket_C 17368, Ticket_110489, Ticket_C.A. 37671, Ticket_PC 17531, Ticket_110469, Ticket_21332, Ticket_A/4 31416, Ticket_S.O./P.P. 2, Ticket_C.A. 2673, Ticket_A.5. 3236, Ticket_330844, Ticket_366713, Ticket_113791, Ticket_113790, Ticket_113795, Ticket_113796, Ticket_AQ/3. 30631, Ticket_2675, Ticket_F.C.C. 13540, Ticket_2676, Ticket_2670, Ticket_2673, Ticket_2679, Ticket_2678, Ticket_359309, Cabin_B10, Cabin_B11, Ticket_STON/O 2. 3101291, Ticket_347469, Ticket_C.A. 34651, Ticket_LP 1588, Ticket_3101298, Cabin_E39 E41, Ticket_3101295, Ticket_3101297, Ticket_2653, Ticket_2682, Ticket_C.A. 31029, Ticket_113038, Ticket_36568, Ticket_350409, Ticket_236853, Ticket_236854, Ticket_383123, Ticket_342684, Ticket_A./5. 3338, Ticket_13508, Ticket_334914, Ticket_334915, Ticket_SC/A.3 2861, Ticket_368364, Ticket_233734, Ticket_368402, Ticket_CA 2144, Ticket_A/5. 851, Ticket_349202, Ticket_C.A. 33112, Ticket_347465, Ticket_347467, Ticket_11778, Ticket_11770, Ticket_345768, Ticket_237216, Ticket_345763, Ticket_SC/AH 3085, Ticket_342441"
     ]
    }
   ],
   "source": [
    "loaded_model = pickle.load(open(model_ver, 'rb'))\n",
    "loaded_model.predict(test)"
   ]
  },
  {
   "cell_type": "code",
   "execution_count": null,
   "metadata": {
    "collapsed": true
   },
   "outputs": [],
   "source": []
  },
  {
   "cell_type": "code",
   "execution_count": 28,
   "metadata": {
    "collapsed": false
   },
   "outputs": [
    {
     "ename": "NameError",
     "evalue": "name 'y_test' is not defined",
     "output_type": "error",
     "traceback": [
      "\u001b[0;31m---------------------------------------------------------------------------\u001b[0m",
      "\u001b[0;31mNameError\u001b[0m                                 Traceback (most recent call last)",
      "\u001b[0;32m<ipython-input-28-d2cf81996e3a>\u001b[0m in \u001b[0;36m<module>\u001b[0;34m()\u001b[0m\n\u001b[1;32m      3\u001b[0m \u001b[0;32mfrom\u001b[0m \u001b[0msklearn\u001b[0m\u001b[0;34m.\u001b[0m\u001b[0mmetrics\u001b[0m \u001b[0;32mimport\u001b[0m \u001b[0maccuracy_score\u001b[0m\u001b[0;34m\u001b[0m\u001b[0m\n\u001b[1;32m      4\u001b[0m \u001b[0;34m\u001b[0m\u001b[0m\n\u001b[0;32m----> 5\u001b[0;31m \u001b[0maccuracy_score\u001b[0m\u001b[0;34m(\u001b[0m\u001b[0my_test\u001b[0m\u001b[0;34m,\u001b[0m\u001b[0mclf2\u001b[0m\u001b[0;34m.\u001b[0m\u001b[0mpredict\u001b[0m\u001b[0;34m(\u001b[0m\u001b[0mX_test\u001b[0m\u001b[0;34m)\u001b[0m\u001b[0;34m)\u001b[0m\u001b[0;34m\u001b[0m\u001b[0m\n\u001b[0m\u001b[1;32m      6\u001b[0m \u001b[0mresult\u001b[0m \u001b[0;34m=\u001b[0m \u001b[0mloaded_model\u001b[0m\u001b[0;34m.\u001b[0m\u001b[0mscore\u001b[0m\u001b[0;34m(\u001b[0m\u001b[0mX_test\u001b[0m\u001b[0;34m,\u001b[0m \u001b[0mY_test\u001b[0m\u001b[0;34m)\u001b[0m\u001b[0;34m\u001b[0m\u001b[0m\n\u001b[1;32m      7\u001b[0m \u001b[0;32mprint\u001b[0m\u001b[0;34m(\u001b[0m\u001b[0mresult\u001b[0m\u001b[0;34m)\u001b[0m\u001b[0;34m\u001b[0m\u001b[0m\n",
      "\u001b[0;31mNameError\u001b[0m: name 'y_test' is not defined"
     ]
    }
   ],
   "source": [
    "# load the model from disk\n",
    "loaded_model = pickle.load(open(model_ver, 'rb'))\n",
    "\n",
    "\n",
    "accuracy_score(y_test,clf2.predict(X_test))\n",
    "result = loaded_model.score(X_test, Y_test)\n",
    "print(result)"
   ]
  },
  {
   "cell_type": "code",
   "execution_count": null,
   "metadata": {
    "collapsed": true
   },
   "outputs": [],
   "source": []
  }
 ],
 "metadata": {
  "kernelspec": {
   "display_name": "Python 2",
   "language": "python",
   "name": "python2"
  },
  "language_info": {
   "codemirror_mode": {
    "name": "ipython",
    "version": 2
   },
   "file_extension": ".py",
   "mimetype": "text/x-python",
   "name": "python",
   "nbconvert_exporter": "python",
   "pygments_lexer": "ipython2",
   "version": "2.7.13"
  }
 },
 "nbformat": 4,
 "nbformat_minor": 2
}
