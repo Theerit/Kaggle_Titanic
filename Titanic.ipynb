{
 "cells": [
  {
   "cell_type": "markdown",
   "metadata": {},
   "source": [
    "## Kaggle Titanic"
   ]
  },
  {
   "cell_type": "markdown",
   "metadata": {},
   "source": [
    "### Serious EDA (EDA1/wip)\n",
    "Branched from master to do additional and more comprehensive EDA."
   ]
  },
  {
   "cell_type": "code",
   "execution_count": 6,
   "metadata": {
    "collapsed": true
   },
   "outputs": [
    {
     "name": "stdout",
     "output_type": "stream",
     "text": [
      "  CV_check\n",
      "* EDA1/wip\n",
      "  cost1/feat1/wip\n",
      "  cost1/feat2/wip\n",
      "  cost1/wip\n",
      "  feat1/score1/wip\n",
      "  feat1/wip\n",
      "  feat2/score1/wip\n",
      "  feat2/wip\n",
      "  feat3/wip\n",
      "  feat4/wip\n",
      "  feat5/wip\n",
      "  feat6/wip\n",
      "  master\n"
     ]
    }
   ],
   "source": [
    "%%bash\n",
    "git branch"
   ]
  },
  {
   "cell_type": "code",
   "execution_count": 38,
   "metadata": {
    "collapsed": false
   },
   "outputs": [
    {
     "name": "stdout",
     "output_type": "stream",
     "text": [
      "[EDA1/wip b3afd2b] Added pie plot for survived/not survived\n",
      " 1 file changed, 70 insertions(+), 28 deletions(-)\n",
      "Branch EDA1/wip set up to track remote branch EDA1/wip from origin.\n"
     ]
    },
    {
     "name": "stderr",
     "output_type": "stream",
     "text": [
      "To github.com:Theerit/Kaggle_Titanic.git\n",
      " * [new branch]      EDA1/wip -> EDA1/wip\n"
     ]
    }
   ],
   "source": [
    "%%bash\n",
    "git add 'Titanic.ipynb'\n",
    "git commit -m 'Working on sex feature analyze'\n",
    "git push --set-upstream origin EDA1/wip"
   ]
  },
  {
   "cell_type": "markdown",
   "metadata": {
    "collapsed": true
   },
   "source": [
    "As usual, import all neccasary stuff into the notebook"
   ]
  },
  {
   "cell_type": "code",
   "execution_count": 7,
   "metadata": {
    "collapsed": false
   },
   "outputs": [
    {
     "name": "stderr",
     "output_type": "stream",
     "text": [
      "/Users/theerit/anaconda/envs/ipykernel_py2/lib/python2.7/site-packages/IPython/html.py:14: ShimWarning: The `IPython.html` package has been deprecated. You should import from `notebook` instead. `IPython.html.widgets` has moved to `ipywidgets`.\n",
      "  \"`IPython.html.widgets` has moved to `ipywidgets`.\", ShimWarning)\n"
     ]
    }
   ],
   "source": [
    "%matplotlib inline \n",
    "import requests \n",
    "import StringIO\n",
    "import zipfile\n",
    "import numpy as np\n",
    "import pandas as pd # pandas\n",
    "import matplotlib.pyplot as plt # module for plotting \n",
    "\n",
    "# If this module is not already installed, you may need to install it. \n",
    "# You can do this by typing 'pip install seaborn' in the command line\n",
    "import seaborn as sns \n",
    "\n",
    "import sklearn.model_selection"
   ]
  },
  {
   "cell_type": "markdown",
   "metadata": {},
   "source": [
    "First, I will start by loading the data in panda dataframe and do some EDA."
   ]
  },
  {
   "cell_type": "code",
   "execution_count": 8,
   "metadata": {
    "collapsed": false
   },
   "outputs": [
    {
     "name": "stdout",
     "output_type": "stream",
     "text": [
      "(891, 12)\n"
     ]
    }
   ],
   "source": [
    "train = pd.read_csv('Train.csv')\n",
    "test = pd.read_csv('Test.csv')\n",
    "#Concate train and test to avoid mismatch features in the testing phase\n",
    "train_objs_num = len(train)\n",
    "dataset = pd.concat(objs=[train, test], axis=0)\n",
    "#dataset = pd.get_dummies(dataset)\n",
    "#train = dataset.copy(dataset[:train_objs_num])\n",
    "train = dataset[:train_objs_num].copy()\n",
    "#test = dataset.copy(dataset[train_objs_num:])\n",
    "test = dataset[train_objs_num:].copy()\n",
    "print(train.shape)"
   ]
  },
  {
   "cell_type": "markdown",
   "metadata": {},
   "source": [
    "Take a peek look at raw data table."
   ]
  },
  {
   "cell_type": "code",
   "execution_count": 9,
   "metadata": {
    "collapsed": false
   },
   "outputs": [
    {
     "data": {
      "text/html": [
       "<div>\n",
       "<table border=\"1\" class=\"dataframe\">\n",
       "  <thead>\n",
       "    <tr style=\"text-align: right;\">\n",
       "      <th></th>\n",
       "      <th>Age</th>\n",
       "      <th>Cabin</th>\n",
       "      <th>Embarked</th>\n",
       "      <th>Fare</th>\n",
       "      <th>Name</th>\n",
       "      <th>Parch</th>\n",
       "      <th>PassengerId</th>\n",
       "      <th>Pclass</th>\n",
       "      <th>Sex</th>\n",
       "      <th>SibSp</th>\n",
       "      <th>Survived</th>\n",
       "      <th>Ticket</th>\n",
       "    </tr>\n",
       "  </thead>\n",
       "  <tbody>\n",
       "    <tr>\n",
       "      <th>0</th>\n",
       "      <td>22.0</td>\n",
       "      <td>NaN</td>\n",
       "      <td>S</td>\n",
       "      <td>7.2500</td>\n",
       "      <td>Braund, Mr. Owen Harris</td>\n",
       "      <td>0</td>\n",
       "      <td>1</td>\n",
       "      <td>3</td>\n",
       "      <td>male</td>\n",
       "      <td>1</td>\n",
       "      <td>0.0</td>\n",
       "      <td>A/5 21171</td>\n",
       "    </tr>\n",
       "    <tr>\n",
       "      <th>1</th>\n",
       "      <td>38.0</td>\n",
       "      <td>C85</td>\n",
       "      <td>C</td>\n",
       "      <td>71.2833</td>\n",
       "      <td>Cumings, Mrs. John Bradley (Florence Briggs Th...</td>\n",
       "      <td>0</td>\n",
       "      <td>2</td>\n",
       "      <td>1</td>\n",
       "      <td>female</td>\n",
       "      <td>1</td>\n",
       "      <td>1.0</td>\n",
       "      <td>PC 17599</td>\n",
       "    </tr>\n",
       "    <tr>\n",
       "      <th>2</th>\n",
       "      <td>26.0</td>\n",
       "      <td>NaN</td>\n",
       "      <td>S</td>\n",
       "      <td>7.9250</td>\n",
       "      <td>Heikkinen, Miss. Laina</td>\n",
       "      <td>0</td>\n",
       "      <td>3</td>\n",
       "      <td>3</td>\n",
       "      <td>female</td>\n",
       "      <td>0</td>\n",
       "      <td>1.0</td>\n",
       "      <td>STON/O2. 3101282</td>\n",
       "    </tr>\n",
       "    <tr>\n",
       "      <th>3</th>\n",
       "      <td>35.0</td>\n",
       "      <td>C123</td>\n",
       "      <td>S</td>\n",
       "      <td>53.1000</td>\n",
       "      <td>Futrelle, Mrs. Jacques Heath (Lily May Peel)</td>\n",
       "      <td>0</td>\n",
       "      <td>4</td>\n",
       "      <td>1</td>\n",
       "      <td>female</td>\n",
       "      <td>1</td>\n",
       "      <td>1.0</td>\n",
       "      <td>113803</td>\n",
       "    </tr>\n",
       "    <tr>\n",
       "      <th>4</th>\n",
       "      <td>35.0</td>\n",
       "      <td>NaN</td>\n",
       "      <td>S</td>\n",
       "      <td>8.0500</td>\n",
       "      <td>Allen, Mr. William Henry</td>\n",
       "      <td>0</td>\n",
       "      <td>5</td>\n",
       "      <td>3</td>\n",
       "      <td>male</td>\n",
       "      <td>0</td>\n",
       "      <td>0.0</td>\n",
       "      <td>373450</td>\n",
       "    </tr>\n",
       "  </tbody>\n",
       "</table>\n",
       "</div>"
      ],
      "text/plain": [
       "    Age Cabin Embarked     Fare  \\\n",
       "0  22.0   NaN        S   7.2500   \n",
       "1  38.0   C85        C  71.2833   \n",
       "2  26.0   NaN        S   7.9250   \n",
       "3  35.0  C123        S  53.1000   \n",
       "4  35.0   NaN        S   8.0500   \n",
       "\n",
       "                                                Name  Parch  PassengerId  \\\n",
       "0                            Braund, Mr. Owen Harris      0            1   \n",
       "1  Cumings, Mrs. John Bradley (Florence Briggs Th...      0            2   \n",
       "2                             Heikkinen, Miss. Laina      0            3   \n",
       "3       Futrelle, Mrs. Jacques Heath (Lily May Peel)      0            4   \n",
       "4                           Allen, Mr. William Henry      0            5   \n",
       "\n",
       "   Pclass     Sex  SibSp  Survived            Ticket  \n",
       "0       3    male      1       0.0         A/5 21171  \n",
       "1       1  female      1       1.0          PC 17599  \n",
       "2       3  female      0       1.0  STON/O2. 3101282  \n",
       "3       1  female      1       1.0            113803  \n",
       "4       3    male      0       0.0            373450  "
      ]
     },
     "execution_count": 9,
     "metadata": {},
     "output_type": "execute_result"
    }
   ],
   "source": [
    "train.head()"
   ]
  },
  {
   "cell_type": "markdown",
   "metadata": {},
   "source": [
    "It appears that the test data has no label(answer class) and seems to serve submission function. Cross validation and model evaluation will be done based on the data provided in Train.csv file only. Next, split dataframe into X and Y dataframe where X store the data while Y store the label."
   ]
  },
  {
   "cell_type": "code",
   "execution_count": 41,
   "metadata": {
    "collapsed": false
   },
   "outputs": [],
   "source": [
    "X = train.copy()\n",
    "#X = X.drop('Survived',axis=1)\n",
    "X_plot = train.copy()\n",
    "X = X.drop('PassengerId',axis=1)  # Shouldn't relate to survival chance\n",
    "Y = pd.DataFrame(train['Survived'])"
   ]
  },
  {
   "cell_type": "code",
   "execution_count": 24,
   "metadata": {
    "collapsed": false
   },
   "outputs": [
    {
     "data": {
      "text/plain": [
       "Survived    342\n",
       "dtype: int64"
      ]
     },
     "execution_count": 24,
     "metadata": {},
     "output_type": "execute_result"
    }
   ],
   "source": [
    "Y[Y['Survived']==1].count()"
   ]
  },
  {
   "cell_type": "markdown",
   "metadata": {},
   "source": [
    "### Label Class Distribution\n",
    "Lets take a look at class (Survived) distribution, the distribution is slightly skew where more passengers didn't survive."
   ]
  },
  {
   "cell_type": "code",
   "execution_count": 37,
   "metadata": {
    "collapsed": false
   },
   "outputs": [
    {
     "data": {
      "image/png": "[encoded data removed]",
      "text/plain": [
       "<matplotlib.figure.Figure at 0x11996db50>"
      ]
     },
     "metadata": {},
     "output_type": "display_data"
    }
   ],
   "source": [
    "fig1, ax1 = plt.subplots()\n",
    "explode = (0.05,0.05)\n",
    "sizes = [Y[Y['Survived']==0].count(),Y[Y['Survived']==1].count()]\n",
    "ax1.pie(sizes, explode = explode,labels=['Not survived','Survived'], autopct='%1.1f%%',\n",
    "        shadow=True, startangle=90)\n",
    "ax1.axis('equal')  # Equal aspect ratio ensures that pie is drawn as a circle.\n",
    "plt.show()"
   ]
  },
  {
   "cell_type": "markdown",
   "metadata": {},
   "source": [
    "Sanitizing data, finding all NaN data in X"
   ]
  },
  {
   "cell_type": "code",
   "execution_count": 72,
   "metadata": {
    "collapsed": false
   },
   "outputs": [
    {
     "data": {
      "text/plain": [
       "Age          True\n",
       "Cabin        True\n",
       "Embarked     True\n",
       "Fare        False\n",
       "Name        False\n",
       "Parch       False\n",
       "Pclass      False\n",
       "Sex         False\n",
       "SibSp       False\n",
       "Survived    False\n",
       "Ticket      False\n",
       "dtype: bool"
      ]
     },
     "execution_count": 72,
     "metadata": {},
     "output_type": "execute_result"
    }
   ],
   "source": [
    "X.isnull().any()"
   ]
  },
  {
   "cell_type": "markdown",
   "metadata": {},
   "source": [
    "### Start with categorical feature : Sex"
   ]
  },
  {
   "cell_type": "code",
   "execution_count": 53,
   "metadata": {
    "collapsed": false
   },
   "outputs": [
    {
     "data": {
      "text/plain": [
       "Sex     Survived\n",
       "female  0.0          81\n",
       "        1.0         233\n",
       "male    0.0         468\n",
       "        1.0         109\n",
       "Name: Survived, dtype: int64"
      ]
     },
     "execution_count": 53,
     "metadata": {},
     "output_type": "execute_result"
    }
   ],
   "source": [
    "X_plot.groupby(['Sex','Survived'])['Survived'].count()"
   ]
  },
  {
   "cell_type": "code",
   "execution_count": null,
   "metadata": {
    "collapsed": true
   },
   "outputs": [],
   "source": [
    "f,ax=plt.subplots(1,2,figsize=(18,8))\n",
    "data[['Sex','Survived']].groupby(['Sex']).mean().plot.bar(ax=ax[0])\n",
    "ax[0].set_title('Survived vs Sex')\n",
    "sns.countplot('Sex',hue='Survived',data=data,ax=ax[1])\n",
    "ax[1].set_title('Sex:Survived vs Dead')\n",
    "plt.show()"
   ]
  },
  {
   "cell_type": "markdown",
   "metadata": {},
   "source": [
    "### Pairplot\n",
    "Make a pairplot for all numerical variables"
   ]
  },
  {
   "cell_type": "code",
   "execution_count": 76,
   "metadata": {
    "collapsed": false
   },
   "outputs": [
    {
     "data": {
      "image/png": "[encoded data removed]",
      "text/plain": [
       "<matplotlib.figure.Figure at 0x11185e390>"
      ]
     },
     "metadata": {},
     "output_type": "display_data"
    }
   ],
   "source": [
    "# Make new dataframe for pairplot purpose\n",
    "X_pairplot = X.copy()\n",
    "X_pairplot.loc[X_pairplot['Survived']==1,'Survived'] = 'Survived'\n",
    "X_pairplot.loc[X_pairplot['Survived']==0,'Survived'] = 'Not Survived'\n",
    "\n",
    "#X_pairplot[Survived=0] = 'Not Survived'\n",
    "\n",
    "#Add Survived category to numerical attributes for plotting purpose\n",
    "if 'Survived' not in num_attri:\n",
    "    num_attri = num_attri + ['Survived']\n",
    "    \n",
    "g = sns.pairplot(X_pairplot,hue='Survived')"
   ]
  },
  {
   "cell_type": "markdown",
   "metadata": {},
   "source": [
    "### Dummy Variables\n",
    "For starter, create dummy variables for categorical features."
   ]
  },
  {
   "cell_type": "code",
   "execution_count": 77,
   "metadata": {
    "collapsed": false
   },
   "outputs": [],
   "source": [
    "for column in (cat_attri):\n",
    "    #Lets just keep every categorical attributes for plotting\n",
    "    tempDF = pd.get_dummies(X[column],prefix=column)\n",
    "    X.drop(column,axis=1,inplace=True)\n",
    "    X = X.join(tempDF)"
   ]
  },
  {
   "cell_type": "markdown",
   "metadata": {},
   "source": [
    "### Feature Evaluation\n",
    "For starter using random forest to evaluate feature importance.\n",
    "Code shamelessly brought from:http://scikit-learn.org/stable/auto_examples/ensemble/plot_forest_importances.html"
   ]
  },
  {
   "cell_type": "code",
   "execution_count": 78,
   "metadata": {
    "collapsed": true
   },
   "outputs": [],
   "source": [
    "#Format dataframe for scikit training\n",
    "y = X['Survived']\n",
    "X.drop('Survived',axis=1,inplace=True)"
   ]
  },
  {
   "cell_type": "markdown",
   "metadata": {},
   "source": [
    "Start with numerical feature ranking first"
   ]
  },
  {
   "cell_type": "code",
   "execution_count": 79,
   "metadata": {
    "collapsed": false
   },
   "outputs": [
    {
     "data": {
      "image/png": "[encoded data removed]",
      "text/plain": [
       "<matplotlib.figure.Figure at 0x114c68690>"
      ]
     },
     "metadata": {},
     "output_type": "display_data"
    }
   ],
   "source": [
    "from sklearn.datasets import make_classification\n",
    "from sklearn.ensemble import ExtraTreesClassifier\n",
    "\n",
    "# Build a classification task using 3 informative features\n",
    "#X, y = make_classification(n_samples=1000,\n",
    "#                           n_features=10,\n",
    "#                          n_informative=3,\n",
    "#                           n_redundant=0,\n",
    "#                           n_repeated=0,\n",
    "#                           n_classes=2,\n",
    "#                           random_state=0,\n",
    "#                           shuffle=False)\n",
    "\n",
    "# Build a forest and compute the feature importances\n",
    "forest = ExtraTreesClassifier(n_estimators=250,\n",
    "                              random_state=0)\n",
    "\n",
    "forest.fit(X, y)\n",
    "importances = forest.feature_importances_\n",
    "std = np.std([tree.feature_importances_ for tree in forest.estimators_],\n",
    "             axis=0)\n",
    "indices = np.argsort(importances)[::-1]\n",
    "\n",
    "# Print the feature ranking\n",
    "#print(\"Feature ranking:\")\n",
    "\n",
    "#for f in range(X.shape[1]):\n",
    "#    print(\"%d. feature %d (%f)\" % (f + 1, indices[f], importances[indices[f]]))\n",
    "\n",
    "# Plot the feature importances of the forest\n",
    "plt.figure(figsize=(18,14))\n",
    "plt.title(\"Feature importances\")\n",
    "#plt.bar(range(X.shape[1]), importances[indices],\n",
    "#       color=\"r\", yerr=std[indices], align=\"center\")\n",
    "\n",
    "plt.bar(range(X.shape[1]), importances[indices],\n",
    "       color=\"r\", align=\"center\")\n",
    "\n",
    "plt.xticks(range(X.shape[1]), indices)\n",
    "plt.xlim([-1, X.shape[1]])\n",
    "plt.show()"
   ]
  },
  {
   "cell_type": "markdown",
   "metadata": {},
   "source": [
    "### Model Training\n",
    "For the sake of early versions use all features for learning. Use 5 fold CV grid search (with 1 fold labelled test set and will not be the part of parameter tuning)"
   ]
  },
  {
   "cell_type": "markdown",
   "metadata": {},
   "source": [
    "First split into 4:1 train/CV and test dataset"
   ]
  },
  {
   "cell_type": "code",
   "execution_count": 80,
   "metadata": {
    "collapsed": true
   },
   "outputs": [],
   "source": [
    "from sklearn.model_selection import train_test_split\n",
    "X_train, X_test, y_train, y_test = train_test_split(X, y, test_size=0.2, random_state=42)"
   ]
  },
  {
   "cell_type": "code",
   "execution_count": 81,
   "metadata": {
    "collapsed": false
   },
   "outputs": [
    {
     "name": "stderr",
     "output_type": "stream",
     "text": [
      "/Users/theerit/anaconda/envs/ipykernel_py2/lib/python2.7/site-packages/sklearn/cross_validation.py:44: DeprecationWarning: This module was deprecated in version 0.18 in favor of the model_selection module into which all the refactored classes and functions are moved. Also note that the interface of the new CV iterators are different from that of this module. This module will be removed in 0.20.\n",
      "  \"This module will be removed in 0.20.\", DeprecationWarning)\n",
      "/Users/theerit/anaconda/envs/ipykernel_py2/lib/python2.7/site-packages/sklearn/grid_search.py:43: DeprecationWarning: This module was deprecated in version 0.18 in favor of the model_selection module into which all the refactored classes and functions are moved. This module will be removed in 0.20.\n",
      "  DeprecationWarning)\n"
     ]
    },
    {
     "name": "stdout",
     "output_type": "stream",
     "text": [
      "Fitting 4 folds for each of 48 candidates, totalling 192 fits\n",
      "[CV] objective=binary:logistic, subsample=0.2, learning_rate=0.05, colsample_bytree=0.6, max_depth=5 \n",
      "[CV]  objective=binary:logistic, subsample=0.2, learning_rate=0.05, colsample_bytree=0.6, max_depth=5 -   0.3s\n",
      "[CV] objective=binary:logistic, subsample=0.2, learning_rate=0.05, colsample_bytree=0.6, max_depth=5 \n",
      "[CV]  objective=binary:logistic, subsample=0.2, learning_rate=0.05, colsample_bytree=0.6, max_depth=5 -   0.1s\n",
      "[CV] objective=binary:logistic, subsample=0.2, learning_rate=0.05, colsample_bytree=0.6, max_depth=5 \n"
     ]
    },
    {
     "name": "stderr",
     "output_type": "stream",
     "text": [
      "[Parallel(n_jobs=1)]: Done   1 out of   1 | elapsed:    0.3s remaining:    0.0s\n"
     ]
    },
    {
     "name": "stdout",
     "output_type": "stream",
     "text": [
      "[CV]  objective=binary:logistic, subsample=0.2, learning_rate=0.05, colsample_bytree=0.6, max_depth=5 -   0.2s\n",
      "[CV] objective=binary:logistic, subsample=0.2, learning_rate=0.05, colsample_bytree=0.6, max_depth=5 \n",
      "[CV]  objective=binary:logistic, subsample=0.2, learning_rate=0.05, colsample_bytree=0.6, max_depth=5 -   0.1s\n",
      "[CV] objective=binary:logistic, subsample=0.4, learning_rate=0.05, colsample_bytree=0.6, max_depth=5 \n",
      "[CV]  objective=binary:logistic, subsample=0.4, learning_rate=0.05, colsample_bytree=0.6, max_depth=5 -   0.2s\n",
      "[CV] objective=binary:logistic, subsample=0.4, learning_rate=0.05, colsample_bytree=0.6, max_depth=5 \n",
      "[CV]  objective=binary:logistic, subsample=0.4, learning_rate=0.05, colsample_bytree=0.6, max_depth=5 -   0.3s\n",
      "[CV] objective=binary:logistic, subsample=0.4, learning_rate=0.05, colsample_bytree=0.6, max_depth=5 \n",
      "[CV]  objective=binary:logistic, subsample=0.4, learning_rate=0.05, colsample_bytree=0.6, max_depth=5 -   0.2s\n",
      "[CV] objective=binary:logistic, subsample=0.4, learning_rate=0.05, colsample_bytree=0.6, max_depth=5 \n",
      "[CV]  objective=binary:logistic, subsample=0.4, learning_rate=0.05, colsample_bytree=0.6, max_depth=5 -   0.1s\n",
      "[CV] objective=binary:logistic, subsample=0.6, learning_rate=0.05, colsample_bytree=0.6, max_depth=5 \n",
      "[CV]  objective=binary:logistic, subsample=0.6, learning_rate=0.05, colsample_bytree=0.6, max_depth=5 -   0.2s\n",
      "[CV] objective=binary:logistic, subsample=0.6, learning_rate=0.05, colsample_bytree=0.6, max_depth=5 \n",
      "[CV]  objective=binary:logistic, subsample=0.6, learning_rate=0.05, colsample_bytree=0.6, max_depth=5 -   0.3s\n",
      "[CV] objective=binary:logistic, subsample=0.6, learning_rate=0.05, colsample_bytree=0.6, max_depth=5 \n",
      "[CV]  objective=binary:logistic, subsample=0.6, learning_rate=0.05, colsample_bytree=0.6, max_depth=5 -   0.2s\n",
      "[CV] objective=binary:logistic, subsample=0.6, learning_rate=0.05, colsample_bytree=0.6, max_depth=5 \n",
      "[CV]  objective=binary:logistic, subsample=0.6, learning_rate=0.05, colsample_bytree=0.6, max_depth=5 -   0.2s\n",
      "[CV] objective=binary:logistic, subsample=0.8, learning_rate=0.05, colsample_bytree=0.6, max_depth=5 \n",
      "[CV]  objective=binary:logistic, subsample=0.8, learning_rate=0.05, colsample_bytree=0.6, max_depth=5 -   0.2s\n",
      "[CV] objective=binary:logistic, subsample=0.8, learning_rate=0.05, colsample_bytree=0.6, max_depth=5 \n",
      "[CV]  objective=binary:logistic, subsample=0.8, learning_rate=0.05, colsample_bytree=0.6, max_depth=5 -   0.2s\n",
      "[CV] objective=binary:logistic, subsample=0.8, learning_rate=0.05, colsample_bytree=0.6, max_depth=5 \n",
      "[CV]  objective=binary:logistic, subsample=0.8, learning_rate=0.05, colsample_bytree=0.6, max_depth=5 -   0.2s\n",
      "[CV] objective=binary:logistic, subsample=0.8, learning_rate=0.05, colsample_bytree=0.6, max_depth=5 \n",
      "[CV]  objective=binary:logistic, subsample=0.8, learning_rate=0.05, colsample_bytree=0.6, max_depth=5 -   0.2s\n",
      "[CV] objective=binary:logistic, subsample=0.2, learning_rate=0.05, colsample_bytree=0.6, max_depth=6 \n",
      "[CV]  objective=binary:logistic, subsample=0.2, learning_rate=0.05, colsample_bytree=0.6, max_depth=6 -   0.1s\n",
      "[CV] objective=binary:logistic, subsample=0.2, learning_rate=0.05, colsample_bytree=0.6, max_depth=6 \n",
      "[CV]  objective=binary:logistic, subsample=0.2, learning_rate=0.05, colsample_bytree=0.6, max_depth=6 -   0.2s\n",
      "[CV] objective=binary:logistic, subsample=0.2, learning_rate=0.05, colsample_bytree=0.6, max_depth=6 \n",
      "[CV]  objective=binary:logistic, subsample=0.2, learning_rate=0.05, colsample_bytree=0.6, max_depth=6 -   0.1s\n",
      "[CV] objective=binary:logistic, subsample=0.2, learning_rate=0.05, colsample_bytree=0.6, max_depth=6 \n",
      "[CV]  objective=binary:logistic, subsample=0.2, learning_rate=0.05, colsample_bytree=0.6, max_depth=6 -   0.2s\n",
      "[CV] objective=binary:logistic, subsample=0.4, learning_rate=0.05, colsample_bytree=0.6, max_depth=6 \n",
      "[CV]  objective=binary:logistic, subsample=0.4, learning_rate=0.05, colsample_bytree=0.6, max_depth=6 -   0.1s\n",
      "[CV] objective=binary:logistic, subsample=0.4, learning_rate=0.05, colsample_bytree=0.6, max_depth=6 \n",
      "[CV]  objective=binary:logistic, subsample=0.4, learning_rate=0.05, colsample_bytree=0.6, max_depth=6 -   0.2s\n",
      "[CV] objective=binary:logistic, subsample=0.4, learning_rate=0.05, colsample_bytree=0.6, max_depth=6 \n",
      "[CV]  objective=binary:logistic, subsample=0.4, learning_rate=0.05, colsample_bytree=0.6, max_depth=6 -   0.2s\n",
      "[CV] objective=binary:logistic, subsample=0.4, learning_rate=0.05, colsample_bytree=0.6, max_depth=6 \n",
      "[CV]  objective=binary:logistic, subsample=0.4, learning_rate=0.05, colsample_bytree=0.6, max_depth=6 -   0.2s\n",
      "[CV] objective=binary:logistic, subsample=0.6, learning_rate=0.05, colsample_bytree=0.6, max_depth=6 \n",
      "[CV]  objective=binary:logistic, subsample=0.6, learning_rate=0.05, colsample_bytree=0.6, max_depth=6 -   0.2s\n",
      "[CV] objective=binary:logistic, subsample=0.6, learning_rate=0.05, colsample_bytree=0.6, max_depth=6 \n",
      "[CV]  objective=binary:logistic, subsample=0.6, learning_rate=0.05, colsample_bytree=0.6, max_depth=6 -   0.2s\n",
      "[CV] objective=binary:logistic, subsample=0.6, learning_rate=0.05, colsample_bytree=0.6, max_depth=6 \n",
      "[CV]  objective=binary:logistic, subsample=0.6, learning_rate=0.05, colsample_bytree=0.6, max_depth=6 -   0.2s\n",
      "[CV] objective=binary:logistic, subsample=0.6, learning_rate=0.05, colsample_bytree=0.6, max_depth=6 \n",
      "[CV]  objective=binary:logistic, subsample=0.6, learning_rate=0.05, colsample_bytree=0.6, max_depth=6 -   0.2s\n",
      "[CV] objective=binary:logistic, subsample=0.8, learning_rate=0.05, colsample_bytree=0.6, max_depth=6 \n",
      "[CV]  objective=binary:logistic, subsample=0.8, learning_rate=0.05, colsample_bytree=0.6, max_depth=6 -   0.2s\n",
      "[CV] objective=binary:logistic, subsample=0.8, learning_rate=0.05, colsample_bytree=0.6, max_depth=6 \n",
      "[CV]  objective=binary:logistic, subsample=0.8, learning_rate=0.05, colsample_bytree=0.6, max_depth=6 -   0.3s\n",
      "[CV] objective=binary:logistic, subsample=0.8, learning_rate=0.05, colsample_bytree=0.6, max_depth=6 \n",
      "[CV]  objective=binary:logistic, subsample=0.8, learning_rate=0.05, colsample_bytree=0.6, max_depth=6 -   0.2s\n",
      "[CV] objective=binary:logistic, subsample=0.8, learning_rate=0.05, colsample_bytree=0.6, max_depth=6 \n",
      "[CV]  objective=binary:logistic, subsample=0.8, learning_rate=0.05, colsample_bytree=0.6, max_depth=6 -   0.2s\n",
      "[CV] objective=binary:logistic, subsample=0.2, learning_rate=0.05, colsample_bytree=0.6, max_depth=7 \n",
      "[CV]  objective=binary:logistic, subsample=0.2, learning_rate=0.05, colsample_bytree=0.6, max_depth=7 -   0.1s\n",
      "[CV] objective=binary:logistic, subsample=0.2, learning_rate=0.05, colsample_bytree=0.6, max_depth=7 \n",
      "[CV]  objective=binary:logistic, subsample=0.2, learning_rate=0.05, colsample_bytree=0.6, max_depth=7 -   0.1s\n",
      "[CV] objective=binary:logistic, subsample=0.2, learning_rate=0.05, colsample_bytree=0.6, max_depth=7 \n",
      "[CV]  objective=binary:logistic, subsample=0.2, learning_rate=0.05, colsample_bytree=0.6, max_depth=7 -   0.1s\n",
      "[CV] objective=binary:logistic, subsample=0.2, learning_rate=0.05, colsample_bytree=0.6, max_depth=7 \n",
      "[CV]  objective=binary:logistic, subsample=0.2, learning_rate=0.05, colsample_bytree=0.6, max_depth=7 -   0.1s\n",
      "[CV] objective=binary:logistic, subsample=0.4, learning_rate=0.05, colsample_bytree=0.6, max_depth=7 \n",
      "[CV]  objective=binary:logistic, subsample=0.4, learning_rate=0.05, colsample_bytree=0.6, max_depth=7 -   0.2s\n",
      "[CV] objective=binary:logistic, subsample=0.4, learning_rate=0.05, colsample_bytree=0.6, max_depth=7 \n",
      "[CV]  objective=binary:logistic, subsample=0.4, learning_rate=0.05, colsample_bytree=0.6, max_depth=7 -   0.2s\n",
      "[CV] objective=binary:logistic, subsample=0.4, learning_rate=0.05, colsample_bytree=0.6, max_depth=7 \n",
      "[CV]  objective=binary:logistic, subsample=0.4, learning_rate=0.05, colsample_bytree=0.6, max_depth=7 -   0.2s\n",
      "[CV] objective=binary:logistic, subsample=0.4, learning_rate=0.05, colsample_bytree=0.6, max_depth=7 \n",
      "[CV]  objective=binary:logistic, subsample=0.4, learning_rate=0.05, colsample_bytree=0.6, max_depth=7 -   0.2s\n",
      "[CV] objective=binary:logistic, subsample=0.6, learning_rate=0.05, colsample_bytree=0.6, max_depth=7 \n",
      "[CV]  objective=binary:logistic, subsample=0.6, learning_rate=0.05, colsample_bytree=0.6, max_depth=7 -   0.2s\n",
      "[CV] objective=binary:logistic, subsample=0.6, learning_rate=0.05, colsample_bytree=0.6, max_depth=7 \n",
      "[CV]  objective=binary:logistic, subsample=0.6, learning_rate=0.05, colsample_bytree=0.6, max_depth=7 -   0.3s\n",
      "[CV] objective=binary:logistic, subsample=0.6, learning_rate=0.05, colsample_bytree=0.6, max_depth=7 \n",
      "[CV]  objective=binary:logistic, subsample=0.6, learning_rate=0.05, colsample_bytree=0.6, max_depth=7 -   0.2s\n",
      "[CV] objective=binary:logistic, subsample=0.6, learning_rate=0.05, colsample_bytree=0.6, max_depth=7 \n",
      "[CV]  objective=binary:logistic, subsample=0.6, learning_rate=0.05, colsample_bytree=0.6, max_depth=7 -   0.2s\n",
      "[CV] objective=binary:logistic, subsample=0.8, learning_rate=0.05, colsample_bytree=0.6, max_depth=7 \n",
      "[CV]  objective=binary:logistic, subsample=0.8, learning_rate=0.05, colsample_bytree=0.6, max_depth=7 -   0.2s\n",
      "[CV] objective=binary:logistic, subsample=0.8, learning_rate=0.05, colsample_bytree=0.6, max_depth=7 \n",
      "[CV]  objective=binary:logistic, subsample=0.8, learning_rate=0.05, colsample_bytree=0.6, max_depth=7 -   0.3s\n",
      "[CV] objective=binary:logistic, subsample=0.8, learning_rate=0.05, colsample_bytree=0.6, max_depth=7 \n",
      "[CV]  objective=binary:logistic, subsample=0.8, learning_rate=0.05, colsample_bytree=0.6, max_depth=7 -   0.3s\n",
      "[CV] objective=binary:logistic, subsample=0.8, learning_rate=0.05, colsample_bytree=0.6, max_depth=7 \n",
      "[CV]  objective=binary:logistic, subsample=0.8, learning_rate=0.05, colsample_bytree=0.6, max_depth=7 -   0.3s\n",
      "[CV] objective=binary:logistic, subsample=0.2, learning_rate=0.05, colsample_bytree=0.6, max_depth=8 \n",
      "[CV]  objective=binary:logistic, subsample=0.2, learning_rate=0.05, colsample_bytree=0.6, max_depth=8 -   0.1s\n",
      "[CV] objective=binary:logistic, subsample=0.2, learning_rate=0.05, colsample_bytree=0.6, max_depth=8 \n",
      "[CV]  objective=binary:logistic, subsample=0.2, learning_rate=0.05, colsample_bytree=0.6, max_depth=8 -   0.1s\n",
      "[CV] objective=binary:logistic, subsample=0.2, learning_rate=0.05, colsample_bytree=0.6, max_depth=8 \n",
      "[CV]  objective=binary:logistic, subsample=0.2, learning_rate=0.05, colsample_bytree=0.6, max_depth=8 -   0.1s\n",
      "[CV] objective=binary:logistic, subsample=0.2, learning_rate=0.05, colsample_bytree=0.6, max_depth=8 \n",
      "[CV]  objective=binary:logistic, subsample=0.2, learning_rate=0.05, colsample_bytree=0.6, max_depth=8 -   0.1s\n",
      "[CV] objective=binary:logistic, subsample=0.4, learning_rate=0.05, colsample_bytree=0.6, max_depth=8 \n",
      "[CV]  objective=binary:logistic, subsample=0.4, learning_rate=0.05, colsample_bytree=0.6, max_depth=8 -   0.2s\n",
      "[CV] objective=binary:logistic, subsample=0.4, learning_rate=0.05, colsample_bytree=0.6, max_depth=8 \n",
      "[CV]  objective=binary:logistic, subsample=0.4, learning_rate=0.05, colsample_bytree=0.6, max_depth=8 -   0.2s\n",
      "[CV] objective=binary:logistic, subsample=0.4, learning_rate=0.05, colsample_bytree=0.6, max_depth=8 \n",
      "[CV]  objective=binary:logistic, subsample=0.4, learning_rate=0.05, colsample_bytree=0.6, max_depth=8 -   0.2s\n",
      "[CV] objective=binary:logistic, subsample=0.4, learning_rate=0.05, colsample_bytree=0.6, max_depth=8 \n",
      "[CV]  objective=binary:logistic, subsample=0.4, learning_rate=0.05, colsample_bytree=0.6, max_depth=8 -   0.2s\n",
      "[CV] objective=binary:logistic, subsample=0.6, learning_rate=0.05, colsample_bytree=0.6, max_depth=8 \n",
      "[CV]  objective=binary:logistic, subsample=0.6, learning_rate=0.05, colsample_bytree=0.6, max_depth=8 -   0.2s\n",
      "[CV] objective=binary:logistic, subsample=0.6, learning_rate=0.05, colsample_bytree=0.6, max_depth=8 \n",
      "[CV]  objective=binary:logistic, subsample=0.6, learning_rate=0.05, colsample_bytree=0.6, max_depth=8 -   0.2s\n",
      "[CV] objective=binary:logistic, subsample=0.6, learning_rate=0.05, colsample_bytree=0.6, max_depth=8 \n",
      "[CV]  objective=binary:logistic, subsample=0.6, learning_rate=0.05, colsample_bytree=0.6, max_depth=8 -   0.2s\n",
      "[CV] objective=binary:logistic, subsample=0.6, learning_rate=0.05, colsample_bytree=0.6, max_depth=8 \n",
      "[CV]  objective=binary:logistic, subsample=0.6, learning_rate=0.05, colsample_bytree=0.6, max_depth=8 -   0.2s\n",
      "[CV] objective=binary:logistic, subsample=0.8, learning_rate=0.05, colsample_bytree=0.6, max_depth=8 \n",
      "[CV]  objective=binary:logistic, subsample=0.8, learning_rate=0.05, colsample_bytree=0.6, max_depth=8 -   0.2s\n",
      "[CV] objective=binary:logistic, subsample=0.8, learning_rate=0.05, colsample_bytree=0.6, max_depth=8 \n",
      "[CV]  objective=binary:logistic, subsample=0.8, learning_rate=0.05, colsample_bytree=0.6, max_depth=8 -   0.3s\n",
      "[CV] objective=binary:logistic, subsample=0.8, learning_rate=0.05, colsample_bytree=0.6, max_depth=8 \n",
      "[CV]  objective=binary:logistic, subsample=0.8, learning_rate=0.05, colsample_bytree=0.6, max_depth=8 -   0.3s\n",
      "[CV] objective=binary:logistic, subsample=0.8, learning_rate=0.05, colsample_bytree=0.6, max_depth=8 \n",
      "[CV]  objective=binary:logistic, subsample=0.8, learning_rate=0.05, colsample_bytree=0.6, max_depth=8 -   0.3s\n",
      "[CV] objective=binary:logistic, subsample=0.2, learning_rate=0.05, colsample_bytree=0.7, max_depth=5 \n",
      "[CV]  objective=binary:logistic, subsample=0.2, learning_rate=0.05, colsample_bytree=0.7, max_depth=5 -   0.2s\n",
      "[CV] objective=binary:logistic, subsample=0.2, learning_rate=0.05, colsample_bytree=0.7, max_depth=5 \n",
      "[CV]  objective=binary:logistic, subsample=0.2, learning_rate=0.05, colsample_bytree=0.7, max_depth=5 -   0.1s\n",
      "[CV] objective=binary:logistic, subsample=0.2, learning_rate=0.05, colsample_bytree=0.7, max_depth=5 \n",
      "[CV]  objective=binary:logistic, subsample=0.2, learning_rate=0.05, colsample_bytree=0.7, max_depth=5 -   0.1s\n",
      "[CV] objective=binary:logistic, subsample=0.2, learning_rate=0.05, colsample_bytree=0.7, max_depth=5 \n",
      "[CV]  objective=binary:logistic, subsample=0.2, learning_rate=0.05, colsample_bytree=0.7, max_depth=5 -   0.1s\n",
      "[CV] objective=binary:logistic, subsample=0.4, learning_rate=0.05, colsample_bytree=0.7, max_depth=5 \n",
      "[CV]  objective=binary:logistic, subsample=0.4, learning_rate=0.05, colsample_bytree=0.7, max_depth=5 -   0.2s\n",
      "[CV] objective=binary:logistic, subsample=0.4, learning_rate=0.05, colsample_bytree=0.7, max_depth=5 \n",
      "[CV]  objective=binary:logistic, subsample=0.4, learning_rate=0.05, colsample_bytree=0.7, max_depth=5 -   0.2s\n",
      "[CV] objective=binary:logistic, subsample=0.4, learning_rate=0.05, colsample_bytree=0.7, max_depth=5 \n",
      "[CV]  objective=binary:logistic, subsample=0.4, learning_rate=0.05, colsample_bytree=0.7, max_depth=5 -   0.2s\n",
      "[CV] objective=binary:logistic, subsample=0.4, learning_rate=0.05, colsample_bytree=0.7, max_depth=5 \n",
      "[CV]  objective=binary:logistic, subsample=0.4, learning_rate=0.05, colsample_bytree=0.7, max_depth=5 -   0.2s\n",
      "[CV] objective=binary:logistic, subsample=0.6, learning_rate=0.05, colsample_bytree=0.7, max_depth=5 \n",
      "[CV]  objective=binary:logistic, subsample=0.6, learning_rate=0.05, colsample_bytree=0.7, max_depth=5 -   0.2s\n",
      "[CV] objective=binary:logistic, subsample=0.6, learning_rate=0.05, colsample_bytree=0.7, max_depth=5 \n",
      "[CV]  objective=binary:logistic, subsample=0.6, learning_rate=0.05, colsample_bytree=0.7, max_depth=5 -   0.3s\n",
      "[CV] objective=binary:logistic, subsample=0.6, learning_rate=0.05, colsample_bytree=0.7, max_depth=5 \n",
      "[CV]  objective=binary:logistic, subsample=0.6, learning_rate=0.05, colsample_bytree=0.7, max_depth=5 -   0.2s\n",
      "[CV] objective=binary:logistic, subsample=0.6, learning_rate=0.05, colsample_bytree=0.7, max_depth=5 \n",
      "[CV]  objective=binary:logistic, subsample=0.6, learning_rate=0.05, colsample_bytree=0.7, max_depth=5 -   0.2s\n",
      "[CV] objective=binary:logistic, subsample=0.8, learning_rate=0.05, colsample_bytree=0.7, max_depth=5 \n",
      "[CV]  objective=binary:logistic, subsample=0.8, learning_rate=0.05, colsample_bytree=0.7, max_depth=5 -   0.3s\n",
      "[CV] objective=binary:logistic, subsample=0.8, learning_rate=0.05, colsample_bytree=0.7, max_depth=5 \n",
      "[CV]  objective=binary:logistic, subsample=0.8, learning_rate=0.05, colsample_bytree=0.7, max_depth=5 -   0.2s\n",
      "[CV] objective=binary:logistic, subsample=0.8, learning_rate=0.05, colsample_bytree=0.7, max_depth=5 \n",
      "[CV]  objective=binary:logistic, subsample=0.8, learning_rate=0.05, colsample_bytree=0.7, max_depth=5 -   0.3s\n",
      "[CV] objective=binary:logistic, subsample=0.8, learning_rate=0.05, colsample_bytree=0.7, max_depth=5 \n",
      "[CV]  objective=binary:logistic, subsample=0.8, learning_rate=0.05, colsample_bytree=0.7, max_depth=5 -   0.2s\n",
      "[CV] objective=binary:logistic, subsample=0.2, learning_rate=0.05, colsample_bytree=0.7, max_depth=6 \n",
      "[CV]  objective=binary:logistic, subsample=0.2, learning_rate=0.05, colsample_bytree=0.7, max_depth=6 -   0.1s\n",
      "[CV] objective=binary:logistic, subsample=0.2, learning_rate=0.05, colsample_bytree=0.7, max_depth=6 \n",
      "[CV]  objective=binary:logistic, subsample=0.2, learning_rate=0.05, colsample_bytree=0.7, max_depth=6 -   0.1s\n",
      "[CV] objective=binary:logistic, subsample=0.2, learning_rate=0.05, colsample_bytree=0.7, max_depth=6 \n",
      "[CV]  objective=binary:logistic, subsample=0.2, learning_rate=0.05, colsample_bytree=0.7, max_depth=6 -   0.1s\n",
      "[CV] objective=binary:logistic, subsample=0.2, learning_rate=0.05, colsample_bytree=0.7, max_depth=6 \n",
      "[CV]  objective=binary:logistic, subsample=0.2, learning_rate=0.05, colsample_bytree=0.7, max_depth=6 -   0.1s\n",
      "[CV] objective=binary:logistic, subsample=0.4, learning_rate=0.05, colsample_bytree=0.7, max_depth=6 \n",
      "[CV]  objective=binary:logistic, subsample=0.4, learning_rate=0.05, colsample_bytree=0.7, max_depth=6 -   0.2s\n",
      "[CV] objective=binary:logistic, subsample=0.4, learning_rate=0.05, colsample_bytree=0.7, max_depth=6 \n",
      "[CV]  objective=binary:logistic, subsample=0.4, learning_rate=0.05, colsample_bytree=0.7, max_depth=6 -   0.2s\n",
      "[CV] objective=binary:logistic, subsample=0.4, learning_rate=0.05, colsample_bytree=0.7, max_depth=6 \n",
      "[CV]  objective=binary:logistic, subsample=0.4, learning_rate=0.05, colsample_bytree=0.7, max_depth=6 -   0.2s\n",
      "[CV] objective=binary:logistic, subsample=0.4, learning_rate=0.05, colsample_bytree=0.7, max_depth=6 \n",
      "[CV]  objective=binary:logistic, subsample=0.4, learning_rate=0.05, colsample_bytree=0.7, max_depth=6 -   0.2s\n",
      "[CV] objective=binary:logistic, subsample=0.6, learning_rate=0.05, colsample_bytree=0.7, max_depth=6 \n",
      "[CV]  objective=binary:logistic, subsample=0.6, learning_rate=0.05, colsample_bytree=0.7, max_depth=6 -   0.2s\n",
      "[CV] objective=binary:logistic, subsample=0.6, learning_rate=0.05, colsample_bytree=0.7, max_depth=6 \n",
      "[CV]  objective=binary:logistic, subsample=0.6, learning_rate=0.05, colsample_bytree=0.7, max_depth=6 -   0.2s\n",
      "[CV] objective=binary:logistic, subsample=0.6, learning_rate=0.05, colsample_bytree=0.7, max_depth=6 \n",
      "[CV]  objective=binary:logistic, subsample=0.6, learning_rate=0.05, colsample_bytree=0.7, max_depth=6 -   0.2s\n",
      "[CV] objective=binary:logistic, subsample=0.6, learning_rate=0.05, colsample_bytree=0.7, max_depth=6 \n",
      "[CV]  objective=binary:logistic, subsample=0.6, learning_rate=0.05, colsample_bytree=0.7, max_depth=6 -   0.2s\n",
      "[CV] objective=binary:logistic, subsample=0.8, learning_rate=0.05, colsample_bytree=0.7, max_depth=6 \n",
      "[CV]  objective=binary:logistic, subsample=0.8, learning_rate=0.05, colsample_bytree=0.7, max_depth=6 -   0.3s\n",
      "[CV] objective=binary:logistic, subsample=0.8, learning_rate=0.05, colsample_bytree=0.7, max_depth=6 \n",
      "[CV]  objective=binary:logistic, subsample=0.8, learning_rate=0.05, colsample_bytree=0.7, max_depth=6 -   0.3s\n",
      "[CV] objective=binary:logistic, subsample=0.8, learning_rate=0.05, colsample_bytree=0.7, max_depth=6 \n",
      "[CV]  objective=binary:logistic, subsample=0.8, learning_rate=0.05, colsample_bytree=0.7, max_depth=6 -   0.3s\n",
      "[CV] objective=binary:logistic, subsample=0.8, learning_rate=0.05, colsample_bytree=0.7, max_depth=6 \n",
      "[CV]  objective=binary:logistic, subsample=0.8, learning_rate=0.05, colsample_bytree=0.7, max_depth=6 -   0.2s\n",
      "[CV] objective=binary:logistic, subsample=0.2, learning_rate=0.05, colsample_bytree=0.7, max_depth=7 \n",
      "[CV]  objective=binary:logistic, subsample=0.2, learning_rate=0.05, colsample_bytree=0.7, max_depth=7 -   0.1s\n",
      "[CV] objective=binary:logistic, subsample=0.2, learning_rate=0.05, colsample_bytree=0.7, max_depth=7 \n",
      "[CV]  objective=binary:logistic, subsample=0.2, learning_rate=0.05, colsample_bytree=0.7, max_depth=7 -   0.1s\n",
      "[CV] objective=binary:logistic, subsample=0.2, learning_rate=0.05, colsample_bytree=0.7, max_depth=7 \n",
      "[CV]  objective=binary:logistic, subsample=0.2, learning_rate=0.05, colsample_bytree=0.7, max_depth=7 -   0.2s\n",
      "[CV] objective=binary:logistic, subsample=0.2, learning_rate=0.05, colsample_bytree=0.7, max_depth=7 \n",
      "[CV]  objective=binary:logistic, subsample=0.2, learning_rate=0.05, colsample_bytree=0.7, max_depth=7 -   0.1s\n",
      "[CV] objective=binary:logistic, subsample=0.4, learning_rate=0.05, colsample_bytree=0.7, max_depth=7 \n",
      "[CV]  objective=binary:logistic, subsample=0.4, learning_rate=0.05, colsample_bytree=0.7, max_depth=7 -   0.1s\n",
      "[CV] objective=binary:logistic, subsample=0.4, learning_rate=0.05, colsample_bytree=0.7, max_depth=7 \n",
      "[CV]  objective=binary:logistic, subsample=0.4, learning_rate=0.05, colsample_bytree=0.7, max_depth=7 -   0.2s\n",
      "[CV] objective=binary:logistic, subsample=0.4, learning_rate=0.05, colsample_bytree=0.7, max_depth=7 \n",
      "[CV]  objective=binary:logistic, subsample=0.4, learning_rate=0.05, colsample_bytree=0.7, max_depth=7 -   0.2s\n",
      "[CV] objective=binary:logistic, subsample=0.4, learning_rate=0.05, colsample_bytree=0.7, max_depth=7 \n",
      "[CV]  objective=binary:logistic, subsample=0.4, learning_rate=0.05, colsample_bytree=0.7, max_depth=7 -   0.2s\n",
      "[CV] objective=binary:logistic, subsample=0.6, learning_rate=0.05, colsample_bytree=0.7, max_depth=7 \n",
      "[CV]  objective=binary:logistic, subsample=0.6, learning_rate=0.05, colsample_bytree=0.7, max_depth=7 -   0.2s\n",
      "[CV] objective=binary:logistic, subsample=0.6, learning_rate=0.05, colsample_bytree=0.7, max_depth=7 \n",
      "[CV]  objective=binary:logistic, subsample=0.6, learning_rate=0.05, colsample_bytree=0.7, max_depth=7 -   0.3s\n",
      "[CV] objective=binary:logistic, subsample=0.6, learning_rate=0.05, colsample_bytree=0.7, max_depth=7 \n",
      "[CV]  objective=binary:logistic, subsample=0.6, learning_rate=0.05, colsample_bytree=0.7, max_depth=7 -   0.2s\n",
      "[CV] objective=binary:logistic, subsample=0.6, learning_rate=0.05, colsample_bytree=0.7, max_depth=7 \n",
      "[CV]  objective=binary:logistic, subsample=0.6, learning_rate=0.05, colsample_bytree=0.7, max_depth=7 -   0.2s\n",
      "[CV] objective=binary:logistic, subsample=0.8, learning_rate=0.05, colsample_bytree=0.7, max_depth=7 \n",
      "[CV]  objective=binary:logistic, subsample=0.8, learning_rate=0.05, colsample_bytree=0.7, max_depth=7 -   0.2s\n",
      "[CV] objective=binary:logistic, subsample=0.8, learning_rate=0.05, colsample_bytree=0.7, max_depth=7 \n",
      "[CV]  objective=binary:logistic, subsample=0.8, learning_rate=0.05, colsample_bytree=0.7, max_depth=7 -   0.3s\n",
      "[CV] objective=binary:logistic, subsample=0.8, learning_rate=0.05, colsample_bytree=0.7, max_depth=7 \n",
      "[CV]  objective=binary:logistic, subsample=0.8, learning_rate=0.05, colsample_bytree=0.7, max_depth=7 -   0.3s\n",
      "[CV] objective=binary:logistic, subsample=0.8, learning_rate=0.05, colsample_bytree=0.7, max_depth=7 \n",
      "[CV]  objective=binary:logistic, subsample=0.8, learning_rate=0.05, colsample_bytree=0.7, max_depth=7 -   0.2s\n",
      "[CV] objective=binary:logistic, subsample=0.2, learning_rate=0.05, colsample_bytree=0.7, max_depth=8 \n",
      "[CV]  objective=binary:logistic, subsample=0.2, learning_rate=0.05, colsample_bytree=0.7, max_depth=8 -   0.1s\n",
      "[CV] objective=binary:logistic, subsample=0.2, learning_rate=0.05, colsample_bytree=0.7, max_depth=8 \n",
      "[CV]  objective=binary:logistic, subsample=0.2, learning_rate=0.05, colsample_bytree=0.7, max_depth=8 -   0.2s\n",
      "[CV] objective=binary:logistic, subsample=0.2, learning_rate=0.05, colsample_bytree=0.7, max_depth=8 \n",
      "[CV]  objective=binary:logistic, subsample=0.2, learning_rate=0.05, colsample_bytree=0.7, max_depth=8 -   0.1s\n",
      "[CV] objective=binary:logistic, subsample=0.2, learning_rate=0.05, colsample_bytree=0.7, max_depth=8 \n",
      "[CV]  objective=binary:logistic, subsample=0.2, learning_rate=0.05, colsample_bytree=0.7, max_depth=8 -   0.1s\n",
      "[CV] objective=binary:logistic, subsample=0.4, learning_rate=0.05, colsample_bytree=0.7, max_depth=8 \n",
      "[CV]  objective=binary:logistic, subsample=0.4, learning_rate=0.05, colsample_bytree=0.7, max_depth=8 -   0.2s\n",
      "[CV] objective=binary:logistic, subsample=0.4, learning_rate=0.05, colsample_bytree=0.7, max_depth=8 \n",
      "[CV]  objective=binary:logistic, subsample=0.4, learning_rate=0.05, colsample_bytree=0.7, max_depth=8 -   0.2s\n",
      "[CV] objective=binary:logistic, subsample=0.4, learning_rate=0.05, colsample_bytree=0.7, max_depth=8 \n",
      "[CV]  objective=binary:logistic, subsample=0.4, learning_rate=0.05, colsample_bytree=0.7, max_depth=8 -   0.2s\n",
      "[CV] objective=binary:logistic, subsample=0.4, learning_rate=0.05, colsample_bytree=0.7, max_depth=8 \n",
      "[CV]  objective=binary:logistic, subsample=0.4, learning_rate=0.05, colsample_bytree=0.7, max_depth=8 -   0.2s\n",
      "[CV] objective=binary:logistic, subsample=0.6, learning_rate=0.05, colsample_bytree=0.7, max_depth=8 \n",
      "[CV]  objective=binary:logistic, subsample=0.6, learning_rate=0.05, colsample_bytree=0.7, max_depth=8 -   0.2s\n",
      "[CV] objective=binary:logistic, subsample=0.6, learning_rate=0.05, colsample_bytree=0.7, max_depth=8 \n",
      "[CV]  objective=binary:logistic, subsample=0.6, learning_rate=0.05, colsample_bytree=0.7, max_depth=8 -   0.3s\n",
      "[CV] objective=binary:logistic, subsample=0.6, learning_rate=0.05, colsample_bytree=0.7, max_depth=8 \n",
      "[CV]  objective=binary:logistic, subsample=0.6, learning_rate=0.05, colsample_bytree=0.7, max_depth=8 -   0.2s\n",
      "[CV] objective=binary:logistic, subsample=0.6, learning_rate=0.05, colsample_bytree=0.7, max_depth=8 \n",
      "[CV]  objective=binary:logistic, subsample=0.6, learning_rate=0.05, colsample_bytree=0.7, max_depth=8 -   0.2s\n",
      "[CV] objective=binary:logistic, subsample=0.8, learning_rate=0.05, colsample_bytree=0.7, max_depth=8 \n",
      "[CV]  objective=binary:logistic, subsample=0.8, learning_rate=0.05, colsample_bytree=0.7, max_depth=8 -   0.3s\n",
      "[CV] objective=binary:logistic, subsample=0.8, learning_rate=0.05, colsample_bytree=0.7, max_depth=8 \n",
      "[CV]  objective=binary:logistic, subsample=0.8, learning_rate=0.05, colsample_bytree=0.7, max_depth=8 -   0.3s\n",
      "[CV] objective=binary:logistic, subsample=0.8, learning_rate=0.05, colsample_bytree=0.7, max_depth=8 \n",
      "[CV]  objective=binary:logistic, subsample=0.8, learning_rate=0.05, colsample_bytree=0.7, max_depth=8 -   0.3s\n",
      "[CV] objective=binary:logistic, subsample=0.8, learning_rate=0.05, colsample_bytree=0.7, max_depth=8 \n",
      "[CV]  objective=binary:logistic, subsample=0.8, learning_rate=0.05, colsample_bytree=0.7, max_depth=8 -   0.3s\n",
      "[CV] objective=binary:logistic, subsample=0.2, learning_rate=0.05, colsample_bytree=0.8, max_depth=5 \n",
      "[CV]  objective=binary:logistic, subsample=0.2, learning_rate=0.05, colsample_bytree=0.8, max_depth=5 -   0.1s\n",
      "[CV] objective=binary:logistic, subsample=0.2, learning_rate=0.05, colsample_bytree=0.8, max_depth=5 \n",
      "[CV]  objective=binary:logistic, subsample=0.2, learning_rate=0.05, colsample_bytree=0.8, max_depth=5 -   0.1s\n",
      "[CV] objective=binary:logistic, subsample=0.2, learning_rate=0.05, colsample_bytree=0.8, max_depth=5 \n",
      "[CV]  objective=binary:logistic, subsample=0.2, learning_rate=0.05, colsample_bytree=0.8, max_depth=5 -   0.2s\n",
      "[CV] objective=binary:logistic, subsample=0.2, learning_rate=0.05, colsample_bytree=0.8, max_depth=5 \n",
      "[CV]  objective=binary:logistic, subsample=0.2, learning_rate=0.05, colsample_bytree=0.8, max_depth=5 -   0.2s\n",
      "[CV] objective=binary:logistic, subsample=0.4, learning_rate=0.05, colsample_bytree=0.8, max_depth=5 \n",
      "[CV]  objective=binary:logistic, subsample=0.4, learning_rate=0.05, colsample_bytree=0.8, max_depth=5 -   0.2s\n",
      "[CV] objective=binary:logistic, subsample=0.4, learning_rate=0.05, colsample_bytree=0.8, max_depth=5 \n",
      "[CV]  objective=binary:logistic, subsample=0.4, learning_rate=0.05, colsample_bytree=0.8, max_depth=5 -   0.2s\n",
      "[CV] objective=binary:logistic, subsample=0.4, learning_rate=0.05, colsample_bytree=0.8, max_depth=5 \n",
      "[CV]  objective=binary:logistic, subsample=0.4, learning_rate=0.05, colsample_bytree=0.8, max_depth=5 -   0.2s\n",
      "[CV] objective=binary:logistic, subsample=0.4, learning_rate=0.05, colsample_bytree=0.8, max_depth=5 \n",
      "[CV]  objective=binary:logistic, subsample=0.4, learning_rate=0.05, colsample_bytree=0.8, max_depth=5 -   0.2s\n",
      "[CV] objective=binary:logistic, subsample=0.6, learning_rate=0.05, colsample_bytree=0.8, max_depth=5 \n",
      "[CV]  objective=binary:logistic, subsample=0.6, learning_rate=0.05, colsample_bytree=0.8, max_depth=5 -   0.3s\n",
      "[CV] objective=binary:logistic, subsample=0.6, learning_rate=0.05, colsample_bytree=0.8, max_depth=5 \n",
      "[CV]  objective=binary:logistic, subsample=0.6, learning_rate=0.05, colsample_bytree=0.8, max_depth=5 -   0.3s\n",
      "[CV] objective=binary:logistic, subsample=0.6, learning_rate=0.05, colsample_bytree=0.8, max_depth=5 \n",
      "[CV]  objective=binary:logistic, subsample=0.6, learning_rate=0.05, colsample_bytree=0.8, max_depth=5 -   0.2s\n",
      "[CV] objective=binary:logistic, subsample=0.6, learning_rate=0.05, colsample_bytree=0.8, max_depth=5 \n",
      "[CV]  objective=binary:logistic, subsample=0.6, learning_rate=0.05, colsample_bytree=0.8, max_depth=5 -   0.3s\n",
      "[CV] objective=binary:logistic, subsample=0.8, learning_rate=0.05, colsample_bytree=0.8, max_depth=5 \n",
      "[CV]  objective=binary:logistic, subsample=0.8, learning_rate=0.05, colsample_bytree=0.8, max_depth=5 -   0.3s\n",
      "[CV] objective=binary:logistic, subsample=0.8, learning_rate=0.05, colsample_bytree=0.8, max_depth=5 \n",
      "[CV]  objective=binary:logistic, subsample=0.8, learning_rate=0.05, colsample_bytree=0.8, max_depth=5 -   0.3s\n",
      "[CV] objective=binary:logistic, subsample=0.8, learning_rate=0.05, colsample_bytree=0.8, max_depth=5 \n",
      "[CV]  objective=binary:logistic, subsample=0.8, learning_rate=0.05, colsample_bytree=0.8, max_depth=5 -   0.3s\n",
      "[CV] objective=binary:logistic, subsample=0.8, learning_rate=0.05, colsample_bytree=0.8, max_depth=5 \n",
      "[CV]  objective=binary:logistic, subsample=0.8, learning_rate=0.05, colsample_bytree=0.8, max_depth=5 -   0.2s\n",
      "[CV] objective=binary:logistic, subsample=0.2, learning_rate=0.05, colsample_bytree=0.8, max_depth=6 \n",
      "[CV]  objective=binary:logistic, subsample=0.2, learning_rate=0.05, colsample_bytree=0.8, max_depth=6 -   0.1s\n",
      "[CV] objective=binary:logistic, subsample=0.2, learning_rate=0.05, colsample_bytree=0.8, max_depth=6 \n",
      "[CV]  objective=binary:logistic, subsample=0.2, learning_rate=0.05, colsample_bytree=0.8, max_depth=6 -   0.2s\n",
      "[CV] objective=binary:logistic, subsample=0.2, learning_rate=0.05, colsample_bytree=0.8, max_depth=6 \n",
      "[CV]  objective=binary:logistic, subsample=0.2, learning_rate=0.05, colsample_bytree=0.8, max_depth=6 -   0.1s\n",
      "[CV] objective=binary:logistic, subsample=0.2, learning_rate=0.05, colsample_bytree=0.8, max_depth=6 \n",
      "[CV]  objective=binary:logistic, subsample=0.2, learning_rate=0.05, colsample_bytree=0.8, max_depth=6 -   0.2s\n",
      "[CV] objective=binary:logistic, subsample=0.4, learning_rate=0.05, colsample_bytree=0.8, max_depth=6 \n",
      "[CV]  objective=binary:logistic, subsample=0.4, learning_rate=0.05, colsample_bytree=0.8, max_depth=6 -   0.2s\n",
      "[CV] objective=binary:logistic, subsample=0.4, learning_rate=0.05, colsample_bytree=0.8, max_depth=6 \n",
      "[CV]  objective=binary:logistic, subsample=0.4, learning_rate=0.05, colsample_bytree=0.8, max_depth=6 -   0.2s\n",
      "[CV] objective=binary:logistic, subsample=0.4, learning_rate=0.05, colsample_bytree=0.8, max_depth=6 \n",
      "[CV]  objective=binary:logistic, subsample=0.4, learning_rate=0.05, colsample_bytree=0.8, max_depth=6 -   0.2s\n",
      "[CV] objective=binary:logistic, subsample=0.4, learning_rate=0.05, colsample_bytree=0.8, max_depth=6 \n",
      "[CV]  objective=binary:logistic, subsample=0.4, learning_rate=0.05, colsample_bytree=0.8, max_depth=6 -   0.2s\n",
      "[CV] objective=binary:logistic, subsample=0.6, learning_rate=0.05, colsample_bytree=0.8, max_depth=6 \n",
      "[CV]  objective=binary:logistic, subsample=0.6, learning_rate=0.05, colsample_bytree=0.8, max_depth=6 -   0.2s\n",
      "[CV] objective=binary:logistic, subsample=0.6, learning_rate=0.05, colsample_bytree=0.8, max_depth=6 \n",
      "[CV]  objective=binary:logistic, subsample=0.6, learning_rate=0.05, colsample_bytree=0.8, max_depth=6 -   0.3s\n",
      "[CV] objective=binary:logistic, subsample=0.6, learning_rate=0.05, colsample_bytree=0.8, max_depth=6 \n",
      "[CV]  objective=binary:logistic, subsample=0.6, learning_rate=0.05, colsample_bytree=0.8, max_depth=6 -   0.3s\n",
      "[CV] objective=binary:logistic, subsample=0.6, learning_rate=0.05, colsample_bytree=0.8, max_depth=6 \n",
      "[CV]  objective=binary:logistic, subsample=0.6, learning_rate=0.05, colsample_bytree=0.8, max_depth=6 -   0.2s\n",
      "[CV] objective=binary:logistic, subsample=0.8, learning_rate=0.05, colsample_bytree=0.8, max_depth=6 \n",
      "[CV]  objective=binary:logistic, subsample=0.8, learning_rate=0.05, colsample_bytree=0.8, max_depth=6 -   0.3s\n",
      "[CV] objective=binary:logistic, subsample=0.8, learning_rate=0.05, colsample_bytree=0.8, max_depth=6 \n",
      "[CV]  objective=binary:logistic, subsample=0.8, learning_rate=0.05, colsample_bytree=0.8, max_depth=6 -   0.3s\n",
      "[CV] objective=binary:logistic, subsample=0.8, learning_rate=0.05, colsample_bytree=0.8, max_depth=6 \n",
      "[CV]  objective=binary:logistic, subsample=0.8, learning_rate=0.05, colsample_bytree=0.8, max_depth=6 -   0.3s\n",
      "[CV] objective=binary:logistic, subsample=0.8, learning_rate=0.05, colsample_bytree=0.8, max_depth=6 \n",
      "[CV]  objective=binary:logistic, subsample=0.8, learning_rate=0.05, colsample_bytree=0.8, max_depth=6 -   0.3s\n",
      "[CV] objective=binary:logistic, subsample=0.2, learning_rate=0.05, colsample_bytree=0.8, max_depth=7 \n",
      "[CV]  objective=binary:logistic, subsample=0.2, learning_rate=0.05, colsample_bytree=0.8, max_depth=7 -   0.1s\n",
      "[CV] objective=binary:logistic, subsample=0.2, learning_rate=0.05, colsample_bytree=0.8, max_depth=7 \n",
      "[CV]  objective=binary:logistic, subsample=0.2, learning_rate=0.05, colsample_bytree=0.8, max_depth=7 -   0.1s\n",
      "[CV] objective=binary:logistic, subsample=0.2, learning_rate=0.05, colsample_bytree=0.8, max_depth=7 \n",
      "[CV]  objective=binary:logistic, subsample=0.2, learning_rate=0.05, colsample_bytree=0.8, max_depth=7 -   0.1s\n",
      "[CV] objective=binary:logistic, subsample=0.2, learning_rate=0.05, colsample_bytree=0.8, max_depth=7 \n",
      "[CV]  objective=binary:logistic, subsample=0.2, learning_rate=0.05, colsample_bytree=0.8, max_depth=7 -   0.2s\n",
      "[CV] objective=binary:logistic, subsample=0.4, learning_rate=0.05, colsample_bytree=0.8, max_depth=7 \n",
      "[CV]  objective=binary:logistic, subsample=0.4, learning_rate=0.05, colsample_bytree=0.8, max_depth=7 -   0.2s\n",
      "[CV] objective=binary:logistic, subsample=0.4, learning_rate=0.05, colsample_bytree=0.8, max_depth=7 \n",
      "[CV]  objective=binary:logistic, subsample=0.4, learning_rate=0.05, colsample_bytree=0.8, max_depth=7 -   0.2s\n",
      "[CV] objective=binary:logistic, subsample=0.4, learning_rate=0.05, colsample_bytree=0.8, max_depth=7 \n",
      "[CV]  objective=binary:logistic, subsample=0.4, learning_rate=0.05, colsample_bytree=0.8, max_depth=7 -   0.2s\n",
      "[CV] objective=binary:logistic, subsample=0.4, learning_rate=0.05, colsample_bytree=0.8, max_depth=7 \n",
      "[CV]  objective=binary:logistic, subsample=0.4, learning_rate=0.05, colsample_bytree=0.8, max_depth=7 -   0.2s\n",
      "[CV] objective=binary:logistic, subsample=0.6, learning_rate=0.05, colsample_bytree=0.8, max_depth=7 \n",
      "[CV]  objective=binary:logistic, subsample=0.6, learning_rate=0.05, colsample_bytree=0.8, max_depth=7 -   0.2s\n",
      "[CV] objective=binary:logistic, subsample=0.6, learning_rate=0.05, colsample_bytree=0.8, max_depth=7 \n",
      "[CV]  objective=binary:logistic, subsample=0.6, learning_rate=0.05, colsample_bytree=0.8, max_depth=7 -   0.2s\n",
      "[CV] objective=binary:logistic, subsample=0.6, learning_rate=0.05, colsample_bytree=0.8, max_depth=7 \n",
      "[CV]  objective=binary:logistic, subsample=0.6, learning_rate=0.05, colsample_bytree=0.8, max_depth=7 -   0.2s\n",
      "[CV] objective=binary:logistic, subsample=0.6, learning_rate=0.05, colsample_bytree=0.8, max_depth=7 \n",
      "[CV]  objective=binary:logistic, subsample=0.6, learning_rate=0.05, colsample_bytree=0.8, max_depth=7 -   0.2s\n",
      "[CV] objective=binary:logistic, subsample=0.8, learning_rate=0.05, colsample_bytree=0.8, max_depth=7 \n",
      "[CV]  objective=binary:logistic, subsample=0.8, learning_rate=0.05, colsample_bytree=0.8, max_depth=7 -   0.2s\n",
      "[CV] objective=binary:logistic, subsample=0.8, learning_rate=0.05, colsample_bytree=0.8, max_depth=7 \n",
      "[CV]  objective=binary:logistic, subsample=0.8, learning_rate=0.05, colsample_bytree=0.8, max_depth=7 -   0.3s\n",
      "[CV] objective=binary:logistic, subsample=0.8, learning_rate=0.05, colsample_bytree=0.8, max_depth=7 \n",
      "[CV]  objective=binary:logistic, subsample=0.8, learning_rate=0.05, colsample_bytree=0.8, max_depth=7 -   0.3s\n",
      "[CV] objective=binary:logistic, subsample=0.8, learning_rate=0.05, colsample_bytree=0.8, max_depth=7 \n",
      "[CV]  objective=binary:logistic, subsample=0.8, learning_rate=0.05, colsample_bytree=0.8, max_depth=7 -   0.3s\n",
      "[CV] objective=binary:logistic, subsample=0.2, learning_rate=0.05, colsample_bytree=0.8, max_depth=8 \n",
      "[CV]  objective=binary:logistic, subsample=0.2, learning_rate=0.05, colsample_bytree=0.8, max_depth=8 -   0.2s\n",
      "[CV] objective=binary:logistic, subsample=0.2, learning_rate=0.05, colsample_bytree=0.8, max_depth=8 \n",
      "[CV]  objective=binary:logistic, subsample=0.2, learning_rate=0.05, colsample_bytree=0.8, max_depth=8 -   0.2s\n",
      "[CV] objective=binary:logistic, subsample=0.2, learning_rate=0.05, colsample_bytree=0.8, max_depth=8 \n",
      "[CV]  objective=binary:logistic, subsample=0.2, learning_rate=0.05, colsample_bytree=0.8, max_depth=8 -   0.2s\n",
      "[CV] objective=binary:logistic, subsample=0.2, learning_rate=0.05, colsample_bytree=0.8, max_depth=8 \n",
      "[CV]  objective=binary:logistic, subsample=0.2, learning_rate=0.05, colsample_bytree=0.8, max_depth=8 -   0.2s\n",
      "[CV] objective=binary:logistic, subsample=0.4, learning_rate=0.05, colsample_bytree=0.8, max_depth=8 \n",
      "[CV]  objective=binary:logistic, subsample=0.4, learning_rate=0.05, colsample_bytree=0.8, max_depth=8 -   0.2s\n",
      "[CV] objective=binary:logistic, subsample=0.4, learning_rate=0.05, colsample_bytree=0.8, max_depth=8 \n",
      "[CV]  objective=binary:logistic, subsample=0.4, learning_rate=0.05, colsample_bytree=0.8, max_depth=8 -   0.2s\n",
      "[CV] objective=binary:logistic, subsample=0.4, learning_rate=0.05, colsample_bytree=0.8, max_depth=8 \n",
      "[CV]  objective=binary:logistic, subsample=0.4, learning_rate=0.05, colsample_bytree=0.8, max_depth=8 -   0.2s\n",
      "[CV] objective=binary:logistic, subsample=0.4, learning_rate=0.05, colsample_bytree=0.8, max_depth=8 \n",
      "[CV]  objective=binary:logistic, subsample=0.4, learning_rate=0.05, colsample_bytree=0.8, max_depth=8 -   0.2s\n",
      "[CV] objective=binary:logistic, subsample=0.6, learning_rate=0.05, colsample_bytree=0.8, max_depth=8 \n",
      "[CV]  objective=binary:logistic, subsample=0.6, learning_rate=0.05, colsample_bytree=0.8, max_depth=8 -   0.2s\n",
      "[CV] objective=binary:logistic, subsample=0.6, learning_rate=0.05, colsample_bytree=0.8, max_depth=8 \n",
      "[CV]  objective=binary:logistic, subsample=0.6, learning_rate=0.05, colsample_bytree=0.8, max_depth=8 -   0.3s\n",
      "[CV] objective=binary:logistic, subsample=0.6, learning_rate=0.05, colsample_bytree=0.8, max_depth=8 \n",
      "[CV]  objective=binary:logistic, subsample=0.6, learning_rate=0.05, colsample_bytree=0.8, max_depth=8 -   0.3s\n",
      "[CV] objective=binary:logistic, subsample=0.6, learning_rate=0.05, colsample_bytree=0.8, max_depth=8 \n",
      "[CV]  objective=binary:logistic, subsample=0.6, learning_rate=0.05, colsample_bytree=0.8, max_depth=8 -   0.2s\n",
      "[CV] objective=binary:logistic, subsample=0.8, learning_rate=0.05, colsample_bytree=0.8, max_depth=8 \n",
      "[CV]  objective=binary:logistic, subsample=0.8, learning_rate=0.05, colsample_bytree=0.8, max_depth=8 -   0.3s\n",
      "[CV] objective=binary:logistic, subsample=0.8, learning_rate=0.05, colsample_bytree=0.8, max_depth=8 \n",
      "[CV]  objective=binary:logistic, subsample=0.8, learning_rate=0.05, colsample_bytree=0.8, max_depth=8 -   0.3s\n",
      "[CV] objective=binary:logistic, subsample=0.8, learning_rate=0.05, colsample_bytree=0.8, max_depth=8 \n",
      "[CV]  objective=binary:logistic, subsample=0.8, learning_rate=0.05, colsample_bytree=0.8, max_depth=8 -   0.4s\n",
      "[CV] objective=binary:logistic, subsample=0.8, learning_rate=0.05, colsample_bytree=0.8, max_depth=8 \n",
      "[CV]  objective=binary:logistic, subsample=0.8, learning_rate=0.05, colsample_bytree=0.8, max_depth=8 -   0.3s\n"
     ]
    },
    {
     "name": "stderr",
     "output_type": "stream",
     "text": [
      "[Parallel(n_jobs=1)]: Done 192 out of 192 | elapsed:   41.7s finished\n"
     ]
    }
   ],
   "source": [
    "import xgboost as xgb\n",
    "from sklearn.grid_search import GridSearchCV\n",
    "\n",
    "clf = xgb.XGBClassifier(\n",
    "        nthread = 1,\n",
    "        silent = 1,\n",
    "        )\n",
    "# specify parameters via map\n",
    "parameters = {'objective':['binary:logistic'],\n",
    "              'learning_rate': [0.05], #so called `eta` value\n",
    "              'max_depth': [5,6,7,8],\n",
    "              'subsample': [0.2,0.4,0.6,0.8],\n",
    "              'colsample_bytree': [0.6,0.7,0.8]}\n",
    "xgb_model = xgb.XGBClassifier()\n",
    "clf = GridSearchCV(xgb_model, parameters, n_jobs=1, \n",
    "                   cv=4, \n",
    "                   scoring='roc_auc',\n",
    "                   verbose=2, refit=False)\n",
    "clf.fit(X_train,y_train)\n",
    "best_param_4CV = clf.best_params_"
   ]
  },
  {
   "cell_type": "markdown",
   "metadata": {},
   "source": [
    "Performance on the 4thCV fold"
   ]
  },
  {
   "cell_type": "code",
   "execution_count": 82,
   "metadata": {
    "collapsed": false
   },
   "outputs": [
    {
     "name": "stdout",
     "output_type": "stream",
     "text": [
      "Best AUC score:0.832411789124\n",
      "Best Param:{'objective': 'binary:logistic', 'subsample': 0.6, 'learning_rate': 0.05, 'colsample_bytree': 0.7, 'max_depth': 5}\n"
     ]
    }
   ],
   "source": [
    "print('Best AUC score:'+str(clf.best_score_))\n",
    "print('Best Param:' +str(clf.best_params_))"
   ]
  },
  {
   "cell_type": "markdown",
   "metadata": {},
   "source": [
    "Now check performance on accuracy basis."
   ]
  },
  {
   "cell_type": "code",
   "execution_count": 83,
   "metadata": {
    "collapsed": false
   },
   "outputs": [
    {
     "name": "stdout",
     "output_type": "stream",
     "text": [
      "Accuracy:0.917808219178\n"
     ]
    }
   ],
   "source": [
    "clf2 = xgb.XGBClassifier(\n",
    "        nthread = 1,\n",
    "        silent = 1,\n",
    "        colsample_bytree = best_param_4CV['colsample_bytree'],\n",
    "        learning_rate = best_param_4CV['learning_rate'],\n",
    "        max_depth =  best_param_4CV['max_depth'],\n",
    "        objective = best_param_4CV['objective'],\n",
    "        subsample = best_param_4CV['subsample']\n",
    "        )\n",
    "clf2.fit(X_train,y_train)\n",
    "from sklearn.metrics import accuracy_score\n",
    "print('Accuracy:'+str(accuracy_score(y_train,clf2.predict(X_train))))"
   ]
  },
  {
   "cell_type": "code",
   "execution_count": 86,
   "metadata": {
    "collapsed": true
   },
   "outputs": [],
   "source": [
    "import pickle\n",
    "# save the model to disk\n",
    "filename = 'master.sav'\n",
    "pickle.dump(clf2, open(filename, 'wb'))"
   ]
  },
  {
   "cell_type": "markdown",
   "metadata": {},
   "source": [
    "Now check performance on the test set."
   ]
  },
  {
   "cell_type": "code",
   "execution_count": 84,
   "metadata": {
    "collapsed": false
   },
   "outputs": [
    {
     "name": "stdout",
     "output_type": "stream",
     "text": [
      "Test set AUC score:0.67701863354\n",
      "Test set Accuracy:0.702702702703\n"
     ]
    }
   ],
   "source": [
    "from sklearn.metrics import accuracy_score\n",
    "from sklearn.metrics import roc_auc_score\n",
    "print('Test set AUC score:'+str(roc_auc_score(y_test,clf2.predict(X_test))))\n",
    "print('Test set Accuracy:'+str(accuracy_score(y_test,clf2.predict(X_test))))"
   ]
  },
  {
   "cell_type": "code",
   "execution_count": null,
   "metadata": {
    "collapsed": true
   },
   "outputs": [],
   "source": []
  }
 ],
 "metadata": {
  "kernelspec": {
   "display_name": "Python 2",
   "language": "python",
   "name": "python2"
  },
  "language_info": {
   "codemirror_mode": {
    "name": "ipython",
    "version": 2
   },
   "file_extension": ".py",
   "mimetype": "text/x-python",
   "name": "python",
   "nbconvert_exporter": "python",
   "pygments_lexer": "ipython2",
   "version": "2.7.13"
  }
 },
 "nbformat": 4,
 "nbformat_minor": 2
}
